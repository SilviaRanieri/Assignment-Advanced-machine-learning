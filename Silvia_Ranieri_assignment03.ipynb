{
  "nbformat": 4,
  "nbformat_minor": 0,
  "metadata": {
    "accelerator": "GPU",
    "colab": {
      "name": "Silvia_Ranieri_assignment03.ipynb",
      "provenance": [],
      "collapsed_sections": []
    },
    "kernelspec": {
      "display_name": "Python 3",
      "language": "python",
      "name": "python3"
    },
    "language_info": {
      "codemirror_mode": {
        "name": "ipython",
        "version": 3
      },
      "file_extension": ".py",
      "mimetype": "text/x-python",
      "name": "python",
      "nbconvert_exporter": "python",
      "pygments_lexer": "ipython3",
      "version": "3.8.5"
    }
  },
  "cells": [
    {
      "cell_type": "markdown",
      "metadata": {
        "id": "glx6MMb_E3Nb"
      },
      "source": [
        "# **Advanced Machine Learning - **<br/>\n",
        "**Master's Degree in Data Science (A.Y. 2021/2022)**<br/>\n",
        "**University of Milano - Bicocca**<br/>\n",
        "\n",
        "Assignment 03\n",
        "\n",
        "Silvia Ranieri 878067\n"
      ]
    },
    {
      "cell_type": "markdown",
      "metadata": {
        "id": "SYRUVEowOm1y"
      },
      "source": [
        "La relazione deve contenere:\n",
        "- una descrizione dell'architettura progettata\n",
        "- i parametri contano per ogni strato\n",
        "- gli iperparametri utilizzati per l'addestramento (dimensione batch, tasso di apprendimento, ottimizzatore, numero di epoche, ecc.)\n",
        "- un grafico della perdita/accuratezza della formazione e della convalida\n",
        "- prestazioni di classificazione su formazione, convalida (se utilizzata) e set di test\n"
      ]
    },
    {
      "cell_type": "markdown",
      "metadata": {
        "id": "H9ozDG56Otad"
      },
      "source": [
        "#LIBRERIE"
      ]
    },
    {
      "cell_type": "code",
      "metadata": {
        "id": "9-tZOLE8E5FB"
      },
      "source": [
        "import numpy as np \n",
        "from tensorflow import keras\n",
        "from tensorflow.keras import layers\n",
        "from matplotlib import pyplot as plt\n",
        "import seaborn as sns\n",
        "import tensorflow as tf"
      ],
      "execution_count": null,
      "outputs": []
    },
    {
      "cell_type": "markdown",
      "metadata": {
        "id": "k1DU0FBcOyuC"
      },
      "source": [
        "#Preparazione dei dati\n",
        "\n",
        "**Obiettivo**: La CNN deve essere progettata con l'obiettivo di raggiungere la massima precisione possibile sul set di prova, con il vincolo rigido di un massimo di 6K parametri apprendibili.\n",
        "\n",
        "Set di dati: Set di dati di input: cifre MNIST (dimensioni di input 28x28x1, numero di classi: 10).\n",
        "\n",
        "Questo dataset è composto da un set di addestramento di 60.000 esempi e un set di test di 10.000.\n",
        "\n",
        " Le cifre Mnist vanno da 0 a 9, quindi questo è un problema di classificazione multiclasse con 10 classi e l'immagine di input è (28 x 28).\n",
        "\n",
        "In primo luogo, si normalizza nella scala di grigi per ridurre l'effetto delle differenze di illuminazione al fine di facilitare il training. Dopo si passa a espandere la dimensione dei dati 28x28x1 per gestire l'input della CNN. \n",
        "\n",
        "Vengono convertiti i dati di train e test in una matrice di classe binaria con dieci caratteristiche.\n"
      ]
    },
    {
      "cell_type": "code",
      "metadata": {
        "colab": {
          "base_uri": "https://localhost:8080/",
          "height": 316
        },
        "id": "h6gKZciBE57-",
        "outputId": "b9556c7a-43c2-4288-a863-dacd170ce315"
      },
      "source": [
        "# Model/data parameters \n",
        "num_classes = 10 #digits 0-9\n",
        "input_shape = (28,28,1)\n",
        "\n",
        "# load the data and divide it into train/test split\n",
        "(x_train, y_train), (x_test, y_test) = keras.datasets.mnist.load_data()\n",
        "\n",
        "x_train= x_train.astype(\"float32\") / 255\n",
        "x_test, x_test.astype(\"float32\") / 255\n",
        "\n",
        "# plot some samples\n",
        "image_index  = 7777\n",
        "print(y_train[image_index])\n",
        "plt.imshow(x_train[image_index],cmap='gray')\n",
        "plt.axis(\"off\")\n",
        "plt.show()"
      ],
      "execution_count": null,
      "outputs": [
        {
          "name": "stdout",
          "output_type": "stream",
          "text": [
            "8\n"
          ]
        },
        {
          "data": {
            "image/png": "[encoded data removed]",
            "text/plain": [
              "<Figure size 432x288 with 1 Axes>"
            ]
          },
          "metadata": {
            "needs_background": "light"
          },
          "output_type": "display_data"
        }
      ]
    },
    {
      "cell_type": "code",
      "metadata": {
        "colab": {
          "base_uri": "https://localhost:8080/"
        },
        "id": "uOmVT1ofE8Tq",
        "outputId": "2d40ce8c-394b-41ed-8107-47221de15d58"
      },
      "source": [
        "x_train.shape"
      ],
      "execution_count": null,
      "outputs": [
        {
          "data": {
            "text/plain": [
              "(60000, 28, 28)"
            ]
          },
          "execution_count": 39,
          "metadata": {},
          "output_type": "execute_result"
        }
      ]
    },
    {
      "cell_type": "code",
      "metadata": {
        "colab": {
          "base_uri": "https://localhost:8080/"
        },
        "id": "XMLbh1HrE-c7",
        "outputId": "4fd2379d-48e2-4656-cd89-e92abf87ce2d"
      },
      "source": [
        "#expand dimension of our data (28,28,1)\n",
        "x_train = np.expand_dims(x_train, -1)\n",
        "x_test = np.expand_dims(x_test, -1)\n",
        "print(\"x_train shape: \", x_train.shape)\n",
        "print(\"x_train samples: \", x_train.shape[0])\n",
        "print(\"x_test sample: \", x_test.shape[0])   "
      ],
      "execution_count": null,
      "outputs": [
        {
          "name": "stdout",
          "output_type": "stream",
          "text": [
            "x_train shape:  (60000, 28, 28, 1)\n",
            "x_train samples:  60000\n",
            "x_test sample:  10000\n"
          ]
        }
      ]
    },
    {
      "cell_type": "code",
      "metadata": {
        "colab": {
          "base_uri": "https://localhost:8080/"
        },
        "id": "P-qGzc5kFDK4",
        "outputId": "6ffe3b03-57c1-4821-9e2c-e16c01b3f1e3"
      },
      "source": [
        "#convert class vectors to binary class matrics\n",
        "y_train = keras.utils.to_categorical(y_train, num_classes)\n",
        "y_test = keras.utils.to_categorical(y_test, num_classes)\n",
        "y_train.shape"
      ],
      "execution_count": null,
      "outputs": [
        {
          "data": {
            "text/plain": [
              "(60000, 10)"
            ]
          },
          "execution_count": 41,
          "metadata": {},
          "output_type": "execute_result"
        }
      ]
    },
    {
      "cell_type": "markdown",
      "metadata": {
        "id": "WMaEsgueO-gg"
      },
      "source": [
        "Definisco le metriche che mi serviranno per valutare il modello e le sue performance:"
      ]
    },
    {
      "cell_type": "code",
      "metadata": {
        "id": "rm2HiyV340qb"
      },
      "source": [
        "#definizione delle metriche:\n",
        "from keras import backend as K\n",
        "\n",
        "def recall_m(y_true, y_pred):\n",
        "    true_positives = K.sum(K.round(K.clip(y_true * y_pred, 0, 1)))\n",
        "    possible_positives = K.sum(K.round(K.clip(y_true, 0, 1)))\n",
        "    recall = true_positives / (possible_positives + K.epsilon())\n",
        "    return recall\n",
        "\n",
        "def precision_m(y_true, y_pred):\n",
        "    true_positives = K.sum(K.round(K.clip(y_true * y_pred, 0, 1)))\n",
        "    predicted_positives = K.sum(K.round(K.clip(y_pred, 0, 1)))\n",
        "    precision = true_positives / (predicted_positives + K.epsilon())\n",
        "    return precision\n",
        "\n",
        "def f1_m(y_true, y_pred):\n",
        "    precision = precision_m(y_true, y_pred)\n",
        "    recall = recall_m(y_true, y_pred)\n",
        "    return 2*((precision*recall)/(precision+recall+K.epsilon()))"
      ],
      "execution_count": null,
      "outputs": []
    },
    {
      "cell_type": "markdown",
      "metadata": {
        "id": "28soj_2oOedd"
      },
      "source": [
        "#MODELLO\n",
        "\n",
        "Per soddisfare il vincolo e mantenere il numero di parametri sotto 6k, il modello ha 2 livelli di convoluzione con dimensione 8 per ogni livello, mentre la dimensione del filtro è (3x3x1). Dopo un livello di pooling massimo di 2x2. Poi uno strato convoluzione di 16 con dimensione del filtro è (3x3) e livello di polling 2x2. Il totale dei parametri è 5842.\n",
        "Attraverso la regolarizzazione (Dropout) viene eliminato il 30% dei neuroni. \n",
        "\n",
        "**Funzione di attivazione:** scelgo la funzione ReLU che è adatta per questo modello e in generale è una buona scelta per i livelli nascosti.\n",
        "\n"
      ]
    },
    {
      "cell_type": "code",
      "metadata": {
        "colab": {
          "base_uri": "https://localhost:8080/"
        },
        "id": "v3vlSj1GFJd-",
        "outputId": "7de0cf4d-e8b4-441d-f505-8a7b67c26f13"
      },
      "source": [
        "model = keras.Sequential (\n",
        "    [\n",
        "      keras.Input(shape =  input_shape),\n",
        "    \n",
        "      layers.Conv2D(8, kernel_size=(3,3), activation='relu'),\n",
        "      layers.Conv2D(8, kernel_size=(3,3), activation='relu'),\n",
        "      layers.MaxPool2D(pool_size=(2,2)),\n",
        "     \n",
        "      layers.Conv2D(16, kernel_size=(3,3), activation='relu'),\n",
        "      layers.MaxPool2D(pool_size=(2,2)),\n",
        "      \n",
        "      layers.Flatten(),\n",
        "      layers.Dropout(0.3),\n",
        "      layers.Dense(num_classes, activation='softmax'),\n",
        "    ]\n",
        ")\n",
        "model.summary()"
      ],
      "execution_count": null,
      "outputs": [
        {
          "name": "stdout",
          "output_type": "stream",
          "text": [
            "WARNING:tensorflow:Please add `keras.layers.InputLayer` instead of `keras.Input` to Sequential model. `keras.Input` is intended to be used by Functional model.\n",
            "Model: \"sequential_2\"\n",
            "_________________________________________________________________\n",
            "Layer (type)                 Output Shape              Param #   \n",
            "=================================================================\n",
            "conv2d_6 (Conv2D)            (None, 26, 26, 8)         80        \n",
            "_________________________________________________________________\n",
            "conv2d_7 (Conv2D)            (None, 24, 24, 8)         584       \n",
            "_________________________________________________________________\n",
            "max_pooling2d_4 (MaxPooling2 (None, 12, 12, 8)         0         \n",
            "_________________________________________________________________\n",
            "conv2d_8 (Conv2D)            (None, 10, 10, 16)        1168      \n",
            "_________________________________________________________________\n",
            "max_pooling2d_5 (MaxPooling2 (None, 5, 5, 16)          0         \n",
            "_________________________________________________________________\n",
            "flatten_2 (Flatten)          (None, 400)               0         \n",
            "_________________________________________________________________\n",
            "dropout_2 (Dropout)          (None, 400)               0         \n",
            "_________________________________________________________________\n",
            "dense_2 (Dense)              (None, 10)                4010      \n",
            "=================================================================\n",
            "Total params: 5,842\n",
            "Trainable params: 5,842\n",
            "Non-trainable params: 0\n",
            "_________________________________________________________________\n"
          ]
        }
      ]
    },
    {
      "cell_type": "markdown",
      "metadata": {
        "id": "BnliKPLHPP1I"
      },
      "source": [
        "#Addestramento\n",
        "\n",
        "**Funzione di perdita:** scelgo categorical_crossentropy perché è particolarmente adatto per compiti di classificazione categoriale, ho provato mse, mae e sparse cross_entropy categorico ma con risultati peggiori.\n",
        "\n",
        "**Ottimizzatore:** Ho scelto Adam ho provato a utilizzare un ottimizzatore diverso come SGD ma Adam funziona meglio.\n",
        "\n",
        "**Epoche:** il numero di epoche è 90, ho notato che aumentando il modello non migliora.\n",
        "\n",
        "**Dimensione batch:** Ho provato diversi valori e notato che con 128 si otteneva risultati migliori.\n",
        "\n",
        "**Metriche:** Ho stabilito diverse metriche l’accuratezza, f1_m, precision, recall.\n",
        "\n",
        "Ho impostato i dati di validazione al 20% del training. \n",
        "\n",
        "**Funzione di output: **softmax, prestazioni migliori per questo modello. Inoltre, utile nei problemi di classificazione con n classi (n > 2)\n"
      ]
    },
    {
      "cell_type": "code",
      "metadata": {
        "colab": {
          "base_uri": "https://localhost:8080/"
        },
        "id": "mtabGb9hFMXQ",
        "outputId": "103ad398-b4d4-40de-91f0-c475d2e85e2d"
      },
      "source": [
        "batch_size = 128\n",
        "epochs = 90  \n",
        "\n",
        "model.compile(loss='categorical_crossentropy', optimizer='adam', metrics=['accuracy',f1_m,precision_m, recall_m])\n",
        "\n",
        "network_history = model.fit(x_train, y_train, batch_size=batch_size,  epochs = epochs, validation_split=0.2)"
      ],
      "execution_count": null,
      "outputs": [
        {
          "name": "stdout",
          "output_type": "stream",
          "text": [
            "Epoch 1/90\n",
            "375/375 [==============================] - 8s 21ms/step - loss: 0.5783 - accuracy: 0.8157 - f1_m: 0.7693 - precision_m: 0.8282 - recall_m: 0.7391 - val_loss: 0.1262 - val_accuracy: 0.9645 - val_f1_m: 0.9643 - val_precision_m: 0.9720 - val_recall_m: 0.9568\n",
            "Epoch 2/90\n",
            "375/375 [==============================] - 8s 21ms/step - loss: 0.1543 - accuracy: 0.9530 - f1_m: 0.9533 - precision_m: 0.9614 - recall_m: 0.9454 - val_loss: 0.0850 - val_accuracy: 0.9747 - val_f1_m: 0.9758 - val_precision_m: 0.9801 - val_recall_m: 0.9715\n",
            "Epoch 3/90\n",
            "375/375 [==============================] - 8s 23ms/step - loss: 0.1157 - accuracy: 0.9636 - f1_m: 0.9645 - precision_m: 0.9698 - recall_m: 0.9594 - val_loss: 0.0704 - val_accuracy: 0.9794 - val_f1_m: 0.9796 - val_precision_m: 0.9830 - val_recall_m: 0.9762\n",
            "Epoch 4/90\n",
            "375/375 [==============================] - 10s 26ms/step - loss: 0.0978 - accuracy: 0.9695 - f1_m: 0.9695 - precision_m: 0.9737 - recall_m: 0.9654 - val_loss: 0.0605 - val_accuracy: 0.9822 - val_f1_m: 0.9828 - val_precision_m: 0.9848 - val_recall_m: 0.9808\n",
            "Epoch 5/90\n",
            "375/375 [==============================] - 9s 23ms/step - loss: 0.0875 - accuracy: 0.9727 - f1_m: 0.9730 - precision_m: 0.9763 - recall_m: 0.9698 - val_loss: 0.0534 - val_accuracy: 0.9847 - val_f1_m: 0.9848 - val_precision_m: 0.9868 - val_recall_m: 0.9827\n",
            "Epoch 6/90\n",
            "375/375 [==============================] - 9s 25ms/step - loss: 0.0783 - accuracy: 0.9754 - f1_m: 0.9759 - precision_m: 0.9789 - recall_m: 0.9729 - val_loss: 0.0536 - val_accuracy: 0.9842 - val_f1_m: 0.9844 - val_precision_m: 0.9863 - val_recall_m: 0.9825\n",
            "Epoch 7/90\n",
            "375/375 [==============================] - 8s 22ms/step - loss: 0.0719 - accuracy: 0.9777 - f1_m: 0.9779 - precision_m: 0.9803 - recall_m: 0.9755 - val_loss: 0.0503 - val_accuracy: 0.9850 - val_f1_m: 0.9855 - val_precision_m: 0.9875 - val_recall_m: 0.9835\n",
            "Epoch 8/90\n",
            "375/375 [==============================] - 8s 22ms/step - loss: 0.0674 - accuracy: 0.9787 - f1_m: 0.9791 - precision_m: 0.9813 - recall_m: 0.9769 - val_loss: 0.0436 - val_accuracy: 0.9871 - val_f1_m: 0.9871 - val_precision_m: 0.9889 - val_recall_m: 0.9853\n",
            "Epoch 9/90\n",
            "375/375 [==============================] - 8s 22ms/step - loss: 0.0613 - accuracy: 0.9806 - f1_m: 0.9809 - precision_m: 0.9829 - recall_m: 0.9789 - val_loss: 0.0411 - val_accuracy: 0.9887 - val_f1_m: 0.9890 - val_precision_m: 0.9905 - val_recall_m: 0.9876\n",
            "Epoch 10/90\n",
            "375/375 [==============================] - 8s 22ms/step - loss: 0.0583 - accuracy: 0.9814 - f1_m: 0.9814 - precision_m: 0.9832 - recall_m: 0.9795 - val_loss: 0.0412 - val_accuracy: 0.9882 - val_f1_m: 0.9883 - val_precision_m: 0.9893 - val_recall_m: 0.9873\n",
            "Epoch 11/90\n",
            "375/375 [==============================] - 9s 23ms/step - loss: 0.0551 - accuracy: 0.9831 - f1_m: 0.9831 - precision_m: 0.9848 - recall_m: 0.9814 - val_loss: 0.0411 - val_accuracy: 0.9871 - val_f1_m: 0.9873 - val_precision_m: 0.9885 - val_recall_m: 0.9861\n",
            "Epoch 12/90\n",
            "375/375 [==============================] - 9s 23ms/step - loss: 0.0528 - accuracy: 0.9838 - f1_m: 0.9838 - precision_m: 0.9854 - recall_m: 0.9823 - val_loss: 0.0374 - val_accuracy: 0.9887 - val_f1_m: 0.9889 - val_precision_m: 0.9900 - val_recall_m: 0.9878\n",
            "Epoch 13/90\n",
            "375/375 [==============================] - 8s 22ms/step - loss: 0.0523 - accuracy: 0.9834 - f1_m: 0.9836 - precision_m: 0.9851 - recall_m: 0.9821 - val_loss: 0.0378 - val_accuracy: 0.9890 - val_f1_m: 0.9889 - val_precision_m: 0.9898 - val_recall_m: 0.9879\n",
            "Epoch 14/90\n",
            "375/375 [==============================] - 8s 22ms/step - loss: 0.0506 - accuracy: 0.9840 - f1_m: 0.9840 - precision_m: 0.9854 - recall_m: 0.9826 - val_loss: 0.0354 - val_accuracy: 0.9894 - val_f1_m: 0.9896 - val_precision_m: 0.9904 - val_recall_m: 0.9888\n",
            "Epoch 15/90\n",
            "375/375 [==============================] - 8s 21ms/step - loss: 0.0479 - accuracy: 0.9845 - f1_m: 0.9846 - precision_m: 0.9859 - recall_m: 0.9833 - val_loss: 0.0378 - val_accuracy: 0.9901 - val_f1_m: 0.9902 - val_precision_m: 0.9913 - val_recall_m: 0.9892\n",
            "Epoch 16/90\n",
            "375/375 [==============================] - 9s 23ms/step - loss: 0.0448 - accuracy: 0.9855 - f1_m: 0.9857 - precision_m: 0.9872 - recall_m: 0.9843 - val_loss: 0.0351 - val_accuracy: 0.9902 - val_f1_m: 0.9906 - val_precision_m: 0.9914 - val_recall_m: 0.9897\n",
            "Epoch 17/90\n",
            "375/375 [==============================] - 8s 23ms/step - loss: 0.0442 - accuracy: 0.9851 - f1_m: 0.9853 - precision_m: 0.9864 - recall_m: 0.9841 - val_loss: 0.0340 - val_accuracy: 0.9899 - val_f1_m: 0.9902 - val_precision_m: 0.9911 - val_recall_m: 0.9893\n",
            "Epoch 18/90\n",
            "375/375 [==============================] - 9s 23ms/step - loss: 0.0459 - accuracy: 0.9856 - f1_m: 0.9857 - precision_m: 0.9870 - recall_m: 0.9844 - val_loss: 0.0363 - val_accuracy: 0.9894 - val_f1_m: 0.9896 - val_precision_m: 0.9905 - val_recall_m: 0.9888\n",
            "Epoch 19/90\n",
            "375/375 [==============================] - 9s 23ms/step - loss: 0.0433 - accuracy: 0.9865 - f1_m: 0.9866 - precision_m: 0.9877 - recall_m: 0.9855 - val_loss: 0.0358 - val_accuracy: 0.9893 - val_f1_m: 0.9895 - val_precision_m: 0.9902 - val_recall_m: 0.9888\n",
            "Epoch 20/90\n",
            "375/375 [==============================] - 8s 23ms/step - loss: 0.0427 - accuracy: 0.9861 - f1_m: 0.9864 - precision_m: 0.9876 - recall_m: 0.9851 - val_loss: 0.0340 - val_accuracy: 0.9898 - val_f1_m: 0.9899 - val_precision_m: 0.9905 - val_recall_m: 0.9893\n",
            "Epoch 21/90\n",
            "375/375 [==============================] - 9s 23ms/step - loss: 0.0414 - accuracy: 0.9866 - f1_m: 0.9867 - precision_m: 0.9876 - recall_m: 0.9859 - val_loss: 0.0345 - val_accuracy: 0.9897 - val_f1_m: 0.9896 - val_precision_m: 0.9906 - val_recall_m: 0.9887\n",
            "Epoch 22/90\n",
            "375/375 [==============================] - 8s 21ms/step - loss: 0.0405 - accuracy: 0.9868 - f1_m: 0.9869 - precision_m: 0.9880 - recall_m: 0.9858 - val_loss: 0.0352 - val_accuracy: 0.9896 - val_f1_m: 0.9898 - val_precision_m: 0.9906 - val_recall_m: 0.9890\n",
            "Epoch 23/90\n",
            "375/375 [==============================] - 8s 22ms/step - loss: 0.0413 - accuracy: 0.9869 - f1_m: 0.9869 - precision_m: 0.9881 - recall_m: 0.9857 - val_loss: 0.0328 - val_accuracy: 0.9898 - val_f1_m: 0.9901 - val_precision_m: 0.9911 - val_recall_m: 0.9892\n",
            "Epoch 24/90\n",
            "375/375 [==============================] - 9s 25ms/step - loss: 0.0390 - accuracy: 0.9875 - f1_m: 0.9877 - precision_m: 0.9887 - recall_m: 0.9868 - val_loss: 0.0327 - val_accuracy: 0.9904 - val_f1_m: 0.9904 - val_precision_m: 0.9910 - val_recall_m: 0.9899\n",
            "Epoch 25/90\n",
            "375/375 [==============================] - 9s 23ms/step - loss: 0.0384 - accuracy: 0.9872 - f1_m: 0.9874 - precision_m: 0.9883 - recall_m: 0.9866 - val_loss: 0.0324 - val_accuracy: 0.9907 - val_f1_m: 0.9908 - val_precision_m: 0.9914 - val_recall_m: 0.9902\n",
            "Epoch 26/90\n",
            "375/375 [==============================] - 8s 21ms/step - loss: 0.0386 - accuracy: 0.9877 - f1_m: 0.9879 - precision_m: 0.9887 - recall_m: 0.9871 - val_loss: 0.0345 - val_accuracy: 0.9900 - val_f1_m: 0.9901 - val_precision_m: 0.9909 - val_recall_m: 0.9893\n",
            "Epoch 27/90\n",
            "375/375 [==============================] - 8s 21ms/step - loss: 0.0389 - accuracy: 0.9879 - f1_m: 0.9880 - precision_m: 0.9889 - recall_m: 0.9872 - val_loss: 0.0314 - val_accuracy: 0.9907 - val_f1_m: 0.9906 - val_precision_m: 0.9915 - val_recall_m: 0.9897\n",
            "Epoch 28/90\n",
            "375/375 [==============================] - 8s 21ms/step - loss: 0.0374 - accuracy: 0.9876 - f1_m: 0.9879 - precision_m: 0.9889 - recall_m: 0.9868 - val_loss: 0.0301 - val_accuracy: 0.9913 - val_f1_m: 0.9912 - val_precision_m: 0.9921 - val_recall_m: 0.9904\n",
            "Epoch 29/90\n",
            "375/375 [==============================] - 8s 21ms/step - loss: 0.0367 - accuracy: 0.9878 - f1_m: 0.9880 - precision_m: 0.9889 - recall_m: 0.9871 - val_loss: 0.0303 - val_accuracy: 0.9902 - val_f1_m: 0.9906 - val_precision_m: 0.9913 - val_recall_m: 0.9898\n",
            "Epoch 30/90\n",
            "375/375 [==============================] - 8s 21ms/step - loss: 0.0342 - accuracy: 0.9889 - f1_m: 0.9890 - precision_m: 0.9897 - recall_m: 0.9883 - val_loss: 0.0312 - val_accuracy: 0.9909 - val_f1_m: 0.9907 - val_precision_m: 0.9912 - val_recall_m: 0.9902\n",
            "Epoch 31/90\n",
            "375/375 [==============================] - 8s 20ms/step - loss: 0.0347 - accuracy: 0.9888 - f1_m: 0.9888 - precision_m: 0.9894 - recall_m: 0.9881 - val_loss: 0.0314 - val_accuracy: 0.9903 - val_f1_m: 0.9902 - val_precision_m: 0.9908 - val_recall_m: 0.9897\n",
            "Epoch 32/90\n",
            "375/375 [==============================] - 8s 21ms/step - loss: 0.0358 - accuracy: 0.9883 - f1_m: 0.9882 - precision_m: 0.9890 - recall_m: 0.9875 - val_loss: 0.0335 - val_accuracy: 0.9905 - val_f1_m: 0.9905 - val_precision_m: 0.9911 - val_recall_m: 0.9899\n",
            "Epoch 33/90\n",
            "375/375 [==============================] - 8s 21ms/step - loss: 0.0336 - accuracy: 0.9891 - f1_m: 0.9892 - precision_m: 0.9899 - recall_m: 0.9885 - val_loss: 0.0305 - val_accuracy: 0.9905 - val_f1_m: 0.9906 - val_precision_m: 0.9913 - val_recall_m: 0.9898\n",
            "Epoch 34/90\n",
            "375/375 [==============================] - 8s 21ms/step - loss: 0.0333 - accuracy: 0.9888 - f1_m: 0.9888 - precision_m: 0.9896 - recall_m: 0.9880 - val_loss: 0.0309 - val_accuracy: 0.9907 - val_f1_m: 0.9906 - val_precision_m: 0.9915 - val_recall_m: 0.9897\n",
            "Epoch 35/90\n",
            "375/375 [==============================] - 8s 21ms/step - loss: 0.0333 - accuracy: 0.9891 - f1_m: 0.9893 - precision_m: 0.9902 - recall_m: 0.9884 - val_loss: 0.0310 - val_accuracy: 0.9909 - val_f1_m: 0.9908 - val_precision_m: 0.9916 - val_recall_m: 0.9900\n",
            "Epoch 36/90\n",
            "375/375 [==============================] - 8s 21ms/step - loss: 0.0331 - accuracy: 0.9886 - f1_m: 0.9889 - precision_m: 0.9897 - recall_m: 0.9881 - val_loss: 0.0305 - val_accuracy: 0.9909 - val_f1_m: 0.9910 - val_precision_m: 0.9919 - val_recall_m: 0.9901\n",
            "Epoch 37/90\n",
            "375/375 [==============================] - 8s 21ms/step - loss: 0.0334 - accuracy: 0.9892 - f1_m: 0.9894 - precision_m: 0.9901 - recall_m: 0.9887 - val_loss: 0.0306 - val_accuracy: 0.9911 - val_f1_m: 0.9911 - val_precision_m: 0.9920 - val_recall_m: 0.9902\n",
            "Epoch 38/90\n",
            "375/375 [==============================] - 8s 21ms/step - loss: 0.0321 - accuracy: 0.9895 - f1_m: 0.9895 - precision_m: 0.9902 - recall_m: 0.9889 - val_loss: 0.0307 - val_accuracy: 0.9910 - val_f1_m: 0.9912 - val_precision_m: 0.9921 - val_recall_m: 0.9904\n",
            "Epoch 39/90\n",
            "375/375 [==============================] - 8s 21ms/step - loss: 0.0323 - accuracy: 0.9891 - f1_m: 0.9892 - precision_m: 0.9900 - recall_m: 0.9884 - val_loss: 0.0314 - val_accuracy: 0.9908 - val_f1_m: 0.9912 - val_precision_m: 0.9917 - val_recall_m: 0.9907\n",
            "Epoch 40/90\n",
            "375/375 [==============================] - 8s 21ms/step - loss: 0.0316 - accuracy: 0.9897 - f1_m: 0.9897 - precision_m: 0.9904 - recall_m: 0.9891 - val_loss: 0.0301 - val_accuracy: 0.9905 - val_f1_m: 0.9906 - val_precision_m: 0.9911 - val_recall_m: 0.9902\n",
            "Epoch 41/90\n",
            "375/375 [==============================] - 8s 20ms/step - loss: 0.0322 - accuracy: 0.9896 - f1_m: 0.9898 - precision_m: 0.9904 - recall_m: 0.9891 - val_loss: 0.0315 - val_accuracy: 0.9905 - val_f1_m: 0.9906 - val_precision_m: 0.9912 - val_recall_m: 0.9901\n",
            "Epoch 42/90\n",
            "375/375 [==============================] - 8s 23ms/step - loss: 0.0326 - accuracy: 0.9888 - f1_m: 0.9889 - precision_m: 0.9897 - recall_m: 0.9880 - val_loss: 0.0288 - val_accuracy: 0.9908 - val_f1_m: 0.9909 - val_precision_m: 0.9915 - val_recall_m: 0.9903\n",
            "Epoch 43/90\n",
            "375/375 [==============================] - 9s 23ms/step - loss: 0.0310 - accuracy: 0.9895 - f1_m: 0.9896 - precision_m: 0.9903 - recall_m: 0.9889 - val_loss: 0.0284 - val_accuracy: 0.9920 - val_f1_m: 0.9920 - val_precision_m: 0.9926 - val_recall_m: 0.9915\n",
            "Epoch 44/90\n",
            "375/375 [==============================] - 9s 24ms/step - loss: 0.0307 - accuracy: 0.9898 - f1_m: 0.9900 - precision_m: 0.9906 - recall_m: 0.9894 - val_loss: 0.0302 - val_accuracy: 0.9910 - val_f1_m: 0.9910 - val_precision_m: 0.9916 - val_recall_m: 0.9904\n",
            "Epoch 45/90\n",
            "375/375 [==============================] - 8s 22ms/step - loss: 0.0318 - accuracy: 0.9897 - f1_m: 0.9898 - precision_m: 0.9904 - recall_m: 0.9892 - val_loss: 0.0291 - val_accuracy: 0.9910 - val_f1_m: 0.9912 - val_precision_m: 0.9920 - val_recall_m: 0.9904\n",
            "Epoch 46/90\n",
            "375/375 [==============================] - 8s 23ms/step - loss: 0.0303 - accuracy: 0.9896 - f1_m: 0.9897 - precision_m: 0.9904 - recall_m: 0.9890 - val_loss: 0.0299 - val_accuracy: 0.9903 - val_f1_m: 0.9905 - val_precision_m: 0.9914 - val_recall_m: 0.9896\n",
            "Epoch 47/90\n",
            "375/375 [==============================] - 8s 22ms/step - loss: 0.0308 - accuracy: 0.9894 - f1_m: 0.9895 - precision_m: 0.9902 - recall_m: 0.9889 - val_loss: 0.0289 - val_accuracy: 0.9914 - val_f1_m: 0.9916 - val_precision_m: 0.9921 - val_recall_m: 0.9910\n",
            "Epoch 48/90\n",
            "375/375 [==============================] - 8s 22ms/step - loss: 0.0299 - accuracy: 0.9899 - f1_m: 0.9900 - precision_m: 0.9907 - recall_m: 0.9893 - val_loss: 0.0300 - val_accuracy: 0.9912 - val_f1_m: 0.9914 - val_precision_m: 0.9918 - val_recall_m: 0.9911\n",
            "Epoch 49/90\n",
            "375/375 [==============================] - 9s 25ms/step - loss: 0.0302 - accuracy: 0.9896 - f1_m: 0.9897 - precision_m: 0.9903 - recall_m: 0.9891 - val_loss: 0.0296 - val_accuracy: 0.9912 - val_f1_m: 0.9914 - val_precision_m: 0.9922 - val_recall_m: 0.9907\n",
            "Epoch 50/90\n",
            "375/375 [==============================] - 9s 23ms/step - loss: 0.0275 - accuracy: 0.9908 - f1_m: 0.9906 - precision_m: 0.9911 - recall_m: 0.9901 - val_loss: 0.0284 - val_accuracy: 0.9917 - val_f1_m: 0.9917 - val_precision_m: 0.9922 - val_recall_m: 0.9913\n",
            "Epoch 51/90\n",
            "375/375 [==============================] - 9s 23ms/step - loss: 0.0303 - accuracy: 0.9901 - f1_m: 0.9900 - precision_m: 0.9908 - recall_m: 0.9893 - val_loss: 0.0315 - val_accuracy: 0.9906 - val_f1_m: 0.9907 - val_precision_m: 0.9913 - val_recall_m: 0.9901\n",
            "Epoch 52/90\n",
            "375/375 [==============================] - 8s 22ms/step - loss: 0.0282 - accuracy: 0.9903 - f1_m: 0.9904 - precision_m: 0.9910 - recall_m: 0.9899 - val_loss: 0.0313 - val_accuracy: 0.9908 - val_f1_m: 0.9909 - val_precision_m: 0.9916 - val_recall_m: 0.9902\n",
            "Epoch 53/90\n",
            "375/375 [==============================] - 8s 21ms/step - loss: 0.0289 - accuracy: 0.9903 - f1_m: 0.9903 - precision_m: 0.9908 - recall_m: 0.9897 - val_loss: 0.0295 - val_accuracy: 0.9911 - val_f1_m: 0.9911 - val_precision_m: 0.9918 - val_recall_m: 0.9905\n",
            "Epoch 54/90\n",
            "375/375 [==============================] - 8s 22ms/step - loss: 0.0263 - accuracy: 0.9911 - f1_m: 0.9911 - precision_m: 0.9918 - recall_m: 0.9904 - val_loss: 0.0300 - val_accuracy: 0.9911 - val_f1_m: 0.9909 - val_precision_m: 0.9914 - val_recall_m: 0.9905\n",
            "Epoch 55/90\n",
            "375/375 [==============================] - 8s 22ms/step - loss: 0.0281 - accuracy: 0.9902 - f1_m: 0.9903 - precision_m: 0.9908 - recall_m: 0.9898 - val_loss: 0.0316 - val_accuracy: 0.9899 - val_f1_m: 0.9901 - val_precision_m: 0.9908 - val_recall_m: 0.9894\n",
            "Epoch 56/90\n",
            "375/375 [==============================] - 8s 22ms/step - loss: 0.0266 - accuracy: 0.9909 - f1_m: 0.9910 - precision_m: 0.9916 - recall_m: 0.9905 - val_loss: 0.0306 - val_accuracy: 0.9914 - val_f1_m: 0.9916 - val_precision_m: 0.9921 - val_recall_m: 0.9911\n",
            "Epoch 57/90\n",
            "375/375 [==============================] - 8s 22ms/step - loss: 0.0269 - accuracy: 0.9908 - f1_m: 0.9909 - precision_m: 0.9915 - recall_m: 0.9903 - val_loss: 0.0307 - val_accuracy: 0.9912 - val_f1_m: 0.9912 - val_precision_m: 0.9915 - val_recall_m: 0.9908\n",
            "Epoch 58/90\n",
            "375/375 [==============================] - 9s 23ms/step - loss: 0.0283 - accuracy: 0.9900 - f1_m: 0.9901 - precision_m: 0.9907 - recall_m: 0.9894 - val_loss: 0.0331 - val_accuracy: 0.9903 - val_f1_m: 0.9903 - val_precision_m: 0.9906 - val_recall_m: 0.9899\n",
            "Epoch 59/90\n",
            "375/375 [==============================] - 8s 22ms/step - loss: 0.0273 - accuracy: 0.9908 - f1_m: 0.9909 - precision_m: 0.9915 - recall_m: 0.9902 - val_loss: 0.0316 - val_accuracy: 0.9899 - val_f1_m: 0.9902 - val_precision_m: 0.9906 - val_recall_m: 0.9897\n",
            "Epoch 60/90\n",
            "375/375 [==============================] - 9s 23ms/step - loss: 0.0262 - accuracy: 0.9907 - f1_m: 0.9908 - precision_m: 0.9914 - recall_m: 0.9902 - val_loss: 0.0314 - val_accuracy: 0.9905 - val_f1_m: 0.9907 - val_precision_m: 0.9911 - val_recall_m: 0.9903\n",
            "Epoch 61/90\n",
            "375/375 [==============================] - 9s 24ms/step - loss: 0.0275 - accuracy: 0.9911 - f1_m: 0.9910 - precision_m: 0.9916 - recall_m: 0.9904 - val_loss: 0.0322 - val_accuracy: 0.9913 - val_f1_m: 0.9913 - val_precision_m: 0.9916 - val_recall_m: 0.9910\n",
            "Epoch 62/90\n",
            "375/375 [==============================] - 9s 25ms/step - loss: 0.0279 - accuracy: 0.9906 - f1_m: 0.9908 - precision_m: 0.9914 - recall_m: 0.9901 - val_loss: 0.0309 - val_accuracy: 0.9904 - val_f1_m: 0.9906 - val_precision_m: 0.9910 - val_recall_m: 0.9902\n",
            "Epoch 63/90\n",
            "375/375 [==============================] - 9s 24ms/step - loss: 0.0275 - accuracy: 0.9909 - f1_m: 0.9909 - precision_m: 0.9915 - recall_m: 0.9904 - val_loss: 0.0293 - val_accuracy: 0.9911 - val_f1_m: 0.9913 - val_precision_m: 0.9917 - val_recall_m: 0.9909\n",
            "Epoch 64/90\n",
            "375/375 [==============================] - 10s 28ms/step - loss: 0.0235 - accuracy: 0.9917 - f1_m: 0.9918 - precision_m: 0.9923 - recall_m: 0.9913 - val_loss: 0.0299 - val_accuracy: 0.9910 - val_f1_m: 0.9912 - val_precision_m: 0.9916 - val_recall_m: 0.9907\n",
            "Epoch 65/90\n",
            "375/375 [==============================] - 9s 24ms/step - loss: 0.0251 - accuracy: 0.9914 - f1_m: 0.9915 - precision_m: 0.9920 - recall_m: 0.9910 - val_loss: 0.0275 - val_accuracy: 0.9920 - val_f1_m: 0.9921 - val_precision_m: 0.9925 - val_recall_m: 0.9917\n",
            "Epoch 66/90\n",
            "375/375 [==============================] - 9s 23ms/step - loss: 0.0261 - accuracy: 0.9915 - f1_m: 0.9915 - precision_m: 0.9921 - recall_m: 0.9909 - val_loss: 0.0277 - val_accuracy: 0.9922 - val_f1_m: 0.9921 - val_precision_m: 0.9925 - val_recall_m: 0.9917\n",
            "Epoch 67/90\n",
            "375/375 [==============================] - 9s 23ms/step - loss: 0.0245 - accuracy: 0.9916 - f1_m: 0.9915 - precision_m: 0.9921 - recall_m: 0.9910 - val_loss: 0.0293 - val_accuracy: 0.9910 - val_f1_m: 0.9910 - val_precision_m: 0.9914 - val_recall_m: 0.9907\n",
            "Epoch 68/90\n",
            "375/375 [==============================] - 9s 23ms/step - loss: 0.0253 - accuracy: 0.9917 - f1_m: 0.9916 - precision_m: 0.9921 - recall_m: 0.9911 - val_loss: 0.0335 - val_accuracy: 0.9908 - val_f1_m: 0.9910 - val_precision_m: 0.9914 - val_recall_m: 0.9906\n",
            "Epoch 69/90\n",
            "375/375 [==============================] - 8s 23ms/step - loss: 0.0248 - accuracy: 0.9916 - f1_m: 0.9916 - precision_m: 0.9923 - recall_m: 0.9910 - val_loss: 0.0317 - val_accuracy: 0.9909 - val_f1_m: 0.9910 - val_precision_m: 0.9915 - val_recall_m: 0.9905\n",
            "Epoch 70/90\n",
            "375/375 [==============================] - 8s 22ms/step - loss: 0.0256 - accuracy: 0.9911 - f1_m: 0.9911 - precision_m: 0.9915 - recall_m: 0.9907 - val_loss: 0.0327 - val_accuracy: 0.9905 - val_f1_m: 0.9907 - val_precision_m: 0.9911 - val_recall_m: 0.9902\n",
            "Epoch 71/90\n",
            "375/375 [==============================] - 8s 22ms/step - loss: 0.0256 - accuracy: 0.9912 - f1_m: 0.9912 - precision_m: 0.9917 - recall_m: 0.9908 - val_loss: 0.0292 - val_accuracy: 0.9919 - val_f1_m: 0.9922 - val_precision_m: 0.9925 - val_recall_m: 0.9918\n",
            "Epoch 72/90\n",
            "375/375 [==============================] - 9s 23ms/step - loss: 0.0262 - accuracy: 0.9910 - f1_m: 0.9911 - precision_m: 0.9915 - recall_m: 0.9906 - val_loss: 0.0274 - val_accuracy: 0.9923 - val_f1_m: 0.9923 - val_precision_m: 0.9928 - val_recall_m: 0.9917\n",
            "Epoch 73/90\n",
            "375/375 [==============================] - 9s 23ms/step - loss: 0.0263 - accuracy: 0.9912 - f1_m: 0.9913 - precision_m: 0.9917 - recall_m: 0.9908 - val_loss: 0.0295 - val_accuracy: 0.9916 - val_f1_m: 0.9919 - val_precision_m: 0.9925 - val_recall_m: 0.9914\n",
            "Epoch 74/90\n",
            "375/375 [==============================] - 9s 23ms/step - loss: 0.0256 - accuracy: 0.9912 - f1_m: 0.9911 - precision_m: 0.9916 - recall_m: 0.9906 - val_loss: 0.0316 - val_accuracy: 0.9911 - val_f1_m: 0.9911 - val_precision_m: 0.9915 - val_recall_m: 0.9907\n",
            "Epoch 75/90\n",
            "375/375 [==============================] - 9s 24ms/step - loss: 0.0240 - accuracy: 0.9919 - f1_m: 0.9920 - precision_m: 0.9925 - recall_m: 0.9915 - val_loss: 0.0299 - val_accuracy: 0.9908 - val_f1_m: 0.9910 - val_precision_m: 0.9915 - val_recall_m: 0.9906\n",
            "Epoch 76/90\n",
            "375/375 [==============================] - 9s 24ms/step - loss: 0.0248 - accuracy: 0.9916 - f1_m: 0.9915 - precision_m: 0.9923 - recall_m: 0.9908 - val_loss: 0.0294 - val_accuracy: 0.9919 - val_f1_m: 0.9921 - val_precision_m: 0.9926 - val_recall_m: 0.9916\n",
            "Epoch 77/90\n",
            "375/375 [==============================] - 8s 22ms/step - loss: 0.0261 - accuracy: 0.9906 - f1_m: 0.9907 - precision_m: 0.9912 - recall_m: 0.9902 - val_loss: 0.0297 - val_accuracy: 0.9915 - val_f1_m: 0.9918 - val_precision_m: 0.9922 - val_recall_m: 0.9914\n",
            "Epoch 78/90\n",
            "375/375 [==============================] - 8s 21ms/step - loss: 0.0241 - accuracy: 0.9918 - f1_m: 0.9918 - precision_m: 0.9923 - recall_m: 0.9913 - val_loss: 0.0289 - val_accuracy: 0.9917 - val_f1_m: 0.9917 - val_precision_m: 0.9921 - val_recall_m: 0.9912\n",
            "Epoch 79/90\n",
            "375/375 [==============================] - 8s 21ms/step - loss: 0.0243 - accuracy: 0.9915 - f1_m: 0.9915 - precision_m: 0.9919 - recall_m: 0.9910 - val_loss: 0.0287 - val_accuracy: 0.9913 - val_f1_m: 0.9914 - val_precision_m: 0.9917 - val_recall_m: 0.9912\n",
            "Epoch 80/90\n",
            "375/375 [==============================] - 8s 21ms/step - loss: 0.0252 - accuracy: 0.9910 - f1_m: 0.9911 - precision_m: 0.9914 - recall_m: 0.9907 - val_loss: 0.0297 - val_accuracy: 0.9912 - val_f1_m: 0.9913 - val_precision_m: 0.9917 - val_recall_m: 0.9910\n",
            "Epoch 81/90\n",
            "375/375 [==============================] - 8s 22ms/step - loss: 0.0234 - accuracy: 0.9923 - f1_m: 0.9924 - precision_m: 0.9928 - recall_m: 0.9919 - val_loss: 0.0301 - val_accuracy: 0.9916 - val_f1_m: 0.9917 - val_precision_m: 0.9921 - val_recall_m: 0.9912\n",
            "Epoch 82/90\n",
            "375/375 [==============================] - 8s 21ms/step - loss: 0.0242 - accuracy: 0.9922 - f1_m: 0.9922 - precision_m: 0.9927 - recall_m: 0.9917 - val_loss: 0.0297 - val_accuracy: 0.9914 - val_f1_m: 0.9915 - val_precision_m: 0.9921 - val_recall_m: 0.9910\n",
            "Epoch 83/90\n",
            "375/375 [==============================] - 8s 21ms/step - loss: 0.0245 - accuracy: 0.9919 - f1_m: 0.9919 - precision_m: 0.9924 - recall_m: 0.9914 - val_loss: 0.0287 - val_accuracy: 0.9922 - val_f1_m: 0.9925 - val_precision_m: 0.9931 - val_recall_m: 0.9920\n",
            "Epoch 84/90\n",
            "375/375 [==============================] - 8s 21ms/step - loss: 0.0239 - accuracy: 0.9917 - f1_m: 0.9918 - precision_m: 0.9922 - recall_m: 0.9913 - val_loss: 0.0296 - val_accuracy: 0.9916 - val_f1_m: 0.9917 - val_precision_m: 0.9921 - val_recall_m: 0.9913\n",
            "Epoch 85/90\n",
            "375/375 [==============================] - 8s 21ms/step - loss: 0.0245 - accuracy: 0.9922 - f1_m: 0.9922 - precision_m: 0.9926 - recall_m: 0.9919 - val_loss: 0.0303 - val_accuracy: 0.9915 - val_f1_m: 0.9916 - val_precision_m: 0.9921 - val_recall_m: 0.9911\n",
            "Epoch 86/90\n",
            "375/375 [==============================] - 8s 21ms/step - loss: 0.0242 - accuracy: 0.9916 - f1_m: 0.9916 - precision_m: 0.9921 - recall_m: 0.9912 - val_loss: 0.0291 - val_accuracy: 0.9918 - val_f1_m: 0.9919 - val_precision_m: 0.9925 - val_recall_m: 0.9913\n",
            "Epoch 87/90\n",
            "375/375 [==============================] - 8s 22ms/step - loss: 0.0239 - accuracy: 0.9918 - f1_m: 0.9918 - precision_m: 0.9923 - recall_m: 0.9914 - val_loss: 0.0289 - val_accuracy: 0.9920 - val_f1_m: 0.9919 - val_precision_m: 0.9923 - val_recall_m: 0.9916\n",
            "Epoch 88/90\n",
            "375/375 [==============================] - 8s 21ms/step - loss: 0.0243 - accuracy: 0.9917 - f1_m: 0.9917 - precision_m: 0.9921 - recall_m: 0.9912 - val_loss: 0.0290 - val_accuracy: 0.9921 - val_f1_m: 0.9919 - val_precision_m: 0.9925 - val_recall_m: 0.9913\n",
            "Epoch 89/90\n",
            "375/375 [==============================] - 8s 23ms/step - loss: 0.0229 - accuracy: 0.9921 - f1_m: 0.9921 - precision_m: 0.9926 - recall_m: 0.9917 - val_loss: 0.0293 - val_accuracy: 0.9919 - val_f1_m: 0.9922 - val_precision_m: 0.9930 - val_recall_m: 0.9914\n",
            "Epoch 90/90\n",
            "375/375 [==============================] - 8s 21ms/step - loss: 0.0214 - accuracy: 0.9926 - f1_m: 0.9926 - precision_m: 0.9932 - recall_m: 0.9921 - val_loss: 0.0290 - val_accuracy: 0.9917 - val_f1_m: 0.9919 - val_precision_m: 0.9926 - val_recall_m: 0.9912\n"
          ]
        }
      ]
    },
    {
      "cell_type": "code",
      "metadata": {
        "colab": {
          "base_uri": "https://localhost:8080/",
          "height": 530
        },
        "id": "xfBbpnE3Fb22",
        "outputId": "da4f3a10-7a86-4555-f844-0855d35b2035"
      },
      "source": [
        "x_plot = list(range(1,len(network_history.history['val_accuracy']) + 1))\n",
        "\n",
        "\n",
        "def plot_history(network_history):\n",
        "    plt.figure()\n",
        "    plt.xlabel('Epochs')\n",
        "    plt.ylabel('Loss')\n",
        "    plt.plot(x_plot, network_history.history['loss'])\n",
        "    plt.plot(x_plot, network_history.history['val_loss'])\n",
        "    plt.legend(['Training', 'Validation'])\n",
        "\n",
        "    plt.figure()\n",
        "    # plt.xlabel('Epochs')\n",
        "    plt.ylabel('Accuracy')\n",
        "    plt.plot(x_plot, network_history.history['accuracy'])\n",
        "    plt.plot(x_plot, network_history.history['val_accuracy'])\n",
        "    plt.legend(['Training', 'Validation'], loc='lower right')\n",
        "    plt.show()\n",
        "\n",
        "plot_history(network_history)"
      ],
      "execution_count": null,
      "outputs": [
        {
          "data": {
            "image/png": "[encoded data removed]",
            "text/plain": [
              "<Figure size 432x288 with 1 Axes>"
            ]
          },
          "metadata": {
            "needs_background": "light"
          },
          "output_type": "display_data"
        },
        {
          "data": {
            "image/png": "[encoded data removed]",
            "text/plain": [
              "<Figure size 432x288 with 1 Axes>"
            ]
          },
          "metadata": {
            "needs_background": "light"
          },
          "output_type": "display_data"
        }
      ]
    },
    {
      "cell_type": "markdown",
      "metadata": {
        "id": "FduR5wl9PuVQ"
      },
      "source": [
        "Dal grafico si evidenzia: la perdita diminuisce e la precisione molto simile tra training e validation, non si verifica overfitting.\n"
      ]
    },
    {
      "cell_type": "markdown",
      "metadata": {
        "id": "wAjjSNAEOedf"
      },
      "source": [
        "**VALUTAZIONE** **SUL TRAINING**"
      ]
    },
    {
      "cell_type": "markdown",
      "metadata": {
        "id": "eBoR5cz9QIWt"
      },
      "source": [
        "\n",
        "\n",
        "Performance sul training\n",
        "\n",
        "Abbiamo un’accuratezza alta del 0,99%., anche le metriche hanno valori alti questo significa che è un buon modello.\n",
        "\n",
        "Inoltre sotto ho  riportato il rapporto di classificazione sul traing set.\n",
        "\n",
        "Come si vede la precisione sul training set in alcune categorie è 1; quindi, i falsi positivi sono molto bassi e i veri positivi sono molto alti.\n"
      ]
    },
    {
      "cell_type": "code",
      "metadata": {
        "colab": {
          "base_uri": "https://localhost:8080/"
        },
        "id": "GaR9LOOdFhPX",
        "outputId": "e580cc84-dddf-428f-b01a-cb5d1024645d"
      },
      "source": [
        "score = model.evaluate(x_train, y_train, verbose=0)\n",
        "print ('Train loss', score[0])\n",
        "print('Train accuracy', score[1])"
      ],
      "execution_count": null,
      "outputs": [
        {
          "name": "stdout",
          "output_type": "stream",
          "text": [
            "Train loss 0.011670236475765705\n",
            "Train accuracy 0.9965999722480774\n"
          ]
        }
      ]
    },
    {
      "cell_type": "code",
      "metadata": {
        "id": "J5gAfl3JOedg",
        "outputId": "36432bbc-2814-4074-ec9f-e5e22ae07321"
      },
      "source": [
        "print(\"\\n%s: %.2f%%\" % ( model.metrics_names[1], score[1]*100))\n",
        "print(\"\\n%s: %.2f%%\" % ( model.metrics_names[2], score[2]*100))\n",
        "print(\"\\n%s: %.2f%%\" % ( model.metrics_names[3], score[3]*100))\n",
        "print(\"\\n%s: %.2f%%\" % ( model.metrics_names[4], score[4]*100))\n",
        "print(\"\\n%s: %.2f\" % ( model.metrics_names[0], score[0]))"
      ],
      "execution_count": null,
      "outputs": [
        {
          "name": "stdout",
          "output_type": "stream",
          "text": [
            "\n",
            "accuracy: 99.66%\n",
            "\n",
            "f1_m: 99.66%\n",
            "\n",
            "precision_m: 99.69%\n",
            "\n",
            "recall_m: 99.64%\n",
            "\n",
            "loss: 0.01\n"
          ]
        }
      ]
    },
    {
      "cell_type": "code",
      "metadata": {
        "id": "vegriOoIFh6R",
        "outputId": "a3cf7f18-cf06-43b4-e3c6-739e17828202"
      },
      "source": [
        "predicted = np.round(model.predict(x_train))\n",
        "from sklearn.metrics import classification_report\n",
        "targets = ['0', '1', '2', '3', '4', '5', '6', '7', '8', '9']\n",
        "print(classification_report(y_train,predicted,  target_names=targets))"
      ],
      "execution_count": null,
      "outputs": [
        {
          "name": "stdout",
          "output_type": "stream",
          "text": [
            "              precision    recall  f1-score   support\n",
            "\n",
            "           0       1.00      1.00      1.00      5923\n",
            "           1       1.00      1.00      1.00      6742\n",
            "           2       0.99      1.00      1.00      5958\n",
            "           3       1.00      1.00      1.00      6131\n",
            "           4       1.00      1.00      1.00      5842\n",
            "           5       1.00      1.00      1.00      5421\n",
            "           6       1.00      1.00      1.00      5918\n",
            "           7       0.99      1.00      1.00      6265\n",
            "           8       1.00      1.00      1.00      5851\n",
            "           9       1.00      0.99      0.99      5949\n",
            "\n",
            "   micro avg       1.00      1.00      1.00     60000\n",
            "   macro avg       1.00      1.00      1.00     60000\n",
            "weighted avg       1.00      1.00      1.00     60000\n",
            " samples avg       1.00      1.00      1.00     60000\n",
            "\n"
          ]
        }
      ]
    },
    {
      "cell_type": "markdown",
      "metadata": {
        "id": "u7LHr4y8Oedh"
      },
      "source": [
        "**VALUTAZIONE SUL TEST SET**"
      ]
    },
    {
      "cell_type": "markdown",
      "metadata": {
        "id": "6YcU88I9Qi_7"
      },
      "source": [
        "Questa valutazione è necessaria per capire se dopo l'addestramento il modello è in grado di generalizzare bene con dati non visti. Si ottengono valori alti accuratezza del 0.98% ottime prestazioni e la perdita è bassa. Inoltre sotto ho  riportato il rapporto di classificazione sul testset.\n",
        "La precisione minore è sul numero 8 il motivo può essere che addestratore confonde con il numero 9. In generale valori molto alti, questo indica che \n",
        "sul set di test ci sono falsi positivi molto bassi e veri positivi molto alti.\n",
        "Quindi possiamo concludere che è un buon modello.\n"
      ]
    },
    {
      "cell_type": "code",
      "metadata": {
        "id": "B1Ot4gxGXq4i",
        "outputId": "74ab000e-b94f-406f-de8e-641d503f4250"
      },
      "source": [
        "score = model.evaluate(x_test, y_test, verbose=0)\n",
        "print ('Test loss', score[0])\n",
        "print('Test accuracy', score[1])"
      ],
      "execution_count": null,
      "outputs": [
        {
          "name": "stdout",
          "output_type": "stream",
          "text": [
            "Test loss 7.347593784332275\n",
            "Test accuracy 0.9889000058174133\n"
          ]
        }
      ]
    },
    {
      "cell_type": "code",
      "metadata": {
        "id": "Uq9dBH8FOedi",
        "outputId": "380aec99-6931-4ede-9ee1-4203cf117a85"
      },
      "source": [
        "print(\"\\n%s: %.2f%%\" % ( model.metrics_names[1], score[1]*100))\n",
        "print(\"\\n%s: %.2f%%\" % ( model.metrics_names[2], score[2]*100))\n",
        "print(\"\\n%s: %.2f%%\" % ( model.metrics_names[3], score[3]*100))\n",
        "print(\"\\n%s: %.2f%%\" % ( model.metrics_names[4], score[4]*100))\n",
        "print(\"\\n%s: %.2f\" % ( model.metrics_names[0], score[0]))"
      ],
      "execution_count": null,
      "outputs": [
        {
          "name": "stdout",
          "output_type": "stream",
          "text": [
            "\n",
            "accuracy: 98.89%\n",
            "\n",
            "f1_m: 98.89%\n",
            "\n",
            "precision_m: 98.89%\n",
            "\n",
            "recall_m: 98.89%\n",
            "\n",
            "loss: 7.35\n"
          ]
        }
      ]
    },
    {
      "cell_type": "code",
      "metadata": {
        "id": "AMcr0_TWXu06",
        "outputId": "3e3f6f9a-c4bb-4bd3-d1d9-5d82810c2463"
      },
      "source": [
        "predicted = np.round(model.predict(x_test))\n",
        "from sklearn.metrics import classification_report\n",
        "targets = ['0', '1', '2', '3', '4', '5', '6', '7', '8', '9']\n",
        "print(classification_report(y_test,predicted,  target_names=targets))"
      ],
      "execution_count": null,
      "outputs": [
        {
          "name": "stdout",
          "output_type": "stream",
          "text": [
            "              precision    recall  f1-score   support\n",
            "\n",
            "           0       1.00      0.99      0.99       980\n",
            "           1       1.00      0.97      0.99      1135\n",
            "           2       0.98      0.99      0.99      1032\n",
            "           3       0.99      0.99      0.99      1010\n",
            "           4       0.99      0.99      0.99       982\n",
            "           5       0.99      0.99      0.99       892\n",
            "           6       0.99      0.99      0.99       958\n",
            "           7       1.00      0.98      0.99      1028\n",
            "           8       0.96      1.00      0.98       974\n",
            "           9       0.99      0.99      0.99      1009\n",
            "\n",
            "   micro avg       0.99      0.99      0.99     10000\n",
            "   macro avg       0.99      0.99      0.99     10000\n",
            "weighted avg       0.99      0.99      0.99     10000\n",
            " samples avg       0.99      0.99      0.99     10000\n",
            "\n"
          ]
        }
      ]
    }
  ]
}