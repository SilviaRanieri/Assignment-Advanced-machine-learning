{
  "nbformat": 4,
  "nbformat_minor": 0,
  "metadata": {
    "colab": {
      "name": "Silvia_Ranieri_878067_ assignment04.ipynb",
      "provenance": [],
      "collapsed_sections": []
    },
    "kernelspec": {
      "name": "python3",
      "display_name": "Python 3"
    },
    "language_info": {
      "name": "python"
    },
    "accelerator": "GPU"
  },
  "cells": [
    {
      "cell_type": "markdown",
      "metadata": {
        "id": "xU_7bV6opH8l"
      },
      "source": [
        "#Advanced Machine Learning\n",
        "\n",
        "Master's Degree in Data Science (A.Y. 2021/2022)\n",
        "\n",
        "Assignment 4\n",
        "\n",
        "Nome: Silvia Cognome: Ranieri \\ Matricola: 878067"
      ]
    },
    {
      "cell_type": "markdown",
      "metadata": {
        "id": "rEuuqmpP9BVE"
      },
      "source": [
        "The task of the assignment #4 is Transfer Learning using a CNN pretrained on IMAGENET.\n",
        "\n",
        "The suggested architecture is the VGG16.\n",
        "\n",
        "The CNN should be used as fixed feature extractor on a new task of your choice containing a number of classes in the range from 2 to 10. \n",
        "\n",
        "The report must contain:\n",
        "- a description of the new task and on the dataset used\n",
        "- the use of the pretrained CNN as feature extractor considering different layers (at least 3 different choices)\n",
        "- the chosen \"classical\" classifier\n",
        "- for each transfer learning experiment:\n",
        "\n",
        "the details about the chosen layer\n",
        "the plot of the classification performance on train/val/test for the different layers considered\n",
        "the hyper-parameters used for training the \"classical\" classifier"
      ]
    },
    {
      "cell_type": "markdown",
      "metadata": {
        "id": "2OG6qHsXd-l5"
      },
      "source": [
        "#Task\n",
        "\n",
        "Task: Classificazione delle immagini il dataset che ho scelto per svolgere questo compito è CIFAR-10 composto da 60000 immagini a colori 32x32 in 10 classi, con 6000 immagini per classe.\n",
        "\n",
        "Train: 50000 immagini e test: 10000. \n",
        "\n",
        "Ho scelto di tenere solo 5 categorie.\n"
      ]
    },
    {
      "cell_type": "code",
      "metadata": {
        "id": "f8TrPEGXpUXo"
      },
      "source": [
        "import numpy as np\n",
        "import keras\n",
        "from keras.models import Model\n",
        "from keras.datasets.cifar10 import load_data\n",
        "from tensorflow.keras.applications.vgg16 import VGG16 \n",
        "from tensorflow.keras.preprocessing import image \n",
        "from tensorflow.keras.applications.vgg16 import preprocess_input \n",
        "from keras.models import Sequential\n",
        "from keras.layers import Flatten, MaxPool2D\n",
        "from tensorflow.keras.utils import to_categorical\n",
        "from sklearn.metrics import accuracy_score\n",
        "\n",
        "from tensorflow.keras.applications.vgg16 import VGG16\n",
        "from tensorflow.keras.preprocessing import image\n",
        "from tensorflow.keras.applications.vgg16 import preprocess_input\n",
        "import numpy as np\n",
        "from sklearn import datasets, svm, metrics"
      ],
      "execution_count": 1,
      "outputs": []
    },
    {
      "cell_type": "markdown",
      "metadata": {
        "id": "xPyqM3H2gBG_"
      },
      "source": [
        "Come fase di prepocessamento ho utilizzato l'addestramento di VGG di keras: "
      ]
    },
    {
      "cell_type": "code",
      "metadata": {
        "id": "ceChmP0AqNcV",
        "colab": {
          "base_uri": "https://localhost:8080/"
        },
        "outputId": "e812d3b1-5456-4255-ca9e-9e9b60b4526c"
      },
      "source": [
        "(x_train, y_train), (x_test, y_test) = load_data()\n",
        "\n",
        "train_index = np.where(y_train.ravel() >= 5)\n",
        "test_index = np.where(y_test.ravel() >= 5)\n",
        "\n",
        "x_train = x_train[train_index]\n",
        "y_train = y_train[train_index]\n",
        "x_test = x_test[test_index]\n",
        "y_test = y_test[test_index]\n",
        "\n",
        "x_train = preprocess_input(x_train)\n",
        "x_test = preprocess_input(x_test)\n",
        "img_shape = x_train[0].shape"
      ],
      "execution_count": 2,
      "outputs": [
        {
          "output_type": "stream",
          "name": "stdout",
          "text": [
            "Downloading data from https://www.cs.toronto.edu/~kriz/cifar-10-python.tar.gz\n",
            "170500096/170498071 [==============================] - 2s 0us/step\n",
            "170508288/170498071 [==============================] - 2s 0us/step\n"
          ]
        }
      ]
    },
    {
      "cell_type": "code",
      "metadata": {
        "colab": {
          "base_uri": "https://localhost:8080/"
        },
        "id": "W2Co6pZTqcZf",
        "outputId": "1531a773-e658-4a78-e614-914d1e4f8ede"
      },
      "source": [
        "print(\"train shape: \", x_train.shape)\n",
        "print(\"test shape: \", x_test.shape)\n",
        "print(\"train target shape: \", y_train.shape)\n",
        "print(\"test target shape: \", y_test.shape)"
      ],
      "execution_count": 3,
      "outputs": [
        {
          "output_type": "stream",
          "name": "stdout",
          "text": [
            "train shape:  (25000, 32, 32, 3)\n",
            "test shape:  (5000, 32, 32, 3)\n",
            "train target shape:  (25000, 1)\n",
            "test target shape:  (5000, 1)\n"
          ]
        }
      ]
    },
    {
      "cell_type": "markdown",
      "metadata": {
        "id": "snMVouplqktk"
      },
      "source": [
        "#Primo taglio "
      ]
    },
    {
      "cell_type": "markdown",
      "metadata": {
        "id": "YSCKZ7mPfwLn"
      },
      "source": [
        "Come suggerito ho utilizzato  l'architettura VGG19, sviluppata da Karen Simonyan e Andrew Zisserman nel 2014. È un'architettura convnet semplice e ampiamente utilizzata per ImageNet.\n",
        "\n",
        "Ho passato 4 argomenti al costruttore:\n",
        "\n",
        "**pesi**: specifica il punto di controllo del peso da cui inizializzare il modello.\n",
        "\n",
        "**include_top **: si riferisce all'inclusione (o meno) del classificatore densamente connesso in cima alla rete. Per impostazione predefinita, questo classificatore densamente connesso corrisponde alle 1.000 classi di ImageNet. Poiché intendo utilizzare il mio classificatore densamente connesso, non è necessario includerlo.\n",
        "\n",
        "**input_shape:** tupla di forma opzionale\n",
        "\n",
        "**classi:** numero opzionale di classi in cui classificare le immagini, da specificare solo se include_top è True e se non viene specificato alcun argomento weights.\n",
        "\n",
        "\n",
        "Il primo taglio consiste in un modo semplice per tagliare strati completamente convolutivi di VGG16. In questo caso ci sono 14.714.688 parametri apprendibili.\n",
        "Dopo questo passaggio è necessario estrarre le caratteristiche dal livello block5pool e aggiungere uno strato appiattito. "
      ]
    },
    {
      "cell_type": "code",
      "metadata": {
        "colab": {
          "base_uri": "https://localhost:8080/"
        },
        "id": "h-Z2JPqgqgeY",
        "outputId": "ccb06be5-0122-4a71-efb6-19cca81e4ecf"
      },
      "source": [
        "model_VGG16 = VGG16(weights='imagenet', input_shape=img_shape, include_top=False) \n",
        "model_VGG16 .summary()"
      ],
      "execution_count": 4,
      "outputs": [
        {
          "output_type": "stream",
          "name": "stdout",
          "text": [
            "Downloading data from https://storage.googleapis.com/tensorflow/keras-applications/vgg16/vgg16_weights_tf_dim_ordering_tf_kernels_notop.h5\n",
            "58892288/58889256 [==============================] - 1s 0us/step\n",
            "58900480/58889256 [==============================] - 1s 0us/step\n",
            "Model: \"vgg16\"\n",
            "_________________________________________________________________\n",
            " Layer (type)                Output Shape              Param #   \n",
            "=================================================================\n",
            " input_1 (InputLayer)        [(None, 32, 32, 3)]       0         \n",
            "                                                                 \n",
            " block1_conv1 (Conv2D)       (None, 32, 32, 64)        1792      \n",
            "                                                                 \n",
            " block1_conv2 (Conv2D)       (None, 32, 32, 64)        36928     \n",
            "                                                                 \n",
            " block1_pool (MaxPooling2D)  (None, 16, 16, 64)        0         \n",
            "                                                                 \n",
            " block2_conv1 (Conv2D)       (None, 16, 16, 128)       73856     \n",
            "                                                                 \n",
            " block2_conv2 (Conv2D)       (None, 16, 16, 128)       147584    \n",
            "                                                                 \n",
            " block2_pool (MaxPooling2D)  (None, 8, 8, 128)         0         \n",
            "                                                                 \n",
            " block3_conv1 (Conv2D)       (None, 8, 8, 256)         295168    \n",
            "                                                                 \n",
            " block3_conv2 (Conv2D)       (None, 8, 8, 256)         590080    \n",
            "                                                                 \n",
            " block3_conv3 (Conv2D)       (None, 8, 8, 256)         590080    \n",
            "                                                                 \n",
            " block3_pool (MaxPooling2D)  (None, 4, 4, 256)         0         \n",
            "                                                                 \n",
            " block4_conv1 (Conv2D)       (None, 4, 4, 512)         1180160   \n",
            "                                                                 \n",
            " block4_conv2 (Conv2D)       (None, 4, 4, 512)         2359808   \n",
            "                                                                 \n",
            " block4_conv3 (Conv2D)       (None, 4, 4, 512)         2359808   \n",
            "                                                                 \n",
            " block4_pool (MaxPooling2D)  (None, 2, 2, 512)         0         \n",
            "                                                                 \n",
            " block5_conv1 (Conv2D)       (None, 2, 2, 512)         2359808   \n",
            "                                                                 \n",
            " block5_conv2 (Conv2D)       (None, 2, 2, 512)         2359808   \n",
            "                                                                 \n",
            " block5_conv3 (Conv2D)       (None, 2, 2, 512)         2359808   \n",
            "                                                                 \n",
            " block5_pool (MaxPooling2D)  (None, 1, 1, 512)         0         \n",
            "                                                                 \n",
            "=================================================================\n",
            "Total params: 14,714,688\n",
            "Trainable params: 14,714,688\n",
            "Non-trainable params: 0\n",
            "_________________________________________________________________\n"
          ]
        }
      ]
    },
    {
      "cell_type": "code",
      "metadata": {
        "colab": {
          "base_uri": "https://localhost:8080/"
        },
        "id": "1lFt6KoTquO4",
        "outputId": "3812bfd3-b5f3-43c2-e5a1-ca0e45ce9bf8"
      },
      "source": [
        "output = model_VGG16.get_layer('block5_pool').output\n",
        "output = Flatten()(output)\n",
        "model = Model(model_VGG16.input, output)\n",
        "model.summary()"
      ],
      "execution_count": 5,
      "outputs": [
        {
          "output_type": "stream",
          "name": "stdout",
          "text": [
            "Model: \"model\"\n",
            "_________________________________________________________________\n",
            " Layer (type)                Output Shape              Param #   \n",
            "=================================================================\n",
            " input_1 (InputLayer)        [(None, 32, 32, 3)]       0         \n",
            "                                                                 \n",
            " block1_conv1 (Conv2D)       (None, 32, 32, 64)        1792      \n",
            "                                                                 \n",
            " block1_conv2 (Conv2D)       (None, 32, 32, 64)        36928     \n",
            "                                                                 \n",
            " block1_pool (MaxPooling2D)  (None, 16, 16, 64)        0         \n",
            "                                                                 \n",
            " block2_conv1 (Conv2D)       (None, 16, 16, 128)       73856     \n",
            "                                                                 \n",
            " block2_conv2 (Conv2D)       (None, 16, 16, 128)       147584    \n",
            "                                                                 \n",
            " block2_pool (MaxPooling2D)  (None, 8, 8, 128)         0         \n",
            "                                                                 \n",
            " block3_conv1 (Conv2D)       (None, 8, 8, 256)         295168    \n",
            "                                                                 \n",
            " block3_conv2 (Conv2D)       (None, 8, 8, 256)         590080    \n",
            "                                                                 \n",
            " block3_conv3 (Conv2D)       (None, 8, 8, 256)         590080    \n",
            "                                                                 \n",
            " block3_pool (MaxPooling2D)  (None, 4, 4, 256)         0         \n",
            "                                                                 \n",
            " block4_conv1 (Conv2D)       (None, 4, 4, 512)         1180160   \n",
            "                                                                 \n",
            " block4_conv2 (Conv2D)       (None, 4, 4, 512)         2359808   \n",
            "                                                                 \n",
            " block4_conv3 (Conv2D)       (None, 4, 4, 512)         2359808   \n",
            "                                                                 \n",
            " block4_pool (MaxPooling2D)  (None, 2, 2, 512)         0         \n",
            "                                                                 \n",
            " block5_conv1 (Conv2D)       (None, 2, 2, 512)         2359808   \n",
            "                                                                 \n",
            " block5_conv2 (Conv2D)       (None, 2, 2, 512)         2359808   \n",
            "                                                                 \n",
            " block5_conv3 (Conv2D)       (None, 2, 2, 512)         2359808   \n",
            "                                                                 \n",
            " block5_pool (MaxPooling2D)  (None, 1, 1, 512)         0         \n",
            "                                                                 \n",
            " flatten (Flatten)           (None, 512)               0         \n",
            "                                                                 \n",
            "=================================================================\n",
            "Total params: 14,714,688\n",
            "Trainable params: 14,714,688\n",
            "Non-trainable params: 0\n",
            "_________________________________________________________________\n"
          ]
        }
      ]
    },
    {
      "cell_type": "code",
      "metadata": {
        "colab": {
          "base_uri": "https://localhost:8080/"
        },
        "id": "iMzkBrIdblot",
        "outputId": "5b0dd36f-6183-44cd-e525-f1b0ddbc9d20"
      },
      "source": [
        "model_feat = Model(inputs=model.input,outputs=model.get_layer('block5_pool').output)\n",
        "\n",
        "feat_train = model_feat.predict(x_train)\n",
        "print(feat_train.shape)\n",
        "\n",
        "feat_test = model_feat.predict(x_test)\n",
        "print(feat_test.shape)"
      ],
      "execution_count": 6,
      "outputs": [
        {
          "output_type": "stream",
          "name": "stdout",
          "text": [
            "(25000, 1, 1, 512)\n",
            "(5000, 1, 1, 512)\n"
          ]
        }
      ]
    },
    {
      "cell_type": "code",
      "metadata": {
        "id": "KWJDvdi7Nz-e"
      },
      "source": [
        "from sklearn.svm import LinearSVC\n",
        "from sklearn.datasets import make_classification\n",
        "from sklearn.model_selection import train_test_split\n",
        "from sklearn.model_selection import cross_val_score\n",
        "from sklearn.metrics import confusion_matrix\n",
        "from sklearn.metrics import classification_report"
      ],
      "execution_count": 7,
      "outputs": []
    },
    {
      "cell_type": "markdown",
      "metadata": {
        "id": "ZW9DqJG_hWE7"
      },
      "source": [
        "Scelgo la classificazione vettoriale di supporto lineare per l'esperimento, considerando 3 diversi livelli. Viene fatto uno split train 80% e 20% test.\n",
        "Successivamente viene addestrato la SVC con parametro C (ovvero parametro di regolarizzazione) uguale a 0.1 e max_iterazione uguale a 1000, con funzione di perdita = squared_hinge."
      ]
    },
    {
      "cell_type": "code",
      "metadata": {
        "id": "WR1tGZpUXDGF"
      },
      "source": [
        "from sklearn.model_selection import train_test_split\n",
        "x_train, x_test, y_train, y_test = train_test_split(x_train, y_train, test_size=0.8)"
      ],
      "execution_count": 8,
      "outputs": []
    },
    {
      "cell_type": "code",
      "source": [
        "feat_train = model.predict(x_train) \n",
        "feat_test= model.predict(x_test) \n",
        "print(feat_train.shape)\n",
        "print(feat_test.shape)"
      ],
      "metadata": {
        "id": "SJMSOO6ahpvn",
        "colab": {
          "base_uri": "https://localhost:8080/"
        },
        "outputId": "133a3ffe-d8aa-4d25-836b-3c19b39246f1"
      },
      "execution_count": 9,
      "outputs": [
        {
          "output_type": "stream",
          "name": "stdout",
          "text": [
            "(5000, 512)\n",
            "(20000, 512)\n"
          ]
        }
      ]
    },
    {
      "cell_type": "code",
      "metadata": {
        "id": "Kqmjw9RDOQfJ"
      },
      "source": [
        "np.save('x_train_taglio_fc.npy',feat_train)\n",
        "np.save('x_test_taglio_fc.npy', feat_test)"
      ],
      "execution_count": 10,
      "outputs": []
    },
    {
      "cell_type": "code",
      "metadata": {
        "colab": {
          "base_uri": "https://localhost:8080/"
        },
        "id": "coYx4ly4OM_h",
        "outputId": "16e51218-2e06-4ba6-ed2a-2e4fdafc0e9a"
      },
      "source": [
        "print(\"train shape: \", feat_train.shape)\n",
        "print(\"test shape: \", feat_test.shape)"
      ],
      "execution_count": 11,
      "outputs": [
        {
          "output_type": "stream",
          "name": "stdout",
          "text": [
            "train shape:  (5000, 512)\n",
            "test shape:  (20000, 512)\n"
          ]
        }
      ]
    },
    {
      "cell_type": "code",
      "metadata": {
        "colab": {
          "base_uri": "https://localhost:8080/"
        },
        "id": "qVxMVD7VZjjo",
        "outputId": "7d4b74b7-253d-4ede-d855-2be7a9b38719"
      },
      "source": [
        "print(\"train shape: \", x_train.shape)\n",
        "print(\"test shape: \", y_train .shape)"
      ],
      "execution_count": 12,
      "outputs": [
        {
          "output_type": "stream",
          "name": "stdout",
          "text": [
            "train shape:  (5000, 32, 32, 3)\n",
            "test shape:  (5000, 1)\n"
          ]
        }
      ]
    },
    {
      "cell_type": "code",
      "metadata": {
        "colab": {
          "base_uri": "https://localhost:8080/"
        },
        "id": "lb_j4Md1XJ8f",
        "outputId": "322d6ea2-f3f2-4d0b-e912-07579082ebd4"
      },
      "source": [
        "lsvc = LinearSVC(verbose=0)\n",
        "print(lsvc)\n",
        "\n",
        "LinearSVC(C=0.1, class_weight=None, dual=True, fit_intercept=True,\n",
        "          intercept_scaling=1, loss='squared_hinge', max_iter=1000,\n",
        "          multi_class='ovr', penalty='l2', random_state=None, tol=0.0001,\n",
        "          verbose=0)"
      ],
      "execution_count": 13,
      "outputs": [
        {
          "output_type": "stream",
          "name": "stdout",
          "text": [
            "LinearSVC()\n"
          ]
        },
        {
          "output_type": "execute_result",
          "data": {
            "text/plain": [
              "LinearSVC(C=0.1)"
            ]
          },
          "metadata": {},
          "execution_count": 13
        }
      ]
    },
    {
      "cell_type": "code",
      "metadata": {
        "colab": {
          "base_uri": "https://localhost:8080/"
        },
        "id": "-yYqn5WhXNv2",
        "outputId": "4e695f28-ff88-40dd-c860-9236b8d66dfb"
      },
      "source": [
        "lsvc.fit(feat_train , y_train)\n",
        "score = lsvc.score(feat_train , y_train)\n",
        "print(\"Score: \", score)"
      ],
      "execution_count": 14,
      "outputs": [
        {
          "output_type": "stream",
          "name": "stderr",
          "text": [
            "/usr/local/lib/python3.7/dist-packages/sklearn/utils/validation.py:985: DataConversionWarning: A column-vector y was passed when a 1d array was expected. Please change the shape of y to (n_samples, ), for example using ravel().\n",
            "  y = column_or_1d(y, warn=True)\n"
          ]
        },
        {
          "output_type": "stream",
          "name": "stdout",
          "text": [
            "Score:  0.8992\n"
          ]
        },
        {
          "output_type": "stream",
          "name": "stderr",
          "text": [
            "/usr/local/lib/python3.7/dist-packages/sklearn/svm/_base.py:1208: ConvergenceWarning: Liblinear failed to converge, increase the number of iterations.\n",
            "  ConvergenceWarning,\n"
          ]
        }
      ]
    },
    {
      "cell_type": "markdown",
      "metadata": {
        "id": "YTlQvJR_j3ld"
      },
      "source": [
        "Valore accuratezza alto sembra un buon modello."
      ]
    },
    {
      "cell_type": "markdown",
      "metadata": {
        "id": "H5SP05tCcfyd"
      },
      "source": [
        "#Perfromance sul Train"
      ]
    },
    {
      "cell_type": "code",
      "metadata": {
        "colab": {
          "base_uri": "https://localhost:8080/"
        },
        "id": "ATeS0OwiXkvE",
        "outputId": "904cec2f-c35e-4eaf-9ccf-a7ba7c4a0c50"
      },
      "source": [
        "ypred1 = lsvc.predict(feat_train)\n",
        "\n",
        "cm1 = confusion_matrix(y_train, ypred1)\n",
        "print(cm1)"
      ],
      "execution_count": 15,
      "outputs": [
        {
          "output_type": "stream",
          "name": "stdout",
          "text": [
            "[[ 866   43   70   10    4]\n",
            " [  85  881    6    0    1]\n",
            " [ 128   26  833    5    8]\n",
            " [  20    5    4 1006   11]\n",
            " [  37    3   17   21  910]]\n"
          ]
        }
      ]
    },
    {
      "cell_type": "code",
      "metadata": {
        "colab": {
          "base_uri": "https://localhost:8080/"
        },
        "id": "cWtUrBdCXTE0",
        "outputId": "ea787230-9af3-44e9-bee6-1c5e0c15bf7b"
      },
      "source": [
        "cr1 = classification_report(y_train, ypred1)\n",
        "print(cr1)"
      ],
      "execution_count": 16,
      "outputs": [
        {
          "output_type": "stream",
          "name": "stdout",
          "text": [
            "              precision    recall  f1-score   support\n",
            "\n",
            "           5       0.76      0.87      0.81       993\n",
            "           6       0.92      0.91      0.91       973\n",
            "           7       0.90      0.83      0.86      1000\n",
            "           8       0.97      0.96      0.96      1046\n",
            "           9       0.97      0.92      0.95       988\n",
            "\n",
            "    accuracy                           0.90      5000\n",
            "   macro avg       0.90      0.90      0.90      5000\n",
            "weighted avg       0.90      0.90      0.90      5000\n",
            "\n"
          ]
        }
      ]
    },
    {
      "cell_type": "code",
      "metadata": {
        "colab": {
          "base_uri": "https://localhost:8080/"
        },
        "id": "ySQXXE5WZZ1w",
        "outputId": "b549442c-3e44-4caf-ae76-9dd1111ba89c"
      },
      "source": [
        "accuracy_train1= accuracy_score(y_train, ypred1)\n",
        "accuracy_train1"
      ],
      "execution_count": 17,
      "outputs": [
        {
          "output_type": "execute_result",
          "data": {
            "text/plain": [
              "0.8992"
            ]
          },
          "metadata": {},
          "execution_count": 17
        }
      ]
    },
    {
      "cell_type": "markdown",
      "metadata": {
        "id": "RhjIrCRTcU_o"
      },
      "source": [
        "# Performance Validation"
      ]
    },
    {
      "cell_type": "code",
      "metadata": {
        "colab": {
          "base_uri": "https://localhost:8080/"
        },
        "id": "GZ8cgBfLb4JG",
        "outputId": "eb22d6ff-a6ce-4840-98ee-112ae76d02f6"
      },
      "source": [
        "ypred1 = lsvc.predict(feat_test )\n",
        "\n",
        "cm1 = confusion_matrix(y_test, ypred1)\n",
        "print(cm1)"
      ],
      "execution_count": 18,
      "outputs": [
        {
          "output_type": "stream",
          "name": "stdout",
          "text": [
            "[[2919  375  459  145  109]\n",
            " [ 521 3164  155  101   86]\n",
            " [ 705  211 2772  137  175]\n",
            " [ 224   93  110 3248  279]\n",
            " [ 320   76  190  362 3064]]\n"
          ]
        }
      ]
    },
    {
      "cell_type": "code",
      "metadata": {
        "colab": {
          "base_uri": "https://localhost:8080/"
        },
        "id": "l8GvSqh8cAER",
        "outputId": "e58554e4-df34-441c-db6f-6d2081570a87"
      },
      "source": [
        "cr1 = classification_report(y_test, ypred1)\n",
        "print(cr1)"
      ],
      "execution_count": 19,
      "outputs": [
        {
          "output_type": "stream",
          "name": "stdout",
          "text": [
            "              precision    recall  f1-score   support\n",
            "\n",
            "           5       0.62      0.73      0.67      4007\n",
            "           6       0.81      0.79      0.80      4027\n",
            "           7       0.75      0.69      0.72      4000\n",
            "           8       0.81      0.82      0.82      3954\n",
            "           9       0.83      0.76      0.79      4012\n",
            "\n",
            "    accuracy                           0.76     20000\n",
            "   macro avg       0.76      0.76      0.76     20000\n",
            "weighted avg       0.76      0.76      0.76     20000\n",
            "\n"
          ]
        }
      ]
    },
    {
      "cell_type": "code",
      "metadata": {
        "colab": {
          "base_uri": "https://localhost:8080/"
        },
        "id": "9WrHnMYIcLbW",
        "outputId": "4f1addd8-7662-4b42-aafe-c97ac4c6b833"
      },
      "source": [
        "accuracy_validation1= accuracy_score(y_test, ypred1)\n",
        "accuracy_validation1"
      ],
      "execution_count": 20,
      "outputs": [
        {
          "output_type": "execute_result",
          "data": {
            "text/plain": [
              "0.75835"
            ]
          },
          "metadata": {},
          "execution_count": 20
        }
      ]
    },
    {
      "cell_type": "markdown",
      "metadata": {
        "id": "TZ2owWk_cmPD"
      },
      "source": [
        "# Performance sul Test"
      ]
    },
    {
      "cell_type": "code",
      "metadata": {
        "colab": {
          "base_uri": "https://localhost:8080/"
        },
        "id": "Qt4f3ayIYl7W",
        "outputId": "e9e55779-e965-4eb0-a61e-c66f5a55e355"
      },
      "source": [
        "ypred1 = lsvc.predict(feat_test )\n",
        "\n",
        "cm1 = confusion_matrix(y_test , ypred1)\n",
        "print(cm1)"
      ],
      "execution_count": 21,
      "outputs": [
        {
          "output_type": "stream",
          "name": "stdout",
          "text": [
            "[[2919  375  459  145  109]\n",
            " [ 521 3164  155  101   86]\n",
            " [ 705  211 2772  137  175]\n",
            " [ 224   93  110 3248  279]\n",
            " [ 320   76  190  362 3064]]\n"
          ]
        }
      ]
    },
    {
      "cell_type": "code",
      "metadata": {
        "colab": {
          "base_uri": "https://localhost:8080/"
        },
        "id": "XR1E15TCYtKP",
        "outputId": "245cc6ec-9f4b-483a-dfc1-576628360286"
      },
      "source": [
        "cr1 = classification_report(y_test , ypred1)\n",
        "print(cr1)"
      ],
      "execution_count": 22,
      "outputs": [
        {
          "output_type": "stream",
          "name": "stdout",
          "text": [
            "              precision    recall  f1-score   support\n",
            "\n",
            "           5       0.62      0.73      0.67      4007\n",
            "           6       0.81      0.79      0.80      4027\n",
            "           7       0.75      0.69      0.72      4000\n",
            "           8       0.81      0.82      0.82      3954\n",
            "           9       0.83      0.76      0.79      4012\n",
            "\n",
            "    accuracy                           0.76     20000\n",
            "   macro avg       0.76      0.76      0.76     20000\n",
            "weighted avg       0.76      0.76      0.76     20000\n",
            "\n"
          ]
        }
      ]
    },
    {
      "cell_type": "code",
      "metadata": {
        "colab": {
          "base_uri": "https://localhost:8080/"
        },
        "id": "WT7kvohuZEbg",
        "outputId": "9783c06a-0b06-4785-dbc3-27f091b227aa"
      },
      "source": [
        "\n",
        "accuracy_test1= accuracy_score(y_test, ypred1)\n",
        "accuracy_test1"
      ],
      "execution_count": 23,
      "outputs": [
        {
          "output_type": "execute_result",
          "data": {
            "text/plain": [
              "0.75835"
            ]
          },
          "metadata": {},
          "execution_count": 23
        }
      ]
    },
    {
      "cell_type": "markdown",
      "metadata": {
        "id": "EdFeZrku0xyx"
      },
      "source": [
        "# Secondo taglio"
      ]
    },
    {
      "cell_type": "markdown",
      "metadata": {
        "id": "2LYm41UF98KI"
      },
      "source": [
        "Procedo con un altro taglio al modello VGG16 più vicino all'input verifico se migliora l'accuratezza.\n",
        "Il livello block4_pool di VGG16.\n",
        "Il procedimento è simile a quello eseguito precedentemente.\n"
      ]
    },
    {
      "cell_type": "code",
      "metadata": {
        "colab": {
          "base_uri": "https://localhost:8080/"
        },
        "id": "rUKIIEFLsYHm",
        "outputId": "a8dbb644-9661-4142-e34a-83ce75a8f193"
      },
      "source": [
        "from tensorflow.keras.models import Model\n",
        "base_model = VGG16(weights = 'imagenet', input_shape=img_shape, include_top=False )\n",
        "model2 = Model(inputs = model.input, outputs = model.get_layer('block4_pool').output)\n",
        "output = model2.get_layer('block4_pool').output\n",
        "output = Flatten()(output)\n",
        "model2 = Model(model2.input, output)\n",
        "model2.summary()"
      ],
      "execution_count": 24,
      "outputs": [
        {
          "output_type": "stream",
          "name": "stdout",
          "text": [
            "Model: \"model_3\"\n",
            "_________________________________________________________________\n",
            " Layer (type)                Output Shape              Param #   \n",
            "=================================================================\n",
            " input_1 (InputLayer)        [(None, 32, 32, 3)]       0         \n",
            "                                                                 \n",
            " block1_conv1 (Conv2D)       (None, 32, 32, 64)        1792      \n",
            "                                                                 \n",
            " block1_conv2 (Conv2D)       (None, 32, 32, 64)        36928     \n",
            "                                                                 \n",
            " block1_pool (MaxPooling2D)  (None, 16, 16, 64)        0         \n",
            "                                                                 \n",
            " block2_conv1 (Conv2D)       (None, 16, 16, 128)       73856     \n",
            "                                                                 \n",
            " block2_conv2 (Conv2D)       (None, 16, 16, 128)       147584    \n",
            "                                                                 \n",
            " block2_pool (MaxPooling2D)  (None, 8, 8, 128)         0         \n",
            "                                                                 \n",
            " block3_conv1 (Conv2D)       (None, 8, 8, 256)         295168    \n",
            "                                                                 \n",
            " block3_conv2 (Conv2D)       (None, 8, 8, 256)         590080    \n",
            "                                                                 \n",
            " block3_conv3 (Conv2D)       (None, 8, 8, 256)         590080    \n",
            "                                                                 \n",
            " block3_pool (MaxPooling2D)  (None, 4, 4, 256)         0         \n",
            "                                                                 \n",
            " block4_conv1 (Conv2D)       (None, 4, 4, 512)         1180160   \n",
            "                                                                 \n",
            " block4_conv2 (Conv2D)       (None, 4, 4, 512)         2359808   \n",
            "                                                                 \n",
            " block4_conv3 (Conv2D)       (None, 4, 4, 512)         2359808   \n",
            "                                                                 \n",
            " block4_pool (MaxPooling2D)  (None, 2, 2, 512)         0         \n",
            "                                                                 \n",
            " flatten_1 (Flatten)         (None, 2048)              0         \n",
            "                                                                 \n",
            "=================================================================\n",
            "Total params: 7,635,264\n",
            "Trainable params: 7,635,264\n",
            "Non-trainable params: 0\n",
            "_________________________________________________________________\n"
          ]
        }
      ]
    },
    {
      "cell_type": "code",
      "metadata": {
        "id": "GB_mp_QuSNVJ"
      },
      "source": [
        "block4_pool_train_feat = model2.predict(x_train)\n",
        "block4_pool_test_feat = model2.predict(x_test)"
      ],
      "execution_count": 25,
      "outputs": []
    },
    {
      "cell_type": "code",
      "metadata": {
        "colab": {
          "base_uri": "https://localhost:8080/"
        },
        "id": "lOqnywiESUqJ",
        "outputId": "2907f3fb-35d4-4dd0-e0b5-71be46417dac"
      },
      "source": [
        "\n",
        "print(block4_pool_train_feat.shape)\n",
        "print(block4_pool_test_feat.shape)"
      ],
      "execution_count": 26,
      "outputs": [
        {
          "output_type": "stream",
          "name": "stdout",
          "text": [
            "(5000, 2048)\n",
            "(20000, 2048)\n"
          ]
        }
      ]
    },
    {
      "cell_type": "code",
      "metadata": {
        "id": "9skCAINeScm7"
      },
      "source": [
        "np.save('x_train_taglio_block4pool.npy', block4_pool_train_feat)\n",
        "np.save('x_test_taglio_block4pool.npy', block4_pool_test_feat) "
      ],
      "execution_count": 27,
      "outputs": []
    },
    {
      "cell_type": "code",
      "metadata": {
        "id": "SXp_YbHzT6wj"
      },
      "source": [
        "feat_train= np.load('x_train_taglio_block4pool.npy')\n",
        "feat_test= np.load('x_test_taglio_block4pool.npy')\n"
      ],
      "execution_count": 28,
      "outputs": []
    },
    {
      "cell_type": "code",
      "metadata": {
        "colab": {
          "base_uri": "https://localhost:8080/"
        },
        "id": "bMGPnzOSTpDY",
        "outputId": "e8c8ca1a-4290-416f-90cb-e5048d4d7af1"
      },
      "source": [
        "lsvc = LinearSVC(verbose=0)\n",
        "print(lsvc)\n",
        "\n",
        "LinearSVC(C=0.1, class_weight=None, dual=True, fit_intercept=True,\n",
        "          intercept_scaling=1, loss='squared_hinge', max_iter=1000,\n",
        "          multi_class='ovr', penalty='l2', random_state=None, tol=0.0001,\n",
        "          verbose=0)"
      ],
      "execution_count": 29,
      "outputs": [
        {
          "output_type": "stream",
          "name": "stdout",
          "text": [
            "LinearSVC()\n"
          ]
        },
        {
          "output_type": "execute_result",
          "data": {
            "text/plain": [
              "LinearSVC(C=0.1)"
            ]
          },
          "metadata": {},
          "execution_count": 29
        }
      ]
    },
    {
      "cell_type": "code",
      "metadata": {
        "colab": {
          "base_uri": "https://localhost:8080/"
        },
        "id": "ufqC4xJXSutT",
        "outputId": "25a91d26-19ba-4ecb-c7c2-10da63a39d96"
      },
      "source": [
        "lsvc.fit(feat_train, y_train)\n",
        "score = lsvc.score(feat_train , y_train)\n",
        "print(\"Score: \", score)\n"
      ],
      "execution_count": 30,
      "outputs": [
        {
          "output_type": "stream",
          "name": "stderr",
          "text": [
            "/usr/local/lib/python3.7/dist-packages/sklearn/utils/validation.py:985: DataConversionWarning: A column-vector y was passed when a 1d array was expected. Please change the shape of y to (n_samples, ), for example using ravel().\n",
            "  y = column_or_1d(y, warn=True)\n"
          ]
        },
        {
          "output_type": "stream",
          "name": "stdout",
          "text": [
            "Score:  1.0\n"
          ]
        },
        {
          "output_type": "stream",
          "name": "stderr",
          "text": [
            "/usr/local/lib/python3.7/dist-packages/sklearn/svm/_base.py:1208: ConvergenceWarning: Liblinear failed to converge, increase the number of iterations.\n",
            "  ConvergenceWarning,\n"
          ]
        }
      ]
    },
    {
      "cell_type": "markdown",
      "metadata": {
        "id": "rP4OpYEc1vyM"
      },
      "source": [
        "# Performance sul train"
      ]
    },
    {
      "cell_type": "code",
      "metadata": {
        "colab": {
          "base_uri": "https://localhost:8080/"
        },
        "id": "OTQ0P39F1uyT",
        "outputId": "a5daacc9-8d91-4255-b713-ca1add1afac1"
      },
      "source": [
        "ypred2 = lsvc.predict(feat_train)\n",
        "\n",
        "cm2 = confusion_matrix(y_train, ypred2)\n",
        "print(cm2)"
      ],
      "execution_count": 31,
      "outputs": [
        {
          "output_type": "stream",
          "name": "stdout",
          "text": [
            "[[ 993    0    0    0    0]\n",
            " [   0  973    0    0    0]\n",
            " [   0    0 1000    0    0]\n",
            " [   0    0    0 1046    0]\n",
            " [   0    0    0    0  988]]\n"
          ]
        }
      ]
    },
    {
      "cell_type": "code",
      "metadata": {
        "colab": {
          "base_uri": "https://localhost:8080/"
        },
        "id": "EyiknrKD14L1",
        "outputId": "23495747-fbe0-487f-d330-29dc941c8563"
      },
      "source": [
        "cr2 = classification_report(y_train, ypred2)\n",
        "print(cr2)"
      ],
      "execution_count": 32,
      "outputs": [
        {
          "output_type": "stream",
          "name": "stdout",
          "text": [
            "              precision    recall  f1-score   support\n",
            "\n",
            "           5       1.00      1.00      1.00       993\n",
            "           6       1.00      1.00      1.00       973\n",
            "           7       1.00      1.00      1.00      1000\n",
            "           8       1.00      1.00      1.00      1046\n",
            "           9       1.00      1.00      1.00       988\n",
            "\n",
            "    accuracy                           1.00      5000\n",
            "   macro avg       1.00      1.00      1.00      5000\n",
            "weighted avg       1.00      1.00      1.00      5000\n",
            "\n"
          ]
        }
      ]
    },
    {
      "cell_type": "code",
      "metadata": {
        "colab": {
          "base_uri": "https://localhost:8080/"
        },
        "id": "uYJWIpON18WM",
        "outputId": "f43a7f5f-f4ce-4b2d-bec8-12ae8fd0635d"
      },
      "source": [
        "accuracy_train2= accuracy_score(y_train, ypred2)\n",
        "accuracy_train2"
      ],
      "execution_count": 33,
      "outputs": [
        {
          "output_type": "execute_result",
          "data": {
            "text/plain": [
              "1.0"
            ]
          },
          "metadata": {},
          "execution_count": 33
        }
      ]
    },
    {
      "cell_type": "markdown",
      "metadata": {
        "id": "QJSqWNV819Vb"
      },
      "source": [
        "#Performance sul Validation"
      ]
    },
    {
      "cell_type": "code",
      "metadata": {
        "colab": {
          "base_uri": "https://localhost:8080/"
        },
        "id": "fzHMFkRiU_9A",
        "outputId": "a15de371-05be-4050-e70b-2931381e7b65"
      },
      "source": [
        "ypred2 = lsvc.predict(feat_test )\n",
        "\n",
        "cm2 = confusion_matrix(y_test, ypred2)\n",
        "print(cm2)"
      ],
      "execution_count": 34,
      "outputs": [
        {
          "output_type": "stream",
          "name": "stdout",
          "text": [
            "[[3182  285  410   60   70]\n",
            " [ 200 3678   70   42   37]\n",
            " [ 309   89 3480   44   78]\n",
            " [  44   36   45 3694  135]\n",
            " [  58   49  104  157 3644]]\n"
          ]
        }
      ]
    },
    {
      "cell_type": "code",
      "metadata": {
        "colab": {
          "base_uri": "https://localhost:8080/"
        },
        "id": "NLAuoU6iVERY",
        "outputId": "11cb2727-3431-47a1-cc6a-bdd7b21ce7c5"
      },
      "source": [
        "cr2 = classification_report(y_test, ypred2)\n",
        "print(cr2)"
      ],
      "execution_count": 35,
      "outputs": [
        {
          "output_type": "stream",
          "name": "stdout",
          "text": [
            "              precision    recall  f1-score   support\n",
            "\n",
            "           5       0.84      0.79      0.82      4007\n",
            "           6       0.89      0.91      0.90      4027\n",
            "           7       0.85      0.87      0.86      4000\n",
            "           8       0.92      0.93      0.93      3954\n",
            "           9       0.92      0.91      0.91      4012\n",
            "\n",
            "    accuracy                           0.88     20000\n",
            "   macro avg       0.88      0.88      0.88     20000\n",
            "weighted avg       0.88      0.88      0.88     20000\n",
            "\n"
          ]
        }
      ]
    },
    {
      "cell_type": "code",
      "metadata": {
        "colab": {
          "base_uri": "https://localhost:8080/"
        },
        "id": "sb2SHrWp2Fw_",
        "outputId": "4d99e7b5-4b56-428c-e1a8-30e872e2c533"
      },
      "source": [
        "accuracy_validation2= accuracy_score(y_test, ypred2)\n",
        "accuracy_validation2"
      ],
      "execution_count": 36,
      "outputs": [
        {
          "output_type": "execute_result",
          "data": {
            "text/plain": [
              "0.8839"
            ]
          },
          "metadata": {},
          "execution_count": 36
        }
      ]
    },
    {
      "cell_type": "markdown",
      "metadata": {
        "id": "yZFHW7UU2Gpy"
      },
      "source": [
        "#Performance sul Test"
      ]
    },
    {
      "cell_type": "code",
      "metadata": {
        "colab": {
          "base_uri": "https://localhost:8080/"
        },
        "id": "G_OrMTpo2JKd",
        "outputId": "8386ae20-f51a-4244-fefb-066c5fc806e5"
      },
      "source": [
        "ypred2 = lsvc.predict(feat_test )\n",
        "\n",
        "cm2 = confusion_matrix(y_test, ypred2)\n",
        "print(cm2)"
      ],
      "execution_count": 37,
      "outputs": [
        {
          "output_type": "stream",
          "name": "stdout",
          "text": [
            "[[3182  285  410   60   70]\n",
            " [ 200 3678   70   42   37]\n",
            " [ 309   89 3480   44   78]\n",
            " [  44   36   45 3694  135]\n",
            " [  58   49  104  157 3644]]\n"
          ]
        }
      ]
    },
    {
      "cell_type": "code",
      "metadata": {
        "colab": {
          "base_uri": "https://localhost:8080/"
        },
        "id": "7WpvXzzd2NOK",
        "outputId": "293ba548-1200-426e-c924-ae2ff5b8360e"
      },
      "source": [
        "cr2 = classification_report(y_test, ypred2)\n",
        "print(cr2)"
      ],
      "execution_count": 38,
      "outputs": [
        {
          "output_type": "stream",
          "name": "stdout",
          "text": [
            "              precision    recall  f1-score   support\n",
            "\n",
            "           5       0.84      0.79      0.82      4007\n",
            "           6       0.89      0.91      0.90      4027\n",
            "           7       0.85      0.87      0.86      4000\n",
            "           8       0.92      0.93      0.93      3954\n",
            "           9       0.92      0.91      0.91      4012\n",
            "\n",
            "    accuracy                           0.88     20000\n",
            "   macro avg       0.88      0.88      0.88     20000\n",
            "weighted avg       0.88      0.88      0.88     20000\n",
            "\n"
          ]
        }
      ]
    },
    {
      "cell_type": "code",
      "metadata": {
        "colab": {
          "base_uri": "https://localhost:8080/"
        },
        "id": "o2yyP5lD2PQK",
        "outputId": "e11c034f-8f8a-48e8-af70-d87b5d28050d"
      },
      "source": [
        "accuracy_test2= accuracy_score(y_test, ypred2)\n",
        "accuracy_test2"
      ],
      "execution_count": 39,
      "outputs": [
        {
          "output_type": "execute_result",
          "data": {
            "text/plain": [
              "0.8839"
            ]
          },
          "metadata": {},
          "execution_count": 39
        }
      ]
    },
    {
      "cell_type": "markdown",
      "metadata": {
        "id": "vWVoOMOvAFdb"
      },
      "source": [
        "Rispetto al modello precedente notiamo che questo sia migliore."
      ]
    },
    {
      "cell_type": "markdown",
      "metadata": {
        "id": "LyWKlx9m2hPp"
      },
      "source": [
        "#Terzo taglio"
      ]
    },
    {
      "cell_type": "markdown",
      "metadata": {
        "id": "J2I1JrdpATsR"
      },
      "source": [
        "Procedo con un ulteriore taglio e valuto le performance del modello. Questo vicino all'input rispetto al precedente, viene eseguito dopo il layer block3_pool di VGG16.\n"
      ]
    },
    {
      "cell_type": "code",
      "metadata": {
        "colab": {
          "base_uri": "https://localhost:8080/"
        },
        "id": "9pvJV5SU2jw7",
        "outputId": "5bbfbf94-8098-45d8-d7a6-ffce1614fba5"
      },
      "source": [
        "from tensorflow.keras.models import Model\n",
        "base_model = VGG16(weights = 'imagenet', input_shape=img_shape, include_top=False )\n",
        "model3 = Model(inputs = base_model.input, outputs = base_model.get_layer('block3_pool').output)\n",
        "output = model3.get_layer('block3_pool').output\n",
        "output = Flatten()(output)\n",
        "model3 = Model(model3.input, output)\n",
        "model3.summary()"
      ],
      "execution_count": 40,
      "outputs": [
        {
          "output_type": "stream",
          "name": "stdout",
          "text": [
            "Model: \"model_5\"\n",
            "_________________________________________________________________\n",
            " Layer (type)                Output Shape              Param #   \n",
            "=================================================================\n",
            " input_3 (InputLayer)        [(None, 32, 32, 3)]       0         \n",
            "                                                                 \n",
            " block1_conv1 (Conv2D)       (None, 32, 32, 64)        1792      \n",
            "                                                                 \n",
            " block1_conv2 (Conv2D)       (None, 32, 32, 64)        36928     \n",
            "                                                                 \n",
            " block1_pool (MaxPooling2D)  (None, 16, 16, 64)        0         \n",
            "                                                                 \n",
            " block2_conv1 (Conv2D)       (None, 16, 16, 128)       73856     \n",
            "                                                                 \n",
            " block2_conv2 (Conv2D)       (None, 16, 16, 128)       147584    \n",
            "                                                                 \n",
            " block2_pool (MaxPooling2D)  (None, 8, 8, 128)         0         \n",
            "                                                                 \n",
            " block3_conv1 (Conv2D)       (None, 8, 8, 256)         295168    \n",
            "                                                                 \n",
            " block3_conv2 (Conv2D)       (None, 8, 8, 256)         590080    \n",
            "                                                                 \n",
            " block3_conv3 (Conv2D)       (None, 8, 8, 256)         590080    \n",
            "                                                                 \n",
            " block3_pool (MaxPooling2D)  (None, 4, 4, 256)         0         \n",
            "                                                                 \n",
            " flatten_2 (Flatten)         (None, 4096)              0         \n",
            "                                                                 \n",
            "=================================================================\n",
            "Total params: 1,735,488\n",
            "Trainable params: 1,735,488\n",
            "Non-trainable params: 0\n",
            "_________________________________________________________________\n"
          ]
        }
      ]
    },
    {
      "cell_type": "code",
      "metadata": {
        "colab": {
          "base_uri": "https://localhost:8080/"
        },
        "id": "Ode5iCeS2mif",
        "outputId": "ac6bff1a-99b8-4692-99ea-b3cfc7f21c93"
      },
      "source": [
        "block3_pool_feat_train  = model3.predict(x_train)\n",
        "block3_pool_feat_test = model3.predict(x_test)\n",
        "print(block3_pool_feat_train .shape)\n",
        "print(block3_pool_feat_test.shape)"
      ],
      "execution_count": 41,
      "outputs": [
        {
          "output_type": "stream",
          "name": "stdout",
          "text": [
            "(5000, 4096)\n",
            "(20000, 4096)\n"
          ]
        }
      ]
    },
    {
      "cell_type": "code",
      "metadata": {
        "id": "yEbnq2ZZ2pqZ"
      },
      "source": [
        "np.save('x_train_taglio_block3pool.npy', block3_pool_feat_train )\n",
        "np.save('x_test_taglio_block3pool.npy', block3_pool_feat_test)\n",
        "\n"
      ],
      "execution_count": 42,
      "outputs": []
    },
    {
      "cell_type": "code",
      "metadata": {
        "id": "DOwYQfdH2r1d"
      },
      "source": [
        "feat_train = np.load('x_train_taglio_block3pool.npy')\n",
        "feat_test = np.load('x_test_taglio_block3pool.npy')\n",
        "\n"
      ],
      "execution_count": 43,
      "outputs": []
    },
    {
      "cell_type": "code",
      "metadata": {
        "colab": {
          "base_uri": "https://localhost:8080/"
        },
        "id": "PobELcuI2xgc",
        "outputId": "ad38bbd5-f78b-40cb-cbb8-5cbca5226f1d"
      },
      "source": [
        "lsvc = LinearSVC(verbose=0)\n",
        "print(lsvc)\n",
        "\n",
        "LinearSVC(C=0.1, class_weight=None, dual=True, fit_intercept=True,\n",
        "          intercept_scaling=1, loss='squared_hinge', max_iter=1000,\n",
        "          multi_class='ovr', penalty='l2', random_state=None, tol=0.0001,\n",
        "          verbose=0)"
      ],
      "execution_count": 44,
      "outputs": [
        {
          "output_type": "stream",
          "name": "stdout",
          "text": [
            "LinearSVC()\n"
          ]
        },
        {
          "output_type": "execute_result",
          "data": {
            "text/plain": [
              "LinearSVC(C=0.1)"
            ]
          },
          "metadata": {},
          "execution_count": 44
        }
      ]
    },
    {
      "cell_type": "code",
      "metadata": {
        "colab": {
          "base_uri": "https://localhost:8080/"
        },
        "id": "SQWAihDU232g",
        "outputId": "8f2a340d-f7f3-4178-aeaa-eb6ccdabbfdc"
      },
      "source": [
        "lsvc.fit( feat_train, y_train)\n",
        "score = lsvc.score(feat_train, y_train)\n",
        "print(\"Score: \", score)\n"
      ],
      "execution_count": 45,
      "outputs": [
        {
          "output_type": "stream",
          "name": "stderr",
          "text": [
            "/usr/local/lib/python3.7/dist-packages/sklearn/utils/validation.py:985: DataConversionWarning: A column-vector y was passed when a 1d array was expected. Please change the shape of y to (n_samples, ), for example using ravel().\n",
            "  y = column_or_1d(y, warn=True)\n"
          ]
        },
        {
          "output_type": "stream",
          "name": "stdout",
          "text": [
            "Score:  1.0\n"
          ]
        }
      ]
    },
    {
      "cell_type": "markdown",
      "metadata": {
        "id": "5NmsuYHl3F1J"
      },
      "source": [
        "#Performance sul train"
      ]
    },
    {
      "cell_type": "code",
      "metadata": {
        "colab": {
          "base_uri": "https://localhost:8080/"
        },
        "id": "vtN__GfI3Izs",
        "outputId": "becc347f-3b60-479d-cb0a-4c89dd23601c"
      },
      "source": [
        "ypred3 = lsvc.predict(feat_train)\n",
        "\n",
        "cm3 = confusion_matrix(y_train, ypred3)\n",
        "print(cm3)"
      ],
      "execution_count": 46,
      "outputs": [
        {
          "output_type": "stream",
          "name": "stdout",
          "text": [
            "[[ 993    0    0    0    0]\n",
            " [   0  973    0    0    0]\n",
            " [   0    0 1000    0    0]\n",
            " [   0    0    0 1046    0]\n",
            " [   0    0    0    0  988]]\n"
          ]
        }
      ]
    },
    {
      "cell_type": "code",
      "metadata": {
        "colab": {
          "base_uri": "https://localhost:8080/"
        },
        "id": "7MCLNTuH3QTv",
        "outputId": "6a39b93d-08c9-4d99-a09e-133f5fdc0582"
      },
      "source": [
        "cr3 = classification_report(y_train, ypred3)\n",
        "print(cr3)"
      ],
      "execution_count": 47,
      "outputs": [
        {
          "output_type": "stream",
          "name": "stdout",
          "text": [
            "              precision    recall  f1-score   support\n",
            "\n",
            "           5       1.00      1.00      1.00       993\n",
            "           6       1.00      1.00      1.00       973\n",
            "           7       1.00      1.00      1.00      1000\n",
            "           8       1.00      1.00      1.00      1046\n",
            "           9       1.00      1.00      1.00       988\n",
            "\n",
            "    accuracy                           1.00      5000\n",
            "   macro avg       1.00      1.00      1.00      5000\n",
            "weighted avg       1.00      1.00      1.00      5000\n",
            "\n"
          ]
        }
      ]
    },
    {
      "cell_type": "code",
      "metadata": {
        "colab": {
          "base_uri": "https://localhost:8080/"
        },
        "id": "XfDw85oQ3Xk_",
        "outputId": "39fc07e4-d5ec-4377-b95f-4fa8238d284f"
      },
      "source": [
        "accuracy_train3= accuracy_score(y_train, ypred3)\n",
        "accuracy_train3"
      ],
      "execution_count": 48,
      "outputs": [
        {
          "output_type": "execute_result",
          "data": {
            "text/plain": [
              "1.0"
            ]
          },
          "metadata": {},
          "execution_count": 48
        }
      ]
    },
    {
      "cell_type": "markdown",
      "metadata": {
        "id": "FbJIlKCY3YHL"
      },
      "source": [
        "# Performance sul Validation"
      ]
    },
    {
      "cell_type": "code",
      "metadata": {
        "colab": {
          "base_uri": "https://localhost:8080/"
        },
        "id": "dv0FtSsJ3bb-",
        "outputId": "837735ed-29c2-4164-df33-0530de09fc1f"
      },
      "source": [
        "ypred3 = lsvc.predict(feat_test)\n",
        "\n",
        "cm3 = confusion_matrix(y_test , ypred3)\n",
        "print(cm3)"
      ],
      "execution_count": 49,
      "outputs": [
        {
          "output_type": "stream",
          "name": "stdout",
          "text": [
            "[[3316  260  313   50   68]\n",
            " [ 191 3713   42   48   33]\n",
            " [ 348   74 3459   41   78]\n",
            " [  37   43   50 3707  117]\n",
            " [  55   53   76  164 3664]]\n"
          ]
        }
      ]
    },
    {
      "cell_type": "code",
      "metadata": {
        "colab": {
          "base_uri": "https://localhost:8080/"
        },
        "id": "87WajW0T3hgp",
        "outputId": "c87198e4-77b1-4ace-fc26-a4d2f89999c9"
      },
      "source": [
        "cr3 = classification_report(y_test, ypred3)\n",
        "print(cr3)"
      ],
      "execution_count": 50,
      "outputs": [
        {
          "output_type": "stream",
          "name": "stdout",
          "text": [
            "              precision    recall  f1-score   support\n",
            "\n",
            "           5       0.84      0.83      0.83      4007\n",
            "           6       0.90      0.92      0.91      4027\n",
            "           7       0.88      0.86      0.87      4000\n",
            "           8       0.92      0.94      0.93      3954\n",
            "           9       0.93      0.91      0.92      4012\n",
            "\n",
            "    accuracy                           0.89     20000\n",
            "   macro avg       0.89      0.89      0.89     20000\n",
            "weighted avg       0.89      0.89      0.89     20000\n",
            "\n"
          ]
        }
      ]
    },
    {
      "cell_type": "code",
      "metadata": {
        "colab": {
          "base_uri": "https://localhost:8080/"
        },
        "id": "yPWGPW-a3jd5",
        "outputId": "469297ba-bdff-4bb8-e77c-709dbe724f90"
      },
      "source": [
        "accuracy_validation3= accuracy_score(y_test, ypred3)\n",
        "accuracy_validation3"
      ],
      "execution_count": 51,
      "outputs": [
        {
          "output_type": "execute_result",
          "data": {
            "text/plain": [
              "0.89295"
            ]
          },
          "metadata": {},
          "execution_count": 51
        }
      ]
    },
    {
      "cell_type": "markdown",
      "metadata": {
        "id": "uvIH_Ym43kDL"
      },
      "source": [
        "#Performance sul test"
      ]
    },
    {
      "cell_type": "code",
      "metadata": {
        "colab": {
          "base_uri": "https://localhost:8080/"
        },
        "id": "kcDlufI13mU1",
        "outputId": "33c45ba2-e918-498b-d848-7ae4803fbc33"
      },
      "source": [
        "ypred3 = lsvc.predict(feat_test)\n",
        "\n",
        "cm3 = confusion_matrix(y_test , ypred3)\n",
        "print(cm3)"
      ],
      "execution_count": 52,
      "outputs": [
        {
          "output_type": "stream",
          "name": "stdout",
          "text": [
            "[[3316  260  313   50   68]\n",
            " [ 191 3713   42   48   33]\n",
            " [ 348   74 3459   41   78]\n",
            " [  37   43   50 3707  117]\n",
            " [  55   53   76  164 3664]]\n"
          ]
        }
      ]
    },
    {
      "cell_type": "code",
      "metadata": {
        "colab": {
          "base_uri": "https://localhost:8080/"
        },
        "id": "dvJH9E-u3ops",
        "outputId": "a9a8b198-20c3-429c-e4dd-eb51b5c5ced8"
      },
      "source": [
        "cr3 = classification_report(y_test, ypred3)\n",
        "print(cr3)"
      ],
      "execution_count": 53,
      "outputs": [
        {
          "output_type": "stream",
          "name": "stdout",
          "text": [
            "              precision    recall  f1-score   support\n",
            "\n",
            "           5       0.84      0.83      0.83      4007\n",
            "           6       0.90      0.92      0.91      4027\n",
            "           7       0.88      0.86      0.87      4000\n",
            "           8       0.92      0.94      0.93      3954\n",
            "           9       0.93      0.91      0.92      4012\n",
            "\n",
            "    accuracy                           0.89     20000\n",
            "   macro avg       0.89      0.89      0.89     20000\n",
            "weighted avg       0.89      0.89      0.89     20000\n",
            "\n"
          ]
        }
      ]
    },
    {
      "cell_type": "code",
      "metadata": {
        "colab": {
          "base_uri": "https://localhost:8080/"
        },
        "id": "UxJFlBEH3q-3",
        "outputId": "f2c75251-0079-4c1c-e0a3-5fa7d3e874af"
      },
      "source": [
        "accuracy_test3= accuracy_score(y_test, ypred3)\n",
        "accuracy_test3"
      ],
      "execution_count": 54,
      "outputs": [
        {
          "output_type": "execute_result",
          "data": {
            "text/plain": [
              "0.89295"
            ]
          },
          "metadata": {},
          "execution_count": 54
        }
      ]
    },
    {
      "cell_type": "markdown",
      "source": [
        "Conclusioni: il miglior modello è quello del terzo taglio"
      ],
      "metadata": {
        "id": "pLFz4zYlTFf1"
      }
    },
    {
      "cell_type": "markdown",
      "source": [
        "#Grafico accuracy Train"
      ],
      "metadata": {
        "id": "tKMFc-pdd8ht"
      }
    },
    {
      "cell_type": "code",
      "source": [
        "import matplotlib.pyplot as plt\n",
        "accuracy_train = [accuracy_train1,accuracy_train2,accuracy_train3]\n",
        "\n",
        "x_plot = list(['block5_pool','block4_pool','block3_pool'])\n",
        "\n",
        "plt.figure()\n",
        "plt.xlabel('Layer')\n",
        "plt.ylabel('Accuracy')\n",
        "plt.plot(x_plot, accuracy_train)\n",
        "\n",
        "plt.legend(['Linear svm'])"
      ],
      "metadata": {
        "colab": {
          "base_uri": "https://localhost:8080/",
          "height": 298
        },
        "id": "89jZZiVATCVV",
        "outputId": "ebb541ea-1bb9-4b73-af8d-4bf60f543178"
      },
      "execution_count": 55,
      "outputs": [
        {
          "output_type": "execute_result",
          "data": {
            "text/plain": [
              "<matplotlib.legend.Legend at 0x7ffa50280050>"
            ]
          },
          "metadata": {},
          "execution_count": 55
        },
        {
          "output_type": "display_data",
          "data": {
            "image/png": "[encoded data removed]",
            "text/plain": [
              "<Figure size 432x288 with 1 Axes>"
            ]
          },
          "metadata": {
            "needs_background": "light"
          }
        }
      ]
    },
    {
      "cell_type": "markdown",
      "source": [
        "#Grafico accuracy Validation"
      ],
      "metadata": {
        "id": "IEMl2Zn1eFxu"
      }
    },
    {
      "cell_type": "code",
      "source": [
        "\n",
        "\n",
        "accuracy_val = [accuracy_validation1,accuracy_validation2,accuracy_validation3]\n",
        "\n",
        "x_plot = list(['block5_pool','block4_pool','block3_pool'])\n",
        "\n",
        "plt.figure()\n",
        "plt.xlabel('Layer')\n",
        "plt.ylabel('Accuracy')\n",
        "plt.plot(x_plot, accuracy_val)\n",
        "\n",
        "plt.legend(['Linear svm'])"
      ],
      "metadata": {
        "colab": {
          "base_uri": "https://localhost:8080/",
          "height": 298
        },
        "id": "AHc4aQcTbjXS",
        "outputId": "2dbc7ce0-b52a-4d4a-92c8-7532f0f8e80b"
      },
      "execution_count": 56,
      "outputs": [
        {
          "output_type": "execute_result",
          "data": {
            "text/plain": [
              "<matplotlib.legend.Legend at 0x7ffa50206190>"
            ]
          },
          "metadata": {},
          "execution_count": 56
        },
        {
          "output_type": "display_data",
          "data": {
            "image/png": "[encoded data removed]",
            "text/plain": [
              "<Figure size 432x288 with 1 Axes>"
            ]
          },
          "metadata": {
            "needs_background": "light"
          }
        }
      ]
    },
    {
      "cell_type": "markdown",
      "source": [
        "#Grafico accuracy Test"
      ],
      "metadata": {
        "id": "IUhjOJ87eLEr"
      }
    },
    {
      "cell_type": "code",
      "source": [
        "\n",
        "\n",
        "accuracy_test = [accuracy_test1,accuracy_test2,accuracy_test3]\n",
        "\n",
        "x_plot = list(['block5_pool','block4_pool','block3_pool'])\n",
        "\n",
        "plt.figure()\n",
        "plt.xlabel('Layer')\n",
        "plt.ylabel('Accuracy')\n",
        "plt.plot(x_plot, accuracy_test)\n",
        "\n",
        "plt.legend(['Linear svm'])"
      ],
      "metadata": {
        "colab": {
          "base_uri": "https://localhost:8080/",
          "height": 298
        },
        "id": "wcgXlVGcbPSj",
        "outputId": "9d90018f-609c-4942-e04c-7f1f68a6f4bf"
      },
      "execution_count": 57,
      "outputs": [
        {
          "output_type": "execute_result",
          "data": {
            "text/plain": [
              "<matplotlib.legend.Legend at 0x7ffa500ba250>"
            ]
          },
          "metadata": {},
          "execution_count": 57
        },
        {
          "output_type": "display_data",
          "data": {
            "image/png": "[encoded data removed]",
            "text/plain": [
              "<Figure size 432x288 with 1 Axes>"
            ]
          },
          "metadata": {
            "needs_background": "light"
          }
        }
      ]
    }
  ]
}