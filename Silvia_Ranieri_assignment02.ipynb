{
  "nbformat": 4,
  "nbformat_minor": 0,
  "metadata": {
    "kernelspec": {
      "display_name": "Python 3",
      "language": "python",
      "name": "python3"
    },
    "language_info": {
      "codemirror_mode": {
        "name": "ipython",
        "version": 3
      },
      "file_extension": ".py",
      "mimetype": "text/x-python",
      "name": "python",
      "nbconvert_exporter": "python",
      "pygments_lexer": "ipython3",
      "version": "3.6.4"
    },
    "colab": {
      "name": "Silvia_Ranieri_assignment02_ Predicting__Letters__template.ipynb",
      "provenance": [],
      "collapsed_sections": []
    }
  },
  "cells": [
    {
      "cell_type": "markdown",
      "metadata": {
        "id": "FH5ja_uiJbr6"
      },
      "source": [
        "#Adavanced machine learning\n",
        "Master's Degree in Data Science (A.Y. 2021/2022)\n",
        "\n",
        "Assignment 2\n",
        "\n",
        "Nome: Silvia Cognome: Ranieri \\ Matricola: 878067 \\ \\\n",
        "\n",
        "\n",
        "# Predicting grayscale images of letters P - Z.\n",
        "\n",
        "The assignment consists on the prediction of grayscale images of letters P - Z.\n",
        "\n",
        "The data can be loaded as follows:\n",
        "\n",
        "import pickle \n",
        "\n",
        "```\n",
        "x_train = pickle.load(open(\"x_train.obj\",\"rb\"))\n",
        "\n",
        "x_test = pickle.load(open(\"x_test.obj\",\"rb\"))\n",
        "\n",
        "y_train = pickle.load(open(\"y_train.obj\",\"rb\"))\n",
        "```\n",
        "\n",
        "The provided data comprises the training set that can be used for the training (and for the validation) and the unlabelled balanced test set."
      ]
    },
    {
      "cell_type": "markdown",
      "metadata": {
        "id": "0-FgzT_cJbsH"
      },
      "source": [
        "##Inspecting the data\n",
        "\n",
        "any comment about data dimensionality/distribution goes here"
      ]
    },
    {
      "cell_type": "markdown",
      "metadata": {
        "id": "dqb3oLBzmkip"
      },
      "source": [
        "Il dataset è composto da  14000 osservazioni di training e 8800 di test. Queste sono immagini a colori delle lettere P-Z scritte a mano. Dalla distribuzione del grafico risulta che le classi sono abbastanza bilanciate."
      ]
    },
    {
      "cell_type": "code",
      "metadata": {
        "id": "8vSiz47HXYYM"
      },
      "source": [
        "\n",
        "import numpy as np \n",
        "from tensorflow import keras\n",
        "from tensorflow.keras import layers\n",
        "from matplotlib import pyplot as plt\n",
        "import seaborn as sns\n",
        "import tensorflow as tf\n",
        "import pickle\n",
        "from keras.layers import Input, Dense\n",
        "from keras.models import Model\n",
        "import numpy as np\n",
        "import matplotlib.pyplot as plt\n",
        "from keras.datasets import fashion_mnist\n",
        "from keras.utils import np_utils\n",
        "from keras.models import Sequential\n",
        "from keras.layers.core import Dense, Dropout\n",
        "from sklearn.model_selection import train_test_split\n",
        "from tensorflow.keras import regularizers\n",
        "from keras.backend import abs, sum\n",
        "import tensorflow as tf\n",
        "import sklearn\n",
        "from sklearn.preprocessing import LabelEncoder\n",
        "\n",
        "%matplotlib inline\n"
      ],
      "execution_count": 235,
      "outputs": []
    },
    {
      "cell_type": "code",
      "metadata": {
        "id": "c2s9TW__M2gB"
      },
      "source": [
        "x_train = pickle.load(open(\"/content/x_train.obj\",\"rb\"))\n",
        "x_test = pickle.load(open(\"/content/x_test.obj\",\"rb\"))\n",
        "y_train = pickle.load(open(\"/content/y_train.obj\",\"rb\"))\n"
      ],
      "execution_count": 236,
      "outputs": []
    },
    {
      "cell_type": "code",
      "metadata": {
        "colab": {
          "base_uri": "https://localhost:8080/"
        },
        "id": "K9oszhzMOxPQ",
        "outputId": "40735bb3-6a18-473e-cffe-d1fc737a8648"
      },
      "source": [
        "print (x_train.shape)\n",
        "print(y_train.shape)\n",
        "print(x_test.shape)"
      ],
      "execution_count": 237,
      "outputs": [
        {
          "output_type": "stream",
          "name": "stdout",
          "text": [
            "(14000, 28, 28)\n",
            "(14000,)\n",
            "(8800, 28, 28)\n"
          ]
        }
      ]
    },
    {
      "cell_type": "code",
      "metadata": {
        "colab": {
          "base_uri": "https://localhost:8080/",
          "height": 515
        },
        "id": "M_tvzM6Dll6X",
        "outputId": "3c016c39-517a-4f9a-ac7a-b454dc99dfc8"
      },
      "source": [
        "plt.figure(figsize=(10,7))\n",
        "g = sns.countplot(y_train, palette=\"flare\")\n",
        "plt.title(\"Number of digit classes\")"
      ],
      "execution_count": 238,
      "outputs": [
        {
          "output_type": "stream",
          "name": "stderr",
          "text": [
            "/usr/local/lib/python3.7/dist-packages/seaborn/_decorators.py:43: FutureWarning: Pass the following variable as a keyword arg: x. From version 0.12, the only valid positional argument will be `data`, and passing other arguments without an explicit keyword will result in an error or misinterpretation.\n",
            "  FutureWarning\n"
          ]
        },
        {
          "output_type": "execute_result",
          "data": {
            "text/plain": [
              "Text(0.5, 1.0, 'Number of digit classes')"
            ]
          },
          "metadata": {},
          "execution_count": 238
        },
        {
          "output_type": "display_data",
          "data": {
            "image/png": "[encoded data removed]",
            "text/plain": [
              "<Figure size 720x504 with 1 Axes>"
            ]
          },
          "metadata": {
            "needs_background": "light"
          }
        }
      ]
    },
    {
      "cell_type": "markdown",
      "metadata": {
        "id": "PjWrQr5vWTTG"
      },
      "source": [
        "## Preparing the data\n",
        "\n",
        "describe the choice made during the preprocessing operations, also taking into account the previous considerations during the data inspection."
      ]
    },
    {
      "cell_type": "markdown",
      "metadata": {
        "id": "MuTJGUFBn7Ve"
      },
      "source": [
        "Si esegue una normalizzazione della scala di grigi e si modifica la dimensione delle immagini in vettori di dimensione 784.\n",
        "Dopo queste operazioni si può costruire il modello.\n"
      ]
    },
    {
      "cell_type": "code",
      "metadata": {
        "id": "J84aUJVUJbsI"
      },
      "source": [
        "x_train = x_train.reshape(14000, 784)#28x28\n",
        "x_test = x_test.reshape(8800, 784)\n",
        "\n",
        "# Scale images into the [0 1] range\n",
        "x_train = x_train.astype(np.float32) / 255\n",
        "x_test = x_test.astype(np.float32) / 255"
      ],
      "execution_count": 239,
      "outputs": []
    },
    {
      "cell_type": "code",
      "metadata": {
        "id": "dK29f4h1l6kO"
      },
      "source": [
        "# convert class vectors to binary class matrices\n",
        "y_train = np_utils.to_categorical(y_train,27)"
      ],
      "execution_count": 240,
      "outputs": []
    },
    {
      "cell_type": "code",
      "metadata": {
        "colab": {
          "base_uri": "https://localhost:8080/"
        },
        "id": "Y40K7NSRl_2O",
        "outputId": "d216dd1c-50e5-4aa8-be37-71bc4d9d76db"
      },
      "source": [
        "y_train[0]"
      ],
      "execution_count": 241,
      "outputs": [
        {
          "output_type": "execute_result",
          "data": {
            "text/plain": [
              "array([0., 0., 0., 0., 0., 0., 0., 0., 0., 0., 0., 0., 0., 0., 0., 0., 0.,\n",
              "       0., 1., 0., 0., 0., 0., 0., 0., 0., 0.], dtype=float32)"
            ]
          },
          "metadata": {},
          "execution_count": 241
        }
      ]
    },
    {
      "cell_type": "code",
      "metadata": {
        "colab": {
          "base_uri": "https://localhost:8080/"
        },
        "id": "XHgO-a1Gl8eH",
        "outputId": "670bfd23-705a-49d8-fbc1-f5bcf081f6b3"
      },
      "source": [
        "print (x_train.shape)\n",
        "print(y_train.shape)\n",
        "print(x_test.shape)"
      ],
      "execution_count": 242,
      "outputs": [
        {
          "output_type": "stream",
          "name": "stdout",
          "text": [
            "(14000, 784)\n",
            "(14000, 27)\n",
            "(8800, 784)\n"
          ]
        }
      ]
    },
    {
      "cell_type": "markdown",
      "metadata": {
        "id": "baYSJzXhpd78"
      },
      "source": [
        "# 1. The resolution of the problem of supervised classification with a traditional neural network [Mandatory]\n",
        "(convolutional layers should not be used) with some motivations about the choices on data processing, number and dimension of the layers, optimization algorithms and regularization (this time mandatory), and some comments about the results (as seen in class). \n"
      ]
    },
    {
      "cell_type": "markdown",
      "metadata": {
        "id": "Eb9aljYxJbsK"
      },
      "source": [
        "## Building the network\n",
        "\n",
        "\n",
        "any description/comment about the procedure you followed in the choice of the network structure and hyperparameters goes here, together with consideration about the training/optimization procedure (e.g. optimizer choice, final activations, loss functions, training metrics)"
      ]
    },
    {
      "cell_type": "markdown",
      "metadata": {
        "id": "te0Tzs_hubvR"
      },
      "source": [
        "Il training set viene  suddiviso in train set (80%) e validation set (20%).\n"
      ]
    },
    {
      "cell_type": "code",
      "metadata": {
        "id": "pZZD_AYAxCpZ"
      },
      "source": [
        "x_train, x_val, y_train, y_val = train_test_split(x_train, y_train, test_size=0.2)"
      ],
      "execution_count": 243,
      "outputs": []
    },
    {
      "cell_type": "code",
      "metadata": {
        "colab": {
          "base_uri": "https://localhost:8080/",
          "height": 282
        },
        "id": "ZmUUWAGWIasr",
        "outputId": "e1a23138-2bf4-400e-d7fa-92c496686d30"
      },
      "source": [
        "plt.imshow(x_train[0].reshape(28, 28))"
      ],
      "execution_count": 244,
      "outputs": [
        {
          "output_type": "execute_result",
          "data": {
            "text/plain": [
              "<matplotlib.image.AxesImage at 0x7fa0ac1f2b90>"
            ]
          },
          "metadata": {},
          "execution_count": 244
        },
        {
          "output_type": "display_data",
          "data": {
            "image/png": "[encoded data removed]",
            "text/plain": [
              "<Figure size 432x288 with 1 Axes>"
            ]
          },
          "metadata": {
            "needs_background": "light"
          }
        }
      ]
    },
    {
      "cell_type": "code",
      "metadata": {
        "colab": {
          "base_uri": "https://localhost:8080/"
        },
        "id": "D4n6vcahIfDb",
        "outputId": "41dca6d2-4113-445e-88b9-4a9ddf857591"
      },
      "source": [
        "print(np.asarray(range(26)))\n",
        "print(y_train[0].astype('int'))"
      ],
      "execution_count": 245,
      "outputs": [
        {
          "output_type": "stream",
          "name": "stdout",
          "text": [
            "[ 0  1  2  3  4  5  6  7  8  9 10 11 12 13 14 15 16 17 18 19 20 21 22 23\n",
            " 24 25]\n",
            "[0 0 0 0 0 0 0 0 0 0 0 0 0 0 0 0 1 0 0 0 0 0 0 0 0 0 0]\n"
          ]
        }
      ]
    },
    {
      "cell_type": "code",
      "metadata": {
        "colab": {
          "base_uri": "https://localhost:8080/"
        },
        "id": "6_wLVuvaE6tI",
        "outputId": "e18d0bc3-a781-4ca7-e875-3b937a20a2de"
      },
      "source": [
        "print (x_train.shape)\n",
        "print(y_train.shape)\n",
        "print(x_test.shape)"
      ],
      "execution_count": 246,
      "outputs": [
        {
          "output_type": "stream",
          "name": "stdout",
          "text": [
            "(11200, 784)\n",
            "(11200, 27)\n",
            "(8800, 784)\n"
          ]
        }
      ]
    },
    {
      "cell_type": "markdown",
      "metadata": {
        "id": "qKsrooN8uwwz"
      },
      "source": [
        "Creazione delle metriche che serviranno per valutare il modello:"
      ]
    },
    {
      "cell_type": "code",
      "metadata": {
        "id": "KjejifP8SSe1"
      },
      "source": [
        "from keras import backend as K\n",
        "\n",
        "def recall_m(y_true, y_pred):\n",
        "    true_positives = K.sum(K.round(K.clip(y_true * y_pred, 0, 1)))\n",
        "    possible_positives = K.sum(K.round(K.clip(y_true, 0, 1)))\n",
        "    recall = true_positives / (possible_positives + K.epsilon())\n",
        "    return recall\n",
        "\n",
        "def precision_m(y_true, y_pred):\n",
        "    true_positives = K.sum(K.round(K.clip(y_true * y_pred, 0, 1)))\n",
        "    predicted_positives = K.sum(K.round(K.clip(y_pred, 0, 1)))\n",
        "    precision = true_positives / (predicted_positives + K.epsilon())\n",
        "    return precision\n",
        "\n",
        "def f1_m(y_true, y_pred):\n",
        "    precision = precision_m(y_true, y_pred)\n",
        "    recall = recall_m(y_true, y_pred)\n",
        "    return 2*((precision*recall)/(precision+recall+K.epsilon()))"
      ],
      "execution_count": 247,
      "outputs": []
    },
    {
      "cell_type": "markdown",
      "metadata": {
        "id": "_LwvzMYz81Tu"
      },
      "source": [
        "**Costruisco il modello:**\n",
        "\n",
        "Ho provato diverse combinazioni e stabilito 4 livelli nascosti composti da 256, 128, 32, 16 unità, combinazione che otteneva miglior performance.\n",
        "\n",
        "Ho utilizato la tecnica di dropout, perchè determinava dei risultati migliori rispetto alla tecnica di regolarizzazione semplice, sia in termini di accurancy sia per le altre metriche.\n",
        "Il dropout è una tecnica in cui i neuroni selezionati casualmente vengono ignorati durante l'allenamento. Sono \"abbandonati\" casualmente. Ciò significa che il loro contributo all'attivazione dei neuroni a valle viene temporaneamente rimosso nel passaggio in avanti e gli eventuali aggiornamenti di peso non vengono applicati al neurone nel passaggio all'indietro.\n",
        "\n",
        "L'effetto è che la rete diventa meno sensibile ai pesi specifici dei neuroni. Ciò a sua volta si traduce in una rete che è in grado di generalizzare meglio ed è meno probabile che si sovrapponga ai dati di addestramento.\n",
        "\n",
        "Ho scelto di eliminare in tutti i livelli nascosti il ​​20% delle unità.\n",
        "\n",
        "**Funzione di attivazione:** scelgo la funzione ReLU che è adatta per questo modello e in generale è una buona scelta per i livelli nascosti.\n",
        "\n",
        "**Optimizer:** scelgo Adam perché determina prestazioni migliori.\n",
        "\n",
        "\n",
        "**Metriche:** ho misurato le peformance del modello attraverso accurancy, precision e recall.\n",
        "\n",
        "**Funzione di output:** softmax,  prestazioni migliori per questo modello. Inoltre , utile nei problemi di classificazione con n classi (n > 2) "
      ]
    },
    {
      "cell_type": "code",
      "metadata": {
        "id": "Uwj-QIy-se9C"
      },
      "source": [
        "\n",
        "initializer = tf.keras.initializers.GlorotUniform(seed=1234)\n",
        "\n",
        "def NeuralNetwork_Drop():\n",
        "  dims = x_train.shape[1]\n",
        "  nb_classes = 27\n",
        "  model_d = Sequential()\n",
        "  model_d.add(Dense(256, input_shape=(dims,), activation = \"relu\", kernel_initializer=initializer))\n",
        "  model_d.add(Dense(128, activation = \"relu\", kernel_initializer=initializer))\n",
        "  model_d.add(Dropout(0.2))\n",
        "  model_d.add(Dense(32, activation = \"relu\", kernel_initializer=initializer))\n",
        "  model_d.add(Dropout(0.2))\n",
        "  model_d.add(Dense(16, activation = \"relu\", kernel_initializer=initializer))\n",
        "  model_d.add(Dropout(0.2))\n",
        "  model_d.add(Dense(nb_classes, activation = \"softmax\", kernel_initializer=initializer))\n",
        "\n",
        "  from tensorflow.keras.optimizers import SGD,Adam\n",
        "  model_d.compile(optimizer=Adam(lr=0.001), loss='categorical_crossentropy',metrics=['accuracy',f1_m,precision_m, recall_m])\n",
        "  return model_d"
      ],
      "execution_count": 248,
      "outputs": []
    },
    {
      "cell_type": "code",
      "metadata": {
        "colab": {
          "base_uri": "https://localhost:8080/"
        },
        "id": "IEVJFNocski3",
        "outputId": "c9a53d56-53c8-4c8f-d0f0-fc97fe0d2bc1"
      },
      "source": [
        "model_drop = NeuralNetwork_Drop()\n",
        "model_drop.summary()\n"
      ],
      "execution_count": 249,
      "outputs": [
        {
          "output_type": "stream",
          "name": "stdout",
          "text": [
            "Model: \"sequential_11\"\n",
            "_________________________________________________________________\n",
            " Layer (type)                Output Shape              Param #   \n",
            "=================================================================\n",
            " dense_66 (Dense)            (None, 256)               200960    \n",
            "                                                                 \n",
            " dense_67 (Dense)            (None, 128)               32896     \n",
            "                                                                 \n",
            " dropout_32 (Dropout)        (None, 128)               0         \n",
            "                                                                 \n",
            " dense_68 (Dense)            (None, 32)                4128      \n",
            "                                                                 \n",
            " dropout_33 (Dropout)        (None, 32)                0         \n",
            "                                                                 \n",
            " dense_69 (Dense)            (None, 16)                528       \n",
            "                                                                 \n",
            " dropout_34 (Dropout)        (None, 16)                0         \n",
            "                                                                 \n",
            " dense_70 (Dense)            (None, 27)                459       \n",
            "                                                                 \n",
            "=================================================================\n",
            "Total params: 238,971\n",
            "Trainable params: 238,971\n",
            "Non-trainable params: 0\n",
            "_________________________________________________________________\n"
          ]
        },
        {
          "output_type": "stream",
          "name": "stderr",
          "text": [
            "/usr/local/lib/python3.7/dist-packages/keras/optimizer_v2/adam.py:105: UserWarning: The `lr` argument is deprecated, use `learning_rate` instead.\n",
            "  super(Adam, self).__init__(name, **kwargs)\n"
          ]
        }
      ]
    },
    {
      "cell_type": "markdown",
      "metadata": {
        "id": "8w7UIdtIWuCD"
      },
      "source": [
        "## Analyze and comment the training results\n",
        "\n",
        "here goes any comment/visualization of the training history and any initial consideration on the training results  "
      ]
    },
    {
      "cell_type": "markdown",
      "metadata": {
        "id": "2jiOZzvyJbsN"
      },
      "source": [
        "## Validate the model and comment the results\n",
        "\n",
        "please describe the evaluation procedure on a validation set, commenting the generalization capability of your model (e.g. under/overfitting). You may also describe the performance metrics that you choose: what is the most suitable performance measure (or set of performance measures) in this case/dataset, according to you? Why?"
      ]
    },
    {
      "cell_type": "markdown",
      "metadata": {
        "id": "Jb_1fEx4IDHy"
      },
      "source": [
        "Per bilanciare il numero di epoche con il batchsize ho effetuato diverse prove, ho scelto 90 epoche perchè con questo valore l'accurancy del modello non aumenta e la funzione di perdita non diminuisce troppo. Per il batch size ho provato diverse dimensioni (32,64,128,256,512), miglior performance  con 128. Questi sono i risultati del modello con regolarizzazione:"
      ]
    },
    {
      "cell_type": "code",
      "metadata": {
        "colab": {
          "base_uri": "https://localhost:8080/"
        },
        "id": "WyuzNvm2IFMK",
        "outputId": "7bcb0c40-8de2-40cb-d43f-c2bdd77a8740"
      },
      "source": [
        "n_epochs = 90\n",
        "network_history = model_drop.fit(x_train, y_train, batch_size=128, \n",
        "                            epochs=n_epochs, verbose=2, validation_data=(x_val, y_val))"
      ],
      "execution_count": 250,
      "outputs": [
        {
          "output_type": "stream",
          "name": "stdout",
          "text": [
            "Epoch 1/90\n",
            "88/88 - 2s - loss: 2.0750 - accuracy: 0.3670 - f1_m: 0.2305 - precision_m: 0.5462 - recall_m: 0.1586 - val_loss: 0.9093 - val_accuracy: 0.7500 - val_f1_m: 0.6868 - val_precision_m: 0.8958 - val_recall_m: 0.5579 - 2s/epoch - 18ms/step\n",
            "Epoch 2/90\n",
            "88/88 - 1s - loss: 1.1111 - accuracy: 0.6576 - f1_m: 0.6177 - precision_m: 0.8014 - recall_m: 0.5048 - val_loss: 0.6281 - val_accuracy: 0.8171 - val_f1_m: 0.8016 - val_precision_m: 0.8990 - val_recall_m: 0.7236 - 601ms/epoch - 7ms/step\n",
            "Epoch 3/90\n",
            "88/88 - 1s - loss: 0.8178 - accuracy: 0.7444 - f1_m: 0.7287 - precision_m: 0.8525 - recall_m: 0.6373 - val_loss: 0.4681 - val_accuracy: 0.8732 - val_f1_m: 0.8674 - val_precision_m: 0.9222 - val_recall_m: 0.8191 - 717ms/epoch - 8ms/step\n",
            "Epoch 4/90\n",
            "88/88 - 1s - loss: 0.6478 - accuracy: 0.8052 - f1_m: 0.7936 - precision_m: 0.8798 - recall_m: 0.7234 - val_loss: 0.3768 - val_accuracy: 0.9021 - val_f1_m: 0.9006 - val_precision_m: 0.9319 - val_recall_m: 0.8716 - 619ms/epoch - 7ms/step\n",
            "Epoch 5/90\n",
            "88/88 - 1s - loss: 0.5198 - accuracy: 0.8448 - f1_m: 0.8396 - precision_m: 0.9008 - recall_m: 0.7867 - val_loss: 0.3164 - val_accuracy: 0.9168 - val_f1_m: 0.9181 - val_precision_m: 0.9395 - val_recall_m: 0.8979 - 614ms/epoch - 7ms/step\n",
            "Epoch 6/90\n",
            "88/88 - 1s - loss: 0.4372 - accuracy: 0.8729 - f1_m: 0.8691 - precision_m: 0.9172 - recall_m: 0.8263 - val_loss: 0.3000 - val_accuracy: 0.9221 - val_f1_m: 0.9223 - val_precision_m: 0.9423 - val_recall_m: 0.9032 - 604ms/epoch - 7ms/step\n",
            "Epoch 7/90\n",
            "88/88 - 1s - loss: 0.3800 - accuracy: 0.8886 - f1_m: 0.8855 - precision_m: 0.9257 - recall_m: 0.8491 - val_loss: 0.2790 - val_accuracy: 0.9304 - val_f1_m: 0.9317 - val_precision_m: 0.9424 - val_recall_m: 0.9212 - 603ms/epoch - 7ms/step\n",
            "Epoch 8/90\n",
            "88/88 - 1s - loss: 0.3383 - accuracy: 0.9032 - f1_m: 0.9007 - precision_m: 0.9325 - recall_m: 0.8713 - val_loss: 0.2639 - val_accuracy: 0.9329 - val_f1_m: 0.9366 - val_precision_m: 0.9471 - val_recall_m: 0.9264 - 591ms/epoch - 7ms/step\n",
            "Epoch 9/90\n",
            "88/88 - 1s - loss: 0.2918 - accuracy: 0.9121 - f1_m: 0.9126 - precision_m: 0.9398 - recall_m: 0.8871 - val_loss: 0.2654 - val_accuracy: 0.9361 - val_f1_m: 0.9370 - val_precision_m: 0.9478 - val_recall_m: 0.9265 - 608ms/epoch - 7ms/step\n",
            "Epoch 10/90\n",
            "88/88 - 1s - loss: 0.2691 - accuracy: 0.9236 - f1_m: 0.9199 - precision_m: 0.9441 - recall_m: 0.8970 - val_loss: 0.2930 - val_accuracy: 0.9307 - val_f1_m: 0.9328 - val_precision_m: 0.9434 - val_recall_m: 0.9225 - 694ms/epoch - 8ms/step\n",
            "Epoch 11/90\n",
            "88/88 - 1s - loss: 0.2368 - accuracy: 0.9294 - f1_m: 0.9289 - precision_m: 0.9504 - recall_m: 0.9085 - val_loss: 0.2758 - val_accuracy: 0.9418 - val_f1_m: 0.9437 - val_precision_m: 0.9516 - val_recall_m: 0.9360 - 594ms/epoch - 7ms/step\n",
            "Epoch 12/90\n",
            "88/88 - 1s - loss: 0.2156 - accuracy: 0.9363 - f1_m: 0.9355 - precision_m: 0.9542 - recall_m: 0.9176 - val_loss: 0.2830 - val_accuracy: 0.9375 - val_f1_m: 0.9385 - val_precision_m: 0.9463 - val_recall_m: 0.9308 - 699ms/epoch - 8ms/step\n",
            "Epoch 13/90\n",
            "88/88 - 1s - loss: 0.2109 - accuracy: 0.9355 - f1_m: 0.9364 - precision_m: 0.9539 - recall_m: 0.9197 - val_loss: 0.2772 - val_accuracy: 0.9414 - val_f1_m: 0.9422 - val_precision_m: 0.9480 - val_recall_m: 0.9365 - 607ms/epoch - 7ms/step\n",
            "Epoch 14/90\n",
            "88/88 - 1s - loss: 0.1890 - accuracy: 0.9409 - f1_m: 0.9416 - precision_m: 0.9580 - recall_m: 0.9258 - val_loss: 0.2815 - val_accuracy: 0.9404 - val_f1_m: 0.9415 - val_precision_m: 0.9473 - val_recall_m: 0.9358 - 596ms/epoch - 7ms/step\n",
            "Epoch 15/90\n",
            "88/88 - 1s - loss: 0.1666 - accuracy: 0.9508 - f1_m: 0.9502 - precision_m: 0.9631 - recall_m: 0.9379 - val_loss: 0.2892 - val_accuracy: 0.9432 - val_f1_m: 0.9440 - val_precision_m: 0.9488 - val_recall_m: 0.9393 - 619ms/epoch - 7ms/step\n",
            "Epoch 16/90\n",
            "88/88 - 1s - loss: 0.1658 - accuracy: 0.9477 - f1_m: 0.9459 - precision_m: 0.9604 - recall_m: 0.9318 - val_loss: 0.2999 - val_accuracy: 0.9414 - val_f1_m: 0.9417 - val_precision_m: 0.9471 - val_recall_m: 0.9365 - 595ms/epoch - 7ms/step\n",
            "Epoch 17/90\n",
            "88/88 - 1s - loss: 0.1479 - accuracy: 0.9546 - f1_m: 0.9537 - precision_m: 0.9652 - recall_m: 0.9426 - val_loss: 0.2930 - val_accuracy: 0.9396 - val_f1_m: 0.9404 - val_precision_m: 0.9458 - val_recall_m: 0.9351 - 622ms/epoch - 7ms/step\n",
            "Epoch 18/90\n",
            "88/88 - 1s - loss: 0.1391 - accuracy: 0.9558 - f1_m: 0.9567 - precision_m: 0.9665 - recall_m: 0.9472 - val_loss: 0.2980 - val_accuracy: 0.9404 - val_f1_m: 0.9421 - val_precision_m: 0.9463 - val_recall_m: 0.9379 - 602ms/epoch - 7ms/step\n",
            "Epoch 19/90\n",
            "88/88 - 1s - loss: 0.1270 - accuracy: 0.9631 - f1_m: 0.9625 - precision_m: 0.9718 - recall_m: 0.9535 - val_loss: 0.3138 - val_accuracy: 0.9429 - val_f1_m: 0.9448 - val_precision_m: 0.9479 - val_recall_m: 0.9418 - 612ms/epoch - 7ms/step\n",
            "Epoch 20/90\n",
            "88/88 - 1s - loss: 0.1232 - accuracy: 0.9619 - f1_m: 0.9617 - precision_m: 0.9705 - recall_m: 0.9530 - val_loss: 0.3292 - val_accuracy: 0.9418 - val_f1_m: 0.9415 - val_precision_m: 0.9456 - val_recall_m: 0.9375 - 610ms/epoch - 7ms/step\n",
            "Epoch 21/90\n",
            "88/88 - 1s - loss: 0.1161 - accuracy: 0.9629 - f1_m: 0.9637 - precision_m: 0.9712 - recall_m: 0.9564 - val_loss: 0.3630 - val_accuracy: 0.9339 - val_f1_m: 0.9341 - val_precision_m: 0.9373 - val_recall_m: 0.9309 - 601ms/epoch - 7ms/step\n",
            "Epoch 22/90\n",
            "88/88 - 1s - loss: 0.1185 - accuracy: 0.9649 - f1_m: 0.9652 - precision_m: 0.9742 - recall_m: 0.9563 - val_loss: 0.3194 - val_accuracy: 0.9414 - val_f1_m: 0.9437 - val_precision_m: 0.9474 - val_recall_m: 0.9399 - 607ms/epoch - 7ms/step\n",
            "Epoch 23/90\n",
            "88/88 - 1s - loss: 0.0996 - accuracy: 0.9694 - f1_m: 0.9709 - precision_m: 0.9776 - recall_m: 0.9644 - val_loss: 0.3639 - val_accuracy: 0.9371 - val_f1_m: 0.9381 - val_precision_m: 0.9411 - val_recall_m: 0.9351 - 618ms/epoch - 7ms/step\n",
            "Epoch 24/90\n",
            "88/88 - 1s - loss: 0.1150 - accuracy: 0.9645 - f1_m: 0.9646 - precision_m: 0.9717 - recall_m: 0.9577 - val_loss: 0.3375 - val_accuracy: 0.9400 - val_f1_m: 0.9421 - val_precision_m: 0.9457 - val_recall_m: 0.9386 - 673ms/epoch - 8ms/step\n",
            "Epoch 25/90\n",
            "88/88 - 1s - loss: 0.1015 - accuracy: 0.9680 - f1_m: 0.9674 - precision_m: 0.9742 - recall_m: 0.9607 - val_loss: 0.3649 - val_accuracy: 0.9357 - val_f1_m: 0.9362 - val_precision_m: 0.9398 - val_recall_m: 0.9327 - 592ms/epoch - 7ms/step\n",
            "Epoch 26/90\n",
            "88/88 - 1s - loss: 0.0888 - accuracy: 0.9742 - f1_m: 0.9741 - precision_m: 0.9797 - recall_m: 0.9687 - val_loss: 0.3502 - val_accuracy: 0.9425 - val_f1_m: 0.9440 - val_precision_m: 0.9465 - val_recall_m: 0.9415 - 667ms/epoch - 8ms/step\n",
            "Epoch 27/90\n",
            "88/88 - 1s - loss: 0.0947 - accuracy: 0.9703 - f1_m: 0.9704 - precision_m: 0.9761 - recall_m: 0.9648 - val_loss: 0.3987 - val_accuracy: 0.9379 - val_f1_m: 0.9395 - val_precision_m: 0.9436 - val_recall_m: 0.9354 - 612ms/epoch - 7ms/step\n",
            "Epoch 28/90\n",
            "88/88 - 1s - loss: 0.0905 - accuracy: 0.9726 - f1_m: 0.9722 - precision_m: 0.9781 - recall_m: 0.9664 - val_loss: 0.3455 - val_accuracy: 0.9446 - val_f1_m: 0.9450 - val_precision_m: 0.9479 - val_recall_m: 0.9422 - 609ms/epoch - 7ms/step\n",
            "Epoch 29/90\n",
            "88/88 - 1s - loss: 0.0871 - accuracy: 0.9721 - f1_m: 0.9720 - precision_m: 0.9773 - recall_m: 0.9668 - val_loss: 0.3669 - val_accuracy: 0.9404 - val_f1_m: 0.9414 - val_precision_m: 0.9437 - val_recall_m: 0.9390 - 577ms/epoch - 7ms/step\n",
            "Epoch 30/90\n",
            "88/88 - 1s - loss: 0.0900 - accuracy: 0.9712 - f1_m: 0.9714 - precision_m: 0.9769 - recall_m: 0.9661 - val_loss: 0.4364 - val_accuracy: 0.9304 - val_f1_m: 0.9310 - val_precision_m: 0.9353 - val_recall_m: 0.9268 - 606ms/epoch - 7ms/step\n",
            "Epoch 31/90\n",
            "88/88 - 1s - loss: 0.0888 - accuracy: 0.9733 - f1_m: 0.9740 - precision_m: 0.9802 - recall_m: 0.9679 - val_loss: 0.3766 - val_accuracy: 0.9404 - val_f1_m: 0.9426 - val_precision_m: 0.9458 - val_recall_m: 0.9394 - 588ms/epoch - 7ms/step\n",
            "Epoch 32/90\n",
            "88/88 - 1s - loss: 0.0711 - accuracy: 0.9781 - f1_m: 0.9782 - precision_m: 0.9832 - recall_m: 0.9733 - val_loss: 0.3855 - val_accuracy: 0.9429 - val_f1_m: 0.9437 - val_precision_m: 0.9471 - val_recall_m: 0.9403 - 669ms/epoch - 8ms/step\n",
            "Epoch 33/90\n",
            "88/88 - 1s - loss: 0.0649 - accuracy: 0.9782 - f1_m: 0.9790 - precision_m: 0.9829 - recall_m: 0.9751 - val_loss: 0.3821 - val_accuracy: 0.9471 - val_f1_m: 0.9477 - val_precision_m: 0.9505 - val_recall_m: 0.9450 - 602ms/epoch - 7ms/step\n",
            "Epoch 34/90\n",
            "88/88 - 1s - loss: 0.0624 - accuracy: 0.9810 - f1_m: 0.9812 - precision_m: 0.9844 - recall_m: 0.9782 - val_loss: 0.4107 - val_accuracy: 0.9432 - val_f1_m: 0.9446 - val_precision_m: 0.9471 - val_recall_m: 0.9422 - 603ms/epoch - 7ms/step\n",
            "Epoch 35/90\n",
            "88/88 - 1s - loss: 0.0641 - accuracy: 0.9795 - f1_m: 0.9799 - precision_m: 0.9836 - recall_m: 0.9763 - val_loss: 0.4504 - val_accuracy: 0.9357 - val_f1_m: 0.9362 - val_precision_m: 0.9397 - val_recall_m: 0.9328 - 603ms/epoch - 7ms/step\n",
            "Epoch 36/90\n",
            "88/88 - 1s - loss: 0.0781 - accuracy: 0.9773 - f1_m: 0.9772 - precision_m: 0.9811 - recall_m: 0.9734 - val_loss: 0.4663 - val_accuracy: 0.9307 - val_f1_m: 0.9308 - val_precision_m: 0.9352 - val_recall_m: 0.9265 - 638ms/epoch - 7ms/step\n",
            "Epoch 37/90\n",
            "88/88 - 1s - loss: 0.0619 - accuracy: 0.9804 - f1_m: 0.9812 - precision_m: 0.9846 - recall_m: 0.9778 - val_loss: 0.4817 - val_accuracy: 0.9329 - val_f1_m: 0.9330 - val_precision_m: 0.9364 - val_recall_m: 0.9297 - 585ms/epoch - 7ms/step\n",
            "Epoch 38/90\n",
            "88/88 - 1s - loss: 0.0594 - accuracy: 0.9816 - f1_m: 0.9813 - precision_m: 0.9846 - recall_m: 0.9780 - val_loss: 0.4408 - val_accuracy: 0.9432 - val_f1_m: 0.9443 - val_precision_m: 0.9478 - val_recall_m: 0.9409 - 620ms/epoch - 7ms/step\n",
            "Epoch 39/90\n",
            "88/88 - 1s - loss: 0.0620 - accuracy: 0.9796 - f1_m: 0.9802 - precision_m: 0.9834 - recall_m: 0.9771 - val_loss: 0.4683 - val_accuracy: 0.9411 - val_f1_m: 0.9428 - val_precision_m: 0.9450 - val_recall_m: 0.9406 - 600ms/epoch - 7ms/step\n",
            "Epoch 40/90\n",
            "88/88 - 1s - loss: 0.0632 - accuracy: 0.9820 - f1_m: 0.9820 - precision_m: 0.9857 - recall_m: 0.9783 - val_loss: 0.4125 - val_accuracy: 0.9436 - val_f1_m: 0.9454 - val_precision_m: 0.9484 - val_recall_m: 0.9426 - 598ms/epoch - 7ms/step\n",
            "Epoch 41/90\n",
            "88/88 - 1s - loss: 0.0595 - accuracy: 0.9823 - f1_m: 0.9819 - precision_m: 0.9854 - recall_m: 0.9785 - val_loss: 0.4975 - val_accuracy: 0.9400 - val_f1_m: 0.9412 - val_precision_m: 0.9433 - val_recall_m: 0.9392 - 612ms/epoch - 7ms/step\n",
            "Epoch 42/90\n",
            "88/88 - 1s - loss: 0.0549 - accuracy: 0.9806 - f1_m: 0.9809 - precision_m: 0.9840 - recall_m: 0.9778 - val_loss: 0.4552 - val_accuracy: 0.9425 - val_f1_m: 0.9430 - val_precision_m: 0.9447 - val_recall_m: 0.9414 - 584ms/epoch - 7ms/step\n",
            "Epoch 43/90\n",
            "88/88 - 1s - loss: 0.0609 - accuracy: 0.9808 - f1_m: 0.9816 - precision_m: 0.9851 - recall_m: 0.9782 - val_loss: 0.4581 - val_accuracy: 0.9436 - val_f1_m: 0.9449 - val_precision_m: 0.9479 - val_recall_m: 0.9418 - 592ms/epoch - 7ms/step\n",
            "Epoch 44/90\n",
            "88/88 - 1s - loss: 0.0479 - accuracy: 0.9839 - f1_m: 0.9835 - precision_m: 0.9863 - recall_m: 0.9808 - val_loss: 0.4691 - val_accuracy: 0.9461 - val_f1_m: 0.9471 - val_precision_m: 0.9492 - val_recall_m: 0.9450 - 591ms/epoch - 7ms/step\n",
            "Epoch 45/90\n",
            "88/88 - 1s - loss: 0.0479 - accuracy: 0.9849 - f1_m: 0.9850 - precision_m: 0.9880 - recall_m: 0.9821 - val_loss: 0.5165 - val_accuracy: 0.9393 - val_f1_m: 0.9396 - val_precision_m: 0.9414 - val_recall_m: 0.9380 - 579ms/epoch - 7ms/step\n",
            "Epoch 46/90\n",
            "88/88 - 1s - loss: 0.0454 - accuracy: 0.9868 - f1_m: 0.9868 - precision_m: 0.9889 - recall_m: 0.9846 - val_loss: 0.4809 - val_accuracy: 0.9457 - val_f1_m: 0.9469 - val_precision_m: 0.9481 - val_recall_m: 0.9457 - 619ms/epoch - 7ms/step\n",
            "Epoch 47/90\n",
            "88/88 - 1s - loss: 0.0483 - accuracy: 0.9852 - f1_m: 0.9854 - precision_m: 0.9877 - recall_m: 0.9831 - val_loss: 0.4730 - val_accuracy: 0.9461 - val_f1_m: 0.9470 - val_precision_m: 0.9501 - val_recall_m: 0.9439 - 592ms/epoch - 7ms/step\n",
            "Epoch 48/90\n",
            "88/88 - 1s - loss: 0.0450 - accuracy: 0.9862 - f1_m: 0.9861 - precision_m: 0.9881 - recall_m: 0.9840 - val_loss: 0.5492 - val_accuracy: 0.9371 - val_f1_m: 0.9373 - val_precision_m: 0.9407 - val_recall_m: 0.9340 - 582ms/epoch - 7ms/step\n",
            "Epoch 49/90\n",
            "88/88 - 1s - loss: 0.0459 - accuracy: 0.9852 - f1_m: 0.9856 - precision_m: 0.9880 - recall_m: 0.9833 - val_loss: 0.5090 - val_accuracy: 0.9425 - val_f1_m: 0.9434 - val_precision_m: 0.9465 - val_recall_m: 0.9403 - 587ms/epoch - 7ms/step\n",
            "Epoch 50/90\n",
            "88/88 - 1s - loss: 0.0478 - accuracy: 0.9861 - f1_m: 0.9859 - precision_m: 0.9882 - recall_m: 0.9836 - val_loss: 0.5491 - val_accuracy: 0.9379 - val_f1_m: 0.9387 - val_precision_m: 0.9395 - val_recall_m: 0.9379 - 587ms/epoch - 7ms/step\n",
            "Epoch 51/90\n",
            "88/88 - 1s - loss: 0.0607 - accuracy: 0.9829 - f1_m: 0.9827 - precision_m: 0.9863 - recall_m: 0.9791 - val_loss: 0.5412 - val_accuracy: 0.9336 - val_f1_m: 0.9357 - val_precision_m: 0.9386 - val_recall_m: 0.9328 - 608ms/epoch - 7ms/step\n",
            "Epoch 52/90\n",
            "88/88 - 1s - loss: 0.0554 - accuracy: 0.9848 - f1_m: 0.9852 - precision_m: 0.9880 - recall_m: 0.9824 - val_loss: 0.5574 - val_accuracy: 0.9371 - val_f1_m: 0.9385 - val_precision_m: 0.9409 - val_recall_m: 0.9361 - 603ms/epoch - 7ms/step\n",
            "Epoch 53/90\n",
            "88/88 - 1s - loss: 0.0551 - accuracy: 0.9842 - f1_m: 0.9842 - precision_m: 0.9878 - recall_m: 0.9807 - val_loss: 0.4876 - val_accuracy: 0.9429 - val_f1_m: 0.9435 - val_precision_m: 0.9457 - val_recall_m: 0.9413 - 624ms/epoch - 7ms/step\n",
            "Epoch 54/90\n",
            "88/88 - 1s - loss: 0.0474 - accuracy: 0.9849 - f1_m: 0.9859 - precision_m: 0.9882 - recall_m: 0.9837 - val_loss: 0.5620 - val_accuracy: 0.9382 - val_f1_m: 0.9380 - val_precision_m: 0.9395 - val_recall_m: 0.9365 - 599ms/epoch - 7ms/step\n",
            "Epoch 55/90\n",
            "88/88 - 1s - loss: 0.0615 - accuracy: 0.9818 - f1_m: 0.9824 - precision_m: 0.9851 - recall_m: 0.9798 - val_loss: 0.4664 - val_accuracy: 0.9486 - val_f1_m: 0.9493 - val_precision_m: 0.9522 - val_recall_m: 0.9464 - 594ms/epoch - 7ms/step\n",
            "Epoch 56/90\n",
            "88/88 - 1s - loss: 0.0415 - accuracy: 0.9872 - f1_m: 0.9874 - precision_m: 0.9896 - recall_m: 0.9854 - val_loss: 0.5123 - val_accuracy: 0.9464 - val_f1_m: 0.9471 - val_precision_m: 0.9490 - val_recall_m: 0.9453 - 597ms/epoch - 7ms/step\n",
            "Epoch 57/90\n",
            "88/88 - 1s - loss: 0.0389 - accuracy: 0.9893 - f1_m: 0.9897 - precision_m: 0.9914 - recall_m: 0.9880 - val_loss: 0.5478 - val_accuracy: 0.9414 - val_f1_m: 0.9426 - val_precision_m: 0.9442 - val_recall_m: 0.9411 - 590ms/epoch - 7ms/step\n",
            "Epoch 58/90\n",
            "88/88 - 1s - loss: 0.0354 - accuracy: 0.9879 - f1_m: 0.9883 - precision_m: 0.9902 - recall_m: 0.9863 - val_loss: 0.5515 - val_accuracy: 0.9425 - val_f1_m: 0.9431 - val_precision_m: 0.9445 - val_recall_m: 0.9417 - 607ms/epoch - 7ms/step\n",
            "Epoch 59/90\n",
            "88/88 - 1s - loss: 0.0375 - accuracy: 0.9886 - f1_m: 0.9885 - precision_m: 0.9904 - recall_m: 0.9867 - val_loss: 0.5818 - val_accuracy: 0.9396 - val_f1_m: 0.9402 - val_precision_m: 0.9419 - val_recall_m: 0.9386 - 568ms/epoch - 6ms/step\n",
            "Epoch 60/90\n",
            "88/88 - 1s - loss: 0.0447 - accuracy: 0.9866 - f1_m: 0.9870 - precision_m: 0.9894 - recall_m: 0.9847 - val_loss: 0.5635 - val_accuracy: 0.9393 - val_f1_m: 0.9397 - val_precision_m: 0.9406 - val_recall_m: 0.9388 - 632ms/epoch - 7ms/step\n",
            "Epoch 61/90\n",
            "88/88 - 1s - loss: 0.0505 - accuracy: 0.9858 - f1_m: 0.9855 - precision_m: 0.9878 - recall_m: 0.9832 - val_loss: 0.6176 - val_accuracy: 0.9393 - val_f1_m: 0.9390 - val_precision_m: 0.9412 - val_recall_m: 0.9368 - 596ms/epoch - 7ms/step\n",
            "Epoch 62/90\n",
            "88/88 - 1s - loss: 0.0407 - accuracy: 0.9885 - f1_m: 0.9895 - precision_m: 0.9909 - recall_m: 0.9881 - val_loss: 0.5380 - val_accuracy: 0.9414 - val_f1_m: 0.9413 - val_precision_m: 0.9440 - val_recall_m: 0.9386 - 597ms/epoch - 7ms/step\n",
            "Epoch 63/90\n",
            "88/88 - 1s - loss: 0.0337 - accuracy: 0.9905 - f1_m: 0.9908 - precision_m: 0.9921 - recall_m: 0.9895 - val_loss: 0.5243 - val_accuracy: 0.9450 - val_f1_m: 0.9451 - val_precision_m: 0.9463 - val_recall_m: 0.9439 - 590ms/epoch - 7ms/step\n",
            "Epoch 64/90\n",
            "88/88 - 1s - loss: 0.0465 - accuracy: 0.9870 - f1_m: 0.9867 - precision_m: 0.9888 - recall_m: 0.9846 - val_loss: 0.5123 - val_accuracy: 0.9443 - val_f1_m: 0.9446 - val_precision_m: 0.9460 - val_recall_m: 0.9433 - 606ms/epoch - 7ms/step\n",
            "Epoch 65/90\n",
            "88/88 - 1s - loss: 0.0346 - accuracy: 0.9904 - f1_m: 0.9903 - precision_m: 0.9920 - recall_m: 0.9885 - val_loss: 0.5029 - val_accuracy: 0.9489 - val_f1_m: 0.9498 - val_precision_m: 0.9520 - val_recall_m: 0.9476 - 592ms/epoch - 7ms/step\n",
            "Epoch 66/90\n",
            "88/88 - 1s - loss: 0.0313 - accuracy: 0.9902 - f1_m: 0.9907 - precision_m: 0.9923 - recall_m: 0.9892 - val_loss: 0.5363 - val_accuracy: 0.9446 - val_f1_m: 0.9452 - val_precision_m: 0.9472 - val_recall_m: 0.9433 - 594ms/epoch - 7ms/step\n",
            "Epoch 67/90\n",
            "88/88 - 1s - loss: 0.0383 - accuracy: 0.9891 - f1_m: 0.9891 - precision_m: 0.9903 - recall_m: 0.9878 - val_loss: 0.5034 - val_accuracy: 0.9436 - val_f1_m: 0.9441 - val_precision_m: 0.9463 - val_recall_m: 0.9419 - 601ms/epoch - 7ms/step\n",
            "Epoch 68/90\n",
            "88/88 - 1s - loss: 0.0344 - accuracy: 0.9902 - f1_m: 0.9902 - precision_m: 0.9922 - recall_m: 0.9883 - val_loss: 0.5319 - val_accuracy: 0.9450 - val_f1_m: 0.9468 - val_precision_m: 0.9499 - val_recall_m: 0.9437 - 663ms/epoch - 8ms/step\n",
            "Epoch 69/90\n",
            "88/88 - 1s - loss: 0.0385 - accuracy: 0.9883 - f1_m: 0.9886 - precision_m: 0.9902 - recall_m: 0.9869 - val_loss: 0.6385 - val_accuracy: 0.9350 - val_f1_m: 0.9365 - val_precision_m: 0.9390 - val_recall_m: 0.9340 - 667ms/epoch - 8ms/step\n",
            "Epoch 70/90\n",
            "88/88 - 1s - loss: 0.0330 - accuracy: 0.9896 - f1_m: 0.9896 - precision_m: 0.9911 - recall_m: 0.9881 - val_loss: 0.5688 - val_accuracy: 0.9454 - val_f1_m: 0.9464 - val_precision_m: 0.9481 - val_recall_m: 0.9447 - 595ms/epoch - 7ms/step\n",
            "Epoch 71/90\n",
            "88/88 - 1s - loss: 0.0363 - accuracy: 0.9886 - f1_m: 0.9885 - precision_m: 0.9901 - recall_m: 0.9869 - val_loss: 0.5361 - val_accuracy: 0.9421 - val_f1_m: 0.9431 - val_precision_m: 0.9452 - val_recall_m: 0.9411 - 579ms/epoch - 7ms/step\n",
            "Epoch 72/90\n",
            "88/88 - 1s - loss: 0.0413 - accuracy: 0.9888 - f1_m: 0.9889 - precision_m: 0.9905 - recall_m: 0.9873 - val_loss: 0.5206 - val_accuracy: 0.9418 - val_f1_m: 0.9426 - val_precision_m: 0.9444 - val_recall_m: 0.9407 - 594ms/epoch - 7ms/step\n",
            "Epoch 73/90\n",
            "88/88 - 1s - loss: 0.0384 - accuracy: 0.9889 - f1_m: 0.9889 - precision_m: 0.9908 - recall_m: 0.9869 - val_loss: 0.5086 - val_accuracy: 0.9446 - val_f1_m: 0.9465 - val_precision_m: 0.9494 - val_recall_m: 0.9436 - 593ms/epoch - 7ms/step\n",
            "Epoch 74/90\n",
            "88/88 - 1s - loss: 0.0298 - accuracy: 0.9916 - f1_m: 0.9916 - precision_m: 0.9930 - recall_m: 0.9901 - val_loss: 0.5971 - val_accuracy: 0.9382 - val_f1_m: 0.9389 - val_precision_m: 0.9409 - val_recall_m: 0.9369 - 577ms/epoch - 7ms/step\n",
            "Epoch 75/90\n",
            "88/88 - 1s - loss: 0.0289 - accuracy: 0.9910 - f1_m: 0.9910 - precision_m: 0.9924 - recall_m: 0.9895 - val_loss: 0.5688 - val_accuracy: 0.9425 - val_f1_m: 0.9432 - val_precision_m: 0.9445 - val_recall_m: 0.9418 - 584ms/epoch - 7ms/step\n",
            "Epoch 76/90\n",
            "88/88 - 1s - loss: 0.0310 - accuracy: 0.9909 - f1_m: 0.9907 - precision_m: 0.9924 - recall_m: 0.9889 - val_loss: 0.5409 - val_accuracy: 0.9468 - val_f1_m: 0.9480 - val_precision_m: 0.9496 - val_recall_m: 0.9465 - 599ms/epoch - 7ms/step\n",
            "Epoch 77/90\n",
            "88/88 - 1s - loss: 0.0355 - accuracy: 0.9896 - f1_m: 0.9890 - precision_m: 0.9907 - recall_m: 0.9874 - val_loss: 0.6206 - val_accuracy: 0.9382 - val_f1_m: 0.9389 - val_precision_m: 0.9406 - val_recall_m: 0.9372 - 594ms/epoch - 7ms/step\n",
            "Epoch 78/90\n",
            "88/88 - 1s - loss: 0.0457 - accuracy: 0.9875 - f1_m: 0.9875 - precision_m: 0.9892 - recall_m: 0.9857 - val_loss: 0.5804 - val_accuracy: 0.9371 - val_f1_m: 0.9386 - val_precision_m: 0.9410 - val_recall_m: 0.9362 - 589ms/epoch - 7ms/step\n",
            "Epoch 79/90\n",
            "88/88 - 1s - loss: 0.0454 - accuracy: 0.9871 - f1_m: 0.9871 - precision_m: 0.9887 - recall_m: 0.9855 - val_loss: 0.5215 - val_accuracy: 0.9443 - val_f1_m: 0.9452 - val_precision_m: 0.9472 - val_recall_m: 0.9433 - 581ms/epoch - 7ms/step\n",
            "Epoch 80/90\n",
            "88/88 - 1s - loss: 0.0345 - accuracy: 0.9896 - f1_m: 0.9901 - precision_m: 0.9919 - recall_m: 0.9884 - val_loss: 0.5872 - val_accuracy: 0.9443 - val_f1_m: 0.9455 - val_precision_m: 0.9484 - val_recall_m: 0.9426 - 582ms/epoch - 7ms/step\n",
            "Epoch 81/90\n",
            "88/88 - 1s - loss: 0.0334 - accuracy: 0.9893 - f1_m: 0.9892 - precision_m: 0.9906 - recall_m: 0.9877 - val_loss: 0.6108 - val_accuracy: 0.9393 - val_f1_m: 0.9413 - val_precision_m: 0.9442 - val_recall_m: 0.9385 - 597ms/epoch - 7ms/step\n",
            "Epoch 82/90\n",
            "88/88 - 1s - loss: 0.0522 - accuracy: 0.9850 - f1_m: 0.9856 - precision_m: 0.9881 - recall_m: 0.9830 - val_loss: 0.5198 - val_accuracy: 0.9479 - val_f1_m: 0.9491 - val_precision_m: 0.9510 - val_recall_m: 0.9472 - 583ms/epoch - 7ms/step\n",
            "Epoch 83/90\n",
            "88/88 - 1s - loss: 0.0363 - accuracy: 0.9899 - f1_m: 0.9898 - precision_m: 0.9919 - recall_m: 0.9878 - val_loss: 0.5609 - val_accuracy: 0.9414 - val_f1_m: 0.9419 - val_precision_m: 0.9449 - val_recall_m: 0.9390 - 669ms/epoch - 8ms/step\n",
            "Epoch 84/90\n",
            "88/88 - 1s - loss: 0.0242 - accuracy: 0.9930 - f1_m: 0.9930 - precision_m: 0.9943 - recall_m: 0.9917 - val_loss: 0.5809 - val_accuracy: 0.9471 - val_f1_m: 0.9479 - val_precision_m: 0.9501 - val_recall_m: 0.9457 - 608ms/epoch - 7ms/step\n",
            "Epoch 85/90\n",
            "88/88 - 1s - loss: 0.0355 - accuracy: 0.9889 - f1_m: 0.9894 - precision_m: 0.9907 - recall_m: 0.9882 - val_loss: 0.5859 - val_accuracy: 0.9464 - val_f1_m: 0.9476 - val_precision_m: 0.9502 - val_recall_m: 0.9451 - 588ms/epoch - 7ms/step\n",
            "Epoch 86/90\n",
            "88/88 - 1s - loss: 0.0235 - accuracy: 0.9927 - f1_m: 0.9924 - precision_m: 0.9936 - recall_m: 0.9912 - val_loss: 0.6099 - val_accuracy: 0.9436 - val_f1_m: 0.9442 - val_precision_m: 0.9459 - val_recall_m: 0.9425 - 592ms/epoch - 7ms/step\n",
            "Epoch 87/90\n",
            "88/88 - 1s - loss: 0.0271 - accuracy: 0.9908 - f1_m: 0.9912 - precision_m: 0.9923 - recall_m: 0.9901 - val_loss: 0.6313 - val_accuracy: 0.9411 - val_f1_m: 0.9401 - val_precision_m: 0.9417 - val_recall_m: 0.9384 - 598ms/epoch - 7ms/step\n",
            "Epoch 88/90\n",
            "88/88 - 1s - loss: 0.0381 - accuracy: 0.9895 - f1_m: 0.9893 - precision_m: 0.9907 - recall_m: 0.9879 - val_loss: 0.6804 - val_accuracy: 0.9400 - val_f1_m: 0.9404 - val_precision_m: 0.9426 - val_recall_m: 0.9383 - 577ms/epoch - 7ms/step\n",
            "Epoch 89/90\n",
            "88/88 - 1s - loss: 0.0280 - accuracy: 0.9914 - f1_m: 0.9916 - precision_m: 0.9925 - recall_m: 0.9906 - val_loss: 0.6157 - val_accuracy: 0.9425 - val_f1_m: 0.9428 - val_precision_m: 0.9438 - val_recall_m: 0.9418 - 681ms/epoch - 8ms/step\n",
            "Epoch 90/90\n",
            "88/88 - 1s - loss: 0.0424 - accuracy: 0.9870 - f1_m: 0.9873 - precision_m: 0.9890 - recall_m: 0.9855 - val_loss: 0.5632 - val_accuracy: 0.9407 - val_f1_m: 0.9412 - val_precision_m: 0.9426 - val_recall_m: 0.9399 - 579ms/epoch - 7ms/step\n"
          ]
        }
      ]
    },
    {
      "cell_type": "code",
      "metadata": {
        "colab": {
          "base_uri": "https://localhost:8080/",
          "height": 541
        },
        "id": "_KhMrugWIPcv",
        "outputId": "d0d94a00-5d86-42a5-abda-7a48e72bb2a5"
      },
      "source": [
        "x_plot = list(range(1,n_epochs+1))\n",
        "\n",
        "def plot_history(network_history):\n",
        "    plt.figure()\n",
        "    plt.xlabel('Epochs')\n",
        "    plt.ylabel('Loss')\n",
        "    plt.plot(x_plot, network_history.history['loss'])\n",
        "    plt.plot(x_plot, network_history.history['val_loss'])\n",
        "    plt.legend(['Training', 'Validation'])\n",
        "\n",
        "    plt.figure()\n",
        "    plt.xlabel('Epochs')\n",
        "    plt.ylabel('Accuracy')\n",
        "    plt.plot(x_plot, network_history.history['accuracy'])\n",
        "    plt.plot(x_plot, network_history.history['val_accuracy'])\n",
        "    plt.legend(['Training', 'Validation'], loc='lower right')\n",
        "    plt.show()\n",
        "\n",
        "plot_history(network_history)"
      ],
      "execution_count": 251,
      "outputs": [
        {
          "output_type": "display_data",
          "data": {
            "image/png": "[encoded data removed]",
            "text/plain": [
              "<Figure size 432x288 with 1 Axes>"
            ]
          },
          "metadata": {
            "needs_background": "light"
          }
        },
        {
          "output_type": "display_data",
          "data": {
            "image/png": "[encoded data removed]",
            "text/plain": [
              "<Figure size 432x288 with 1 Axes>"
            ]
          },
          "metadata": {
            "needs_background": "light"
          }
        }
      ]
    },
    {
      "cell_type": "markdown",
      "metadata": {
        "id": "1TnCgv0_Icj2"
      },
      "source": [
        "\n",
        "Dal grafico si evidenzia: la perdita diminuisce e la precisione molto simile tra training e validation, non molto overfitting.\n",
        "\n"
      ]
    },
    {
      "cell_type": "code",
      "metadata": {
        "colab": {
          "base_uri": "https://localhost:8080/"
        },
        "id": "R2GelkVNwXtQ",
        "outputId": "b8fef34b-d8bc-46ec-a02d-97c02717e5b4"
      },
      "source": [
        "# quickly get the performance score\n",
        "score =  model_drop.evaluate(x_train,y_train, batch_size=128) #evaluating the models accuracy or loss,\n",
        "print('test loss, test acc:', score)"
      ],
      "execution_count": 252,
      "outputs": [
        {
          "output_type": "stream",
          "name": "stdout",
          "text": [
            "88/88 [==============================] - 0s 3ms/step - loss: 0.0078 - accuracy: 0.9983 - f1_m: 0.9983 - precision_m: 0.9984 - recall_m: 0.9982\n",
            "test loss, test acc: [0.007796702440828085, 0.9983035922050476, 0.9983128905296326, 0.9984019994735718, 0.9982244372367859]\n"
          ]
        }
      ]
    },
    {
      "cell_type": "code",
      "metadata": {
        "colab": {
          "base_uri": "https://localhost:8080/"
        },
        "id": "lZ9V3-PoLqAZ",
        "outputId": "4814c57a-649b-42a5-bcbf-1cd04cc73d53"
      },
      "source": [
        "print(\"\\n%s: %.2f%%\" % ( model_drop.metrics_names[1], score[1]*100))\n",
        "print(\"\\n%s: %.2f%%\" % ( model_drop.metrics_names[2], score[2]*100))\n",
        "print(\"\\n%s: %.2f%%\" % ( model_drop.metrics_names[3], score[3]*100))\n",
        "print(\"\\n%s: %.2f%%\" % ( model_drop.metrics_names[4], score[4]*100))\n",
        "print(\"\\n%s: %.2f\" % ( model_drop.metrics_names[0], score[0]*100))"
      ],
      "execution_count": 253,
      "outputs": [
        {
          "output_type": "stream",
          "name": "stdout",
          "text": [
            "\n",
            "accuracy: 99.83%\n",
            "\n",
            "f1_m: 99.83%\n",
            "\n",
            "precision_m: 99.84%\n",
            "\n",
            "recall_m: 99.82%\n",
            "\n",
            "loss: 0.78\n"
          ]
        }
      ]
    },
    {
      "cell_type": "markdown",
      "metadata": {
        "id": "cIBcWktBzeuT"
      },
      "source": [
        "Dal risultato si evidenzia un buon modello."
      ]
    },
    {
      "cell_type": "markdown",
      "metadata": {
        "id": "5MhCwXroWmf9"
      },
      "source": [
        "## Make predictions (on the provided test set)\n",
        "\n",
        "Based on the results obtained and analyzed during the training and the validation phases, what are your (rather _personal_) expectations with respect to the performances of your model on the blind external test set? Briefly motivate your answer."
      ]
    },
    {
      "cell_type": "code",
      "metadata": {
        "colab": {
          "base_uri": "https://localhost:8080/"
        },
        "id": "sLnxms3FQeEh",
        "outputId": "bf0a4b55-f2c7-4193-a869-f1cb3f8536d3"
      },
      "source": [
        "predictions = model_drop.predict(x_test)#predicted labels\n",
        "print('predictions shape:', predictions.shape)\n",
        "predictions[:3]"
      ],
      "execution_count": 254,
      "outputs": [
        {
          "output_type": "stream",
          "name": "stdout",
          "text": [
            "predictions shape: (8800, 27)\n"
          ]
        },
        {
          "output_type": "execute_result",
          "data": {
            "text/plain": [
              "array([[2.8741443e-23, 5.8817696e-23, 1.4625587e-23, 2.1191328e-22,\n",
              "        8.6790027e-24, 4.2428655e-24, 2.1008814e-26, 1.6401358e-19,\n",
              "        1.0357538e-22, 1.4795110e-23, 3.1329988e-22, 2.5692411e-23,\n",
              "        4.8344786e-18, 8.4525073e-24, 5.5924255e-21, 1.6289125e-19,\n",
              "        7.2020474e-14, 1.9390095e-12, 9.2418601e-11, 9.1953462e-20,\n",
              "        6.2824229e-17, 7.2740647e-08, 9.9999964e-01, 2.1894819e-10,\n",
              "        4.0689441e-10, 1.8406185e-07, 3.3024306e-17],\n",
              "       [3.3938261e-38, 2.3833585e-31, 0.0000000e+00, 1.4462266e-37,\n",
              "        3.4546086e-35, 1.0138797e-34, 0.0000000e+00, 1.9085561e-30,\n",
              "        3.2416810e-34, 3.4891572e-38, 0.0000000e+00, 1.4685257e-36,\n",
              "        9.4107035e-38, 0.0000000e+00, 9.4243843e-32, 1.0306519e-26,\n",
              "        1.6317789e-28, 1.6224714e-17, 1.8628432e-24, 4.0306033e-17,\n",
              "        1.0175115e-24, 3.3730190e-24, 0.0000000e+00, 1.3897010e-18,\n",
              "        7.0976109e-16, 4.2441060e-20, 1.0000000e+00],\n",
              "       [1.6510141e-19, 2.1375441e-24, 1.5148881e-19, 1.1038549e-21,\n",
              "        6.6404939e-18, 8.5566568e-21, 5.0110805e-23, 7.5844559e-20,\n",
              "        3.7247447e-22, 1.2493210e-19, 9.8044101e-23, 8.8184557e-19,\n",
              "        2.8945723e-18, 6.5530097e-22, 2.6269589e-16, 4.4135781e-18,\n",
              "        2.2476074e-17, 3.1003874e-10, 4.7209631e-15, 5.0289274e-12,\n",
              "        3.8859751e-05, 1.2285754e-12, 1.3672879e-08, 1.5106359e-18,\n",
              "        3.7250236e-06, 9.9995744e-01, 2.4122138e-17]], dtype=float32)"
            ]
          },
          "metadata": {},
          "execution_count": 254
        }
      ]
    },
    {
      "cell_type": "code",
      "metadata": {
        "colab": {
          "base_uri": "https://localhost:8080/"
        },
        "id": "Kn209T1xS5pu",
        "outputId": "6ffdf2fc-a7a1-4414-cae2-c447b4433524"
      },
      "source": [
        "# generate predictions for training\n",
        "trainPredict = model_drop.predict(x_train)\n",
        "testPredict = model_drop.predict(x_test)\n",
        "print(trainPredict)\n",
        "print(testPredict)"
      ],
      "execution_count": 255,
      "outputs": [
        {
          "output_type": "stream",
          "name": "stdout",
          "text": [
            "[[8.1173091e-21 5.4860149e-22 1.1483055e-21 ... 1.4685930e-21\n",
            "  9.0239915e-14 1.3192673e-08]\n",
            " [8.9993486e-13 5.9964734e-16 3.8282789e-14 ... 7.0515654e-10\n",
            "  4.0898165e-05 4.3535383e-08]\n",
            " [6.4583635e-29 2.9446857e-37 2.8841597e-32 ... 1.8197219e-20\n",
            "  2.0203073e-10 2.9213368e-21]\n",
            " ...\n",
            " [1.0907418e-20 4.7017297e-17 1.6149785e-20 ... 9.9999988e-01\n",
            "  9.7533082e-08 4.5330562e-11]\n",
            " [1.0848638e-24 3.5977377e-20 2.6182617e-27 ... 8.7638047e-10\n",
            "  1.6629708e-12 1.0000000e+00]\n",
            " [4.7489440e-18 2.1429921e-18 4.7771066e-18 ... 2.0640533e-08\n",
            "  4.4154309e-05 3.8075886e-14]]\n",
            "[[2.8741443e-23 5.8817696e-23 1.4625587e-23 ... 4.0689441e-10\n",
            "  1.8406185e-07 3.3024306e-17]\n",
            " [3.3938261e-38 2.3833585e-31 0.0000000e+00 ... 7.0976109e-16\n",
            "  4.2441060e-20 1.0000000e+00]\n",
            " [1.6510141e-19 2.1375441e-24 1.5148881e-19 ... 3.7250236e-06\n",
            "  9.9995744e-01 2.4122138e-17]\n",
            " ...\n",
            " [3.3094649e-27 5.0458690e-27 2.2257803e-27 ... 6.1155454e-13\n",
            "  2.6052852e-08 2.5779147e-20]\n",
            " [0.0000000e+00 2.0350936e-28 3.6587421e-37 ... 5.5030664e-18\n",
            "  5.7044934e-20 1.0325135e-18]\n",
            " [0.0000000e+00 0.0000000e+00 0.0000000e+00 ... 4.4907158e-34\n",
            "  1.3399241e-17 2.5578375e-32]]\n"
          ]
        }
      ]
    },
    {
      "cell_type": "markdown",
      "metadata": {
        "id": "9w-sa4AlaBJg"
      },
      "source": [
        "## [OPTIONAL] -- Export the predictions in the format indicated in the assignment release page."
      ]
    },
    {
      "cell_type": "code",
      "metadata": {
        "id": "tTPSYsbVaAQ_"
      },
      "source": [
        ""
      ],
      "execution_count": 156,
      "outputs": []
    },
    {
      "cell_type": "markdown",
      "metadata": {
        "id": "5DvuOTd2pZ3r"
      },
      "source": [
        "# 2. The developement of a simple auto-encoder model  [Mandatory]\n",
        "visually investigating  the reconstruction abilities of such an architecture, i.e. comparison of the input and the output (reconstructed input) (as seen in class)."
      ]
    },
    {
      "cell_type": "markdown",
      "metadata": {
        "id": "rrhYuXdUp0s7"
      },
      "source": [
        "## Building the network\n",
        "\n",
        "note: performance evaluation is suggested but NOT STRICTLY REQUIRED for the autoencoder model."
      ]
    },
    {
      "cell_type": "markdown",
      "metadata": {
        "id": "LFOKrFlrWaOd"
      },
      "source": [
        "\n",
        "Come prima cosa dobbiamo diminuire le dimensioni per un fattore di compressione pari a 24.5 quindi si passa da dimensione 784 a 32.\n",
        "Avviene tramite due layers, il primo con 128 neuroni ed il secondo con  32 neuroni. Ho provato diverse combinazioni e funzioni:\n",
        "\n",
        "**Funzione di attivazione**: Ho scelto la funzione ReLU che è adatta per questo modello e in generale è una buona scelta per i livelli nascosti.\n",
        "\n",
        "**Optimizer**: Ho scelto Adadelta perché determina prestazioni migliori,Adadelta è un'estensione più robusta di Adagrad che adatta i tassi di apprendimento in base a una finestra mobile di aggiornamenti dei gradienti, invece di accumulare tutti i gradienti passati.\n",
        "\n",
        "**Perdita:** Ho scelto la binary_crossentropy perchè determinava miglior performance.\n",
        "\n",
        "\n",
        "**Funzione di output**: Ho scelto la funzione sigmoid che  ha performance migliori.\n",
        "\n"
      ]
    },
    {
      "cell_type": "code",
      "metadata": {
        "id": "7ch1w7j5qKGJ"
      },
      "source": [
        "# size of encoded representations\n",
        "encoding_dim = 32  # 32 floats -> compression of factor 24.5, assuming the input is 784 floats\n",
        "\n",
        "#input placeholder\n",
        "input_img = Input(shape=(784,))\n",
        "\n",
        "# \"encoded\" are the encoded representations of the input\n",
        "encoded = Dense(128, activation='relu')(input_img)\n",
        "encoded_1 = Dense(encoding_dim, activation='relu')(encoded)    \n",
        "\n",
        "# \"decoded\" are the lossy reconstructions of the input\n",
        "decoded = Dense(128, activation='relu')(encoded_1)\n",
        "decoded_1 = Dense(784, activation='sigmoid')(decoded)\n",
        "\n",
        "# this model maps an input to its reconstruction\n",
        "autoencoder = Model(input_img, decoded_1)"
      ],
      "execution_count": 256,
      "outputs": []
    },
    {
      "cell_type": "code",
      "metadata": {
        "id": "3RaAvwbRTk_4"
      },
      "source": [
        "# this model maps an input to its encoded representation\n",
        "encoder = Model(input_img, encoded_1)\n",
        "\n",
        "\n",
        "# create a placeholder for an encoded (32-dimensional) input\n",
        "encoded_input = Input(shape=(encoding_dim,))\n",
        "\n",
        "# retrieve the last layer of the autoencoder model\n",
        "decoder_layer = autoencoder.layers[-2](encoded_input)\n",
        "decoder_layer_1 = autoencoder.layers[-1](decoder_layer)\n",
        "\n",
        "# create the decoder model\n",
        "decoder = Model(encoded_input, decoder_layer_1)\n"
      ],
      "execution_count": 257,
      "outputs": []
    },
    {
      "cell_type": "code",
      "metadata": {
        "colab": {
          "base_uri": "https://localhost:8080/"
        },
        "id": "Xxk3BOvzTo-6",
        "outputId": "692856e1-3302-4832-acee-c0b79b7c8c91"
      },
      "source": [
        "autoencoder.compile(optimizer='adadelta', loss='binary_crossentropy',metrics = [\"mse\"])\n",
        "autoencoder.summary()\n",
        "\n",
        "\n",
        "# x_train, x_train :\n",
        "autoencoder_model = autoencoder.fit(x_train, x_train,\n",
        "                epochs=70,\n",
        "                batch_size=256,\n",
        "                shuffle=True,\n",
        "                validation_data=(x_val, x_val))\n",
        "\n"
      ],
      "execution_count": 258,
      "outputs": [
        {
          "output_type": "stream",
          "name": "stdout",
          "text": [
            "Model: \"model_9\"\n",
            "_________________________________________________________________\n",
            " Layer (type)                Output Shape              Param #   \n",
            "=================================================================\n",
            " input_7 (InputLayer)        [(None, 784)]             0         \n",
            "                                                                 \n",
            " dense_71 (Dense)            (None, 128)               100480    \n",
            "                                                                 \n",
            " dense_72 (Dense)            (None, 32)                4128      \n",
            "                                                                 \n",
            " dense_73 (Dense)            (None, 128)               4224      \n",
            "                                                                 \n",
            " dense_74 (Dense)            (None, 784)               101136    \n",
            "                                                                 \n",
            "=================================================================\n",
            "Total params: 209,968\n",
            "Trainable params: 209,968\n",
            "Non-trainable params: 0\n",
            "_________________________________________________________________\n",
            "Epoch 1/70\n",
            "44/44 [==============================] - 1s 22ms/step - loss: 0.6931 - mse: 0.2169 - val_loss: 0.6930 - val_mse: 0.2169\n",
            "Epoch 2/70\n",
            "44/44 [==============================] - 1s 18ms/step - loss: 0.6931 - mse: 0.2169 - val_loss: 0.6930 - val_mse: 0.2168\n",
            "Epoch 3/70\n",
            "44/44 [==============================] - 1s 18ms/step - loss: 0.6930 - mse: 0.2169 - val_loss: 0.6930 - val_mse: 0.2168\n",
            "Epoch 4/70\n",
            "44/44 [==============================] - 1s 18ms/step - loss: 0.6930 - mse: 0.2169 - val_loss: 0.6930 - val_mse: 0.2168\n",
            "Epoch 5/70\n",
            "44/44 [==============================] - 1s 19ms/step - loss: 0.6930 - mse: 0.2169 - val_loss: 0.6929 - val_mse: 0.2168\n",
            "Epoch 6/70\n",
            "44/44 [==============================] - 1s 18ms/step - loss: 0.6930 - mse: 0.2169 - val_loss: 0.6929 - val_mse: 0.2168\n",
            "Epoch 7/70\n",
            "44/44 [==============================] - 1s 18ms/step - loss: 0.6929 - mse: 0.2169 - val_loss: 0.6929 - val_mse: 0.2168\n",
            "Epoch 8/70\n",
            "44/44 [==============================] - 1s 18ms/step - loss: 0.6929 - mse: 0.2168 - val_loss: 0.6929 - val_mse: 0.2168\n",
            "Epoch 9/70\n",
            "44/44 [==============================] - 1s 18ms/step - loss: 0.6929 - mse: 0.2168 - val_loss: 0.6928 - val_mse: 0.2168\n",
            "Epoch 10/70\n",
            "44/44 [==============================] - 1s 18ms/step - loss: 0.6929 - mse: 0.2168 - val_loss: 0.6928 - val_mse: 0.2167\n",
            "Epoch 11/70\n",
            "44/44 [==============================] - 1s 18ms/step - loss: 0.6928 - mse: 0.2168 - val_loss: 0.6928 - val_mse: 0.2167\n",
            "Epoch 12/70\n",
            "44/44 [==============================] - 1s 18ms/step - loss: 0.6928 - mse: 0.2168 - val_loss: 0.6927 - val_mse: 0.2167\n",
            "Epoch 13/70\n",
            "44/44 [==============================] - 1s 18ms/step - loss: 0.6928 - mse: 0.2168 - val_loss: 0.6927 - val_mse: 0.2167\n",
            "Epoch 14/70\n",
            "44/44 [==============================] - 1s 19ms/step - loss: 0.6927 - mse: 0.2168 - val_loss: 0.6927 - val_mse: 0.2167\n",
            "Epoch 15/70\n",
            "44/44 [==============================] - 1s 18ms/step - loss: 0.6927 - mse: 0.2168 - val_loss: 0.6927 - val_mse: 0.2167\n",
            "Epoch 16/70\n",
            "44/44 [==============================] - 1s 18ms/step - loss: 0.6927 - mse: 0.2167 - val_loss: 0.6926 - val_mse: 0.2167\n",
            "Epoch 17/70\n",
            "44/44 [==============================] - 1s 18ms/step - loss: 0.6927 - mse: 0.2167 - val_loss: 0.6926 - val_mse: 0.2167\n",
            "Epoch 18/70\n",
            "44/44 [==============================] - 1s 19ms/step - loss: 0.6926 - mse: 0.2167 - val_loss: 0.6926 - val_mse: 0.2166\n",
            "Epoch 19/70\n",
            "44/44 [==============================] - 1s 18ms/step - loss: 0.6926 - mse: 0.2167 - val_loss: 0.6926 - val_mse: 0.2166\n",
            "Epoch 20/70\n",
            "44/44 [==============================] - 1s 18ms/step - loss: 0.6926 - mse: 0.2167 - val_loss: 0.6925 - val_mse: 0.2166\n",
            "Epoch 21/70\n",
            "44/44 [==============================] - 1s 18ms/step - loss: 0.6926 - mse: 0.2167 - val_loss: 0.6925 - val_mse: 0.2166\n",
            "Epoch 22/70\n",
            "44/44 [==============================] - 1s 18ms/step - loss: 0.6925 - mse: 0.2167 - val_loss: 0.6925 - val_mse: 0.2166\n",
            "Epoch 23/70\n",
            "44/44 [==============================] - 1s 18ms/step - loss: 0.6925 - mse: 0.2166 - val_loss: 0.6925 - val_mse: 0.2166\n",
            "Epoch 24/70\n",
            "44/44 [==============================] - 1s 18ms/step - loss: 0.6925 - mse: 0.2166 - val_loss: 0.6924 - val_mse: 0.2166\n",
            "Epoch 25/70\n",
            "44/44 [==============================] - 1s 18ms/step - loss: 0.6925 - mse: 0.2166 - val_loss: 0.6924 - val_mse: 0.2166\n",
            "Epoch 26/70\n",
            "44/44 [==============================] - 1s 18ms/step - loss: 0.6924 - mse: 0.2166 - val_loss: 0.6924 - val_mse: 0.2165\n",
            "Epoch 27/70\n",
            "44/44 [==============================] - 1s 18ms/step - loss: 0.6924 - mse: 0.2166 - val_loss: 0.6924 - val_mse: 0.2165\n",
            "Epoch 28/70\n",
            "44/44 [==============================] - 1s 18ms/step - loss: 0.6924 - mse: 0.2166 - val_loss: 0.6923 - val_mse: 0.2165\n",
            "Epoch 29/70\n",
            "44/44 [==============================] - 1s 18ms/step - loss: 0.6924 - mse: 0.2166 - val_loss: 0.6923 - val_mse: 0.2165\n",
            "Epoch 30/70\n",
            "44/44 [==============================] - 1s 18ms/step - loss: 0.6923 - mse: 0.2166 - val_loss: 0.6923 - val_mse: 0.2165\n",
            "Epoch 31/70\n",
            "44/44 [==============================] - 1s 18ms/step - loss: 0.6923 - mse: 0.2165 - val_loss: 0.6923 - val_mse: 0.2165\n",
            "Epoch 32/70\n",
            "44/44 [==============================] - 1s 18ms/step - loss: 0.6923 - mse: 0.2165 - val_loss: 0.6922 - val_mse: 0.2165\n",
            "Epoch 33/70\n",
            "44/44 [==============================] - 1s 18ms/step - loss: 0.6923 - mse: 0.2165 - val_loss: 0.6922 - val_mse: 0.2164\n",
            "Epoch 34/70\n",
            "44/44 [==============================] - 1s 18ms/step - loss: 0.6922 - mse: 0.2165 - val_loss: 0.6922 - val_mse: 0.2164\n",
            "Epoch 35/70\n",
            "44/44 [==============================] - 1s 18ms/step - loss: 0.6922 - mse: 0.2165 - val_loss: 0.6922 - val_mse: 0.2164\n",
            "Epoch 36/70\n",
            "44/44 [==============================] - 1s 18ms/step - loss: 0.6922 - mse: 0.2165 - val_loss: 0.6921 - val_mse: 0.2164\n",
            "Epoch 37/70\n",
            "44/44 [==============================] - 1s 18ms/step - loss: 0.6922 - mse: 0.2165 - val_loss: 0.6921 - val_mse: 0.2164\n",
            "Epoch 38/70\n",
            "44/44 [==============================] - 1s 18ms/step - loss: 0.6921 - mse: 0.2165 - val_loss: 0.6921 - val_mse: 0.2164\n",
            "Epoch 39/70\n",
            "44/44 [==============================] - 1s 18ms/step - loss: 0.6921 - mse: 0.2164 - val_loss: 0.6920 - val_mse: 0.2164\n",
            "Epoch 40/70\n",
            "44/44 [==============================] - 1s 18ms/step - loss: 0.6921 - mse: 0.2164 - val_loss: 0.6920 - val_mse: 0.2164\n",
            "Epoch 41/70\n",
            "44/44 [==============================] - 1s 18ms/step - loss: 0.6920 - mse: 0.2164 - val_loss: 0.6920 - val_mse: 0.2163\n",
            "Epoch 42/70\n",
            "44/44 [==============================] - 1s 18ms/step - loss: 0.6920 - mse: 0.2164 - val_loss: 0.6920 - val_mse: 0.2163\n",
            "Epoch 43/70\n",
            "44/44 [==============================] - 1s 19ms/step - loss: 0.6920 - mse: 0.2164 - val_loss: 0.6919 - val_mse: 0.2163\n",
            "Epoch 44/70\n",
            "44/44 [==============================] - 1s 18ms/step - loss: 0.6920 - mse: 0.2164 - val_loss: 0.6919 - val_mse: 0.2163\n",
            "Epoch 45/70\n",
            "44/44 [==============================] - 1s 18ms/step - loss: 0.6919 - mse: 0.2164 - val_loss: 0.6919 - val_mse: 0.2163\n",
            "Epoch 46/70\n",
            "44/44 [==============================] - 1s 18ms/step - loss: 0.6919 - mse: 0.2163 - val_loss: 0.6919 - val_mse: 0.2163\n",
            "Epoch 47/70\n",
            "44/44 [==============================] - 1s 18ms/step - loss: 0.6919 - mse: 0.2163 - val_loss: 0.6918 - val_mse: 0.2163\n",
            "Epoch 48/70\n",
            "44/44 [==============================] - 1s 18ms/step - loss: 0.6919 - mse: 0.2163 - val_loss: 0.6918 - val_mse: 0.2163\n",
            "Epoch 49/70\n",
            "44/44 [==============================] - 1s 18ms/step - loss: 0.6918 - mse: 0.2163 - val_loss: 0.6918 - val_mse: 0.2162\n",
            "Epoch 50/70\n",
            "44/44 [==============================] - 1s 18ms/step - loss: 0.6918 - mse: 0.2163 - val_loss: 0.6918 - val_mse: 0.2162\n",
            "Epoch 51/70\n",
            "44/44 [==============================] - 1s 19ms/step - loss: 0.6918 - mse: 0.2163 - val_loss: 0.6917 - val_mse: 0.2162\n",
            "Epoch 52/70\n",
            "44/44 [==============================] - 1s 18ms/step - loss: 0.6918 - mse: 0.2163 - val_loss: 0.6917 - val_mse: 0.2162\n",
            "Epoch 53/70\n",
            "44/44 [==============================] - 1s 18ms/step - loss: 0.6917 - mse: 0.2163 - val_loss: 0.6917 - val_mse: 0.2162\n",
            "Epoch 54/70\n",
            "44/44 [==============================] - 1s 18ms/step - loss: 0.6917 - mse: 0.2162 - val_loss: 0.6917 - val_mse: 0.2162\n",
            "Epoch 55/70\n",
            "44/44 [==============================] - 1s 18ms/step - loss: 0.6917 - mse: 0.2162 - val_loss: 0.6916 - val_mse: 0.2162\n",
            "Epoch 56/70\n",
            "44/44 [==============================] - 1s 19ms/step - loss: 0.6917 - mse: 0.2162 - val_loss: 0.6916 - val_mse: 0.2161\n",
            "Epoch 57/70\n",
            "44/44 [==============================] - 1s 18ms/step - loss: 0.6916 - mse: 0.2162 - val_loss: 0.6916 - val_mse: 0.2161\n",
            "Epoch 58/70\n",
            "44/44 [==============================] - 1s 18ms/step - loss: 0.6916 - mse: 0.2162 - val_loss: 0.6915 - val_mse: 0.2161\n",
            "Epoch 59/70\n",
            "44/44 [==============================] - 1s 18ms/step - loss: 0.6916 - mse: 0.2162 - val_loss: 0.6915 - val_mse: 0.2161\n",
            "Epoch 60/70\n",
            "44/44 [==============================] - 1s 18ms/step - loss: 0.6915 - mse: 0.2162 - val_loss: 0.6915 - val_mse: 0.2161\n",
            "Epoch 61/70\n",
            "44/44 [==============================] - 1s 18ms/step - loss: 0.6915 - mse: 0.2161 - val_loss: 0.6915 - val_mse: 0.2161\n",
            "Epoch 62/70\n",
            "44/44 [==============================] - 1s 18ms/step - loss: 0.6915 - mse: 0.2161 - val_loss: 0.6914 - val_mse: 0.2161\n",
            "Epoch 63/70\n",
            "44/44 [==============================] - 1s 18ms/step - loss: 0.6915 - mse: 0.2161 - val_loss: 0.6914 - val_mse: 0.2161\n",
            "Epoch 64/70\n",
            "44/44 [==============================] - 1s 18ms/step - loss: 0.6914 - mse: 0.2161 - val_loss: 0.6914 - val_mse: 0.2160\n",
            "Epoch 65/70\n",
            "44/44 [==============================] - 1s 18ms/step - loss: 0.6914 - mse: 0.2161 - val_loss: 0.6914 - val_mse: 0.2160\n",
            "Epoch 66/70\n",
            "44/44 [==============================] - 1s 18ms/step - loss: 0.6914 - mse: 0.2161 - val_loss: 0.6913 - val_mse: 0.2160\n",
            "Epoch 67/70\n",
            "44/44 [==============================] - 1s 19ms/step - loss: 0.6914 - mse: 0.2161 - val_loss: 0.6913 - val_mse: 0.2160\n",
            "Epoch 68/70\n",
            "44/44 [==============================] - 1s 18ms/step - loss: 0.6913 - mse: 0.2161 - val_loss: 0.6913 - val_mse: 0.2160\n",
            "Epoch 69/70\n",
            "44/44 [==============================] - 1s 19ms/step - loss: 0.6913 - mse: 0.2160 - val_loss: 0.6913 - val_mse: 0.2160\n",
            "Epoch 70/70\n",
            "44/44 [==============================] - 1s 18ms/step - loss: 0.6913 - mse: 0.2160 - val_loss: 0.6912 - val_mse: 0.2160\n"
          ]
        }
      ]
    },
    {
      "cell_type": "markdown",
      "metadata": {
        "id": "DzKCuN3hdlpz"
      },
      "source": [
        "Ho effetuato diversi tentativi e notato che dopo 70 epoche con batch size a 256, l’autoencoder raggiunge buone performance."
      ]
    },
    {
      "cell_type": "markdown",
      "metadata": {
        "id": "IbcGgMHmqNVL"
      },
      "source": [
        "## Inspecting the visual results \n",
        "\n",
        "Investigate the reconstruction capabilities of autoencoders by comparing (in a multi-column plot) the visual representation of some input data (5 to 10 samples) with the reconstruction of such samples (output of the autoencoder)."
      ]
    },
    {
      "cell_type": "code",
      "metadata": {
        "id": "XpJuD0dwqje4"
      },
      "source": [
        "\n",
        "encoded_imgs_train = encoder.predict(x_train)\n",
        "decoded_imgs_train = decoder.predict(encoded_imgs_train)\n",
        "\n",
        "encoded_imgs_val = encoder.predict(x_val)\n",
        "decoded_imgs_val = decoder.predict(encoded_imgs_val)"
      ],
      "execution_count": 259,
      "outputs": []
    },
    {
      "cell_type": "code",
      "metadata": {
        "colab": {
          "base_uri": "https://localhost:8080/",
          "height": 252
        },
        "id": "sDrngQWaUqdf",
        "outputId": "5edc5292-8bae-4401-fe76-9201fe17e477"
      },
      "source": [
        "plt.figure(figsize=(40, 4))\n",
        "for i in range(10):\n",
        "    \n",
        "    # display original\n",
        "    ax = plt.subplot(3, 20, i + 1)\n",
        "    plt.imshow(x_val[i].reshape(28, 28))\n",
        "    plt.gray()\n",
        "    ax.get_xaxis().set_visible(False)\n",
        "    ax.get_yaxis().set_visible(False)\n",
        "    \n",
        "    # display encoded image\n",
        "    ax = plt.subplot(3, 20, i + 1 + 20)\n",
        "    plt.imshow(encoded_imgs_val[i].reshape(8,4))\n",
        "    plt.gray()\n",
        "    ax.get_xaxis().set_visible(False)\n",
        "    ax.get_yaxis().set_visible(False)\n",
        "    \n",
        "    # display reconstruction\n",
        "    ax = plt.subplot(3, 20, 2*20 + i + 1)\n",
        "    plt.imshow(decoded_imgs_val[i].reshape(28, 28))\n",
        "    plt.gray()\n",
        "    ax.get_xaxis().set_visible(False)\n",
        "    ax.get_yaxis().set_visible(False)\n",
        "    \n",
        "plt.show()"
      ],
      "execution_count": 260,
      "outputs": [
        {
          "output_type": "display_data",
          "data": {
            "image/png": "[encoded data removed]",
            "text/plain": [
              "<Figure size 2880x288 with 30 Axes>"
            ]
          },
          "metadata": {
            "needs_background": "light"
          }
        }
      ]
    },
    {
      "cell_type": "markdown",
      "metadata": {
        "id": "DkHO5trlZi9o"
      },
      "source": [
        "L’architettura dell’autoencoder riesce quindi a comprimere e ricostruire le immagini con una perdita minima come si vede dal grafico."
      ]
    },
    {
      "cell_type": "markdown",
      "metadata": {
        "id": "YXefW3LIqrDS"
      },
      "source": [
        "# 3. [OPTIONAL] The use and evaluation of the encoded representation generated by the auto-encoder to solve the problem of supervised classification.\n",
        "\n",
        "the idea is to take the encoded representation generated by the autoencoder developed in Section 2., and classify letters based on this representation.\n",
        "\n",
        "In other words, instead of feeding images directly thought a classifier (can be a Neural Network, but also a machine learning algorithm such as SVM, RF..), you can try to use the encoded representations as input for the classification task.\n",
        "\n",
        "Briefly compare the results with those obtained in Section 1."
      ]
    },
    {
      "cell_type": "code",
      "metadata": {
        "id": "dvDohKwvqxAy"
      },
      "source": [
        ""
      ],
      "execution_count": 161,
      "outputs": []
    }
  ]
}